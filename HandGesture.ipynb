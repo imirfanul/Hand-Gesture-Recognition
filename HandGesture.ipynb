{
  "nbformat": 4,
  "nbformat_minor": 0,
  "metadata": {
    "accelerator": "GPU",
    "colab": {
      "name": "HandGesture",
      "provenance": [],
      "collapsed_sections": [],
      "mount_file_id": "1TgJTnr4N-lDJjYldzycWL-L0Ns2An33Y",
      "authorship_tag": "ABX9TyMY7TIFSoqr+ZaUR6jOaqIs"
    },
    "kernelspec": {
      "display_name": "Python 3",
      "name": "python3"
    }
  },
  "cells": [
    {
      "cell_type": "code",
      "metadata": {
        "id": "1C0oho4eQbeU"
      },
      "source": [
        "#Tanveer_1728042\n",
        "from pydrive.auth import GoogleAuth\n",
        "from pydrive.drive import GoogleDrive\n",
        "from google.colab import auth\n",
        "from oauth2client.client import GoogleCredentials\n"
      ],
      "execution_count": 1,
      "outputs": []
    },
    {
      "cell_type": "code",
      "metadata": {
        "id": "SeCsx_Nvzq9J"
      },
      "source": [
        "auth.authenticate_user()\n",
        "gauth = GoogleAuth()\n",
        "gauth.credentials = GoogleCredentials.get_application_default()\n",
        "drive = GoogleDrive(gauth)"
      ],
      "execution_count": 2,
      "outputs": []
    },
    {
      "cell_type": "code",
      "metadata": {
        "id": "6YBvUCtC0IN4"
      },
      "source": [
        "downloaded = drive.CreateFile({'id':'1LY2kUaXY62IxGXsKziS-TZsxBnIFwCHK'}) # replace the id with id of file you want to access\n",
        "downloaded.GetContentFile('kaggle.json') "
      ],
      "execution_count": 3,
      "outputs": []
    },
    {
      "cell_type": "code",
      "metadata": {
        "id": "vrPb-5bQ1ixt"
      },
      "source": [
        "!mkdir -p ~/.kaggle\n",
        "!cp kaggle.json ~/.kaggle/\n",
        "!chmod 600 ~/.kaggle/kaggle.json"
      ],
      "execution_count": 4,
      "outputs": []
    },
    {
      "cell_type": "code",
      "metadata": {
        "id": "eKRHdAeYrrD3",
        "outputId": "5d1ab5ce-7465-4574-9e66-389c521c292f",
        "colab": {
          "base_uri": "https://localhost:8080/"
        }
      },
      "source": [
        "%cd /content/drive/Shared drives/Tanveer"
      ],
      "execution_count": null,
      "outputs": [
        {
          "output_type": "stream",
          "text": [
            "/content/drive/Shared drives/Tanveer\n"
          ],
          "name": "stdout"
        }
      ]
    },
    {
      "cell_type": "code",
      "metadata": {
        "id": "D_05U2nX2Xxi",
        "outputId": "abb6fddf-e80f-4eda-fb3c-e3b428521fbb",
        "colab": {
          "base_uri": "https://localhost:8080/",
          "height": 0
        }
      },
      "source": [
        "!kaggle datasets download -d toxicmender/20bn-jester"
      ],
      "execution_count": 5,
      "outputs": [
        {
          "output_type": "stream",
          "text": [
            "Downloading 20bn-jester.zip to /content\n",
            "100% 11.9G/11.9G [04:48<00:00, 79.9MB/s]\n",
            "100% 11.9G/11.9G [04:48<00:00, 44.4MB/s]\n"
          ],
          "name": "stdout"
        }
      ]
    },
    {
      "cell_type": "code",
      "metadata": {
        "id": "Og8U32tg4aFf",
        "outputId": "a82c9f14-a123-4e07-c6c8-3a988a78d150",
        "colab": {
          "base_uri": "https://localhost:8080/",
          "height": 0
        }
      },
      "source": [
        "from zipfile import ZipFile\n",
        "file_name = \"20bn-jester.zip\"\n",
        "\n",
        "with ZipFile(file_name,'r') as zip:\n",
        "  zip.extractall()\n",
        "  print('Done')"
      ],
      "execution_count": 6,
      "outputs": [
        {
          "output_type": "stream",
          "text": [
            "Done\n"
          ],
          "name": "stdout"
        }
      ]
    },
    {
      "cell_type": "code",
      "metadata": {
        "id": "1-QQ8vsN7H6s"
      },
      "source": [
        "!cp -r \"/content/Train.csv\" \"/content/drive/Shared drives/Tanveer\""
      ],
      "execution_count": null,
      "outputs": []
    },
    {
      "cell_type": "code",
      "metadata": {
        "id": "dkr8HXLjTe7F"
      },
      "source": [
        "import numpy as np\n",
        "import pandas as pd\n",
        "import tensorflow as tf\n",
        "import cv2\n",
        "from tqdm import tqdm\n",
        "\n",
        "import seaborn as sbn\n",
        "import matplotlib.image as img\n",
        "import matplotlib.pyplot as plt\n",
        "from sklearn.preprocessing import StandardScaler\n",
        "\n",
        "import os\n",
        "import gc\n",
        "import math"
      ],
      "execution_count": 1,
      "outputs": []
    },
    {
      "cell_type": "markdown",
      "metadata": {
        "id": "fUdltNd8UYg5"
      },
      "source": [
        "**Making smaller set**\n",
        "\n",
        "The classes (labels) we want to use"
      ]
    },
    {
      "cell_type": "code",
      "metadata": {
        "id": "GkGIU_dUUSm7"
      },
      "source": [
        "LABELS = {\n",
        "    \"Swiping Right\": 0,\n",
        "    \"Swiping Left\": 1,\n",
        "    \"No gesture\": 2,\n",
        "    \"Thumb Up\": 3,\n",
        "    \"Sliding Two Fingers Up\": 4,\n",
        "    \"Sliding Two Fingers Down\": 5,\n",
        "}"
      ],
      "execution_count": 2,
      "outputs": []
    },
    {
      "cell_type": "markdown",
      "metadata": {
        "id": "85tV1h3SUtPx"
      },
      "source": [
        "**Loading Data**"
      ]
    },
    {
      "cell_type": "code",
      "metadata": {
        "id": "iNga_mEAU1fg"
      },
      "source": [
        "BASE_PATH = '/content'\n",
        "TRAIN_DATA_CSV = BASE_PATH + '/Train.csv'\n",
        "TEST_DATA_CSV = BASE_PATH + '/Test.csv'\n",
        "VAL_DATA_CSV = BASE_PATH + '/Validation.csv'\n",
        "\n",
        "TRAIN_SAMPLES_PATH = BASE_PATH + '/Train/'\n",
        "TEST_SAMPLES_PATH = BASE_PATH + '/Test/'\n",
        "VAL_SAMPLES_PATH = BASE_PATH + '/Validation/'"
      ],
      "execution_count": 3,
      "outputs": []
    },
    {
      "cell_type": "markdown",
      "metadata": {
        "id": "kYv9_PEiVFj9"
      },
      "source": [
        "Training targets, you can use your custom csv file if you already created it before"
      ]
    },
    {
      "cell_type": "code",
      "metadata": {
        "id": "DzLJn2DHVIBG",
        "outputId": "169116cf-fb1b-4b3b-b03c-a7966020dca6",
        "colab": {
          "base_uri": "https://localhost:8080/",
          "height": 419
        }
      },
      "source": [
        "targets = pd.read_csv(TRAIN_DATA_CSV)\n",
        "targets = targets[targets['label'].isin(LABELS.keys())]\n",
        "targets['label'] = targets['label'].map(LABELS)\n",
        "targets = targets[['video_id', 'label']]\n",
        "targets = targets.reset_index()\n",
        "targets"
      ],
      "execution_count": 4,
      "outputs": [
        {
          "output_type": "execute_result",
          "data": {
            "text/html": [
              "<div>\n",
              "<style scoped>\n",
              "    .dataframe tbody tr th:only-of-type {\n",
              "        vertical-align: middle;\n",
              "    }\n",
              "\n",
              "    .dataframe tbody tr th {\n",
              "        vertical-align: top;\n",
              "    }\n",
              "\n",
              "    .dataframe thead th {\n",
              "        text-align: right;\n",
              "    }\n",
              "</style>\n",
              "<table border=\"1\" class=\"dataframe\">\n",
              "  <thead>\n",
              "    <tr style=\"text-align: right;\">\n",
              "      <th></th>\n",
              "      <th>index</th>\n",
              "      <th>video_id</th>\n",
              "      <th>label</th>\n",
              "    </tr>\n",
              "  </thead>\n",
              "  <tbody>\n",
              "    <tr>\n",
              "      <th>0</th>\n",
              "      <td>3</td>\n",
              "      <td>11</td>\n",
              "      <td>5</td>\n",
              "    </tr>\n",
              "    <tr>\n",
              "      <th>1</th>\n",
              "      <td>10</td>\n",
              "      <td>36</td>\n",
              "      <td>4</td>\n",
              "    </tr>\n",
              "    <tr>\n",
              "      <th>2</th>\n",
              "      <td>13</td>\n",
              "      <td>42</td>\n",
              "      <td>4</td>\n",
              "    </tr>\n",
              "    <tr>\n",
              "      <th>3</th>\n",
              "      <td>15</td>\n",
              "      <td>50</td>\n",
              "      <td>2</td>\n",
              "    </tr>\n",
              "    <tr>\n",
              "      <th>4</th>\n",
              "      <td>16</td>\n",
              "      <td>51</td>\n",
              "      <td>0</td>\n",
              "    </tr>\n",
              "    <tr>\n",
              "      <th>...</th>\n",
              "      <td>...</td>\n",
              "      <td>...</td>\n",
              "      <td>...</td>\n",
              "    </tr>\n",
              "    <tr>\n",
              "      <th>10783</th>\n",
              "      <td>50410</td>\n",
              "      <td>148070</td>\n",
              "      <td>0</td>\n",
              "    </tr>\n",
              "    <tr>\n",
              "      <th>10784</th>\n",
              "      <td>50411</td>\n",
              "      <td>148075</td>\n",
              "      <td>2</td>\n",
              "    </tr>\n",
              "    <tr>\n",
              "      <th>10785</th>\n",
              "      <td>50415</td>\n",
              "      <td>148084</td>\n",
              "      <td>2</td>\n",
              "    </tr>\n",
              "    <tr>\n",
              "      <th>10786</th>\n",
              "      <td>50417</td>\n",
              "      <td>148088</td>\n",
              "      <td>4</td>\n",
              "    </tr>\n",
              "    <tr>\n",
              "      <th>10787</th>\n",
              "      <td>50418</td>\n",
              "      <td>148090</td>\n",
              "      <td>1</td>\n",
              "    </tr>\n",
              "  </tbody>\n",
              "</table>\n",
              "<p>10788 rows × 3 columns</p>\n",
              "</div>"
            ],
            "text/plain": [
              "       index  video_id  label\n",
              "0          3        11      5\n",
              "1         10        36      4\n",
              "2         13        42      4\n",
              "3         15        50      2\n",
              "4         16        51      0\n",
              "...      ...       ...    ...\n",
              "10783  50410    148070      0\n",
              "10784  50411    148075      2\n",
              "10785  50415    148084      2\n",
              "10786  50417    148088      4\n",
              "10787  50418    148090      1\n",
              "\n",
              "[10788 rows x 3 columns]"
            ]
          },
          "metadata": {
            "tags": []
          },
          "execution_count": 4
        }
      ]
    },
    {
      "cell_type": "markdown",
      "metadata": {
        "id": "R1qk_6lOWhhv"
      },
      "source": [
        "Validation targets, you can use your custom csv file if you already created it before"
      ]
    },
    {
      "cell_type": "code",
      "metadata": {
        "id": "slnOMvUiWkAs",
        "outputId": "c7dd460e-4b8f-4744-cee4-fe03f8e4a9ca",
        "colab": {
          "base_uri": "https://localhost:8080/",
          "height": 419
        }
      },
      "source": [
        "targets_validation = pd.read_csv(VAL_DATA_CSV)\n",
        "targets_validation = targets_validation[targets_validation['label'].isin(LABELS.keys())]\n",
        "targets_validation['label'] = targets_validation['label'].map(LABELS)\n",
        "targets_validation = targets_validation[['video_id', 'label']]\n",
        "targets_validation = targets_validation.reset_index()\n",
        "targets_validation"
      ],
      "execution_count": 5,
      "outputs": [
        {
          "output_type": "execute_result",
          "data": {
            "text/html": [
              "<div>\n",
              "<style scoped>\n",
              "    .dataframe tbody tr th:only-of-type {\n",
              "        vertical-align: middle;\n",
              "    }\n",
              "\n",
              "    .dataframe tbody tr th {\n",
              "        vertical-align: top;\n",
              "    }\n",
              "\n",
              "    .dataframe thead th {\n",
              "        text-align: right;\n",
              "    }\n",
              "</style>\n",
              "<table border=\"1\" class=\"dataframe\">\n",
              "  <thead>\n",
              "    <tr style=\"text-align: right;\">\n",
              "      <th></th>\n",
              "      <th>index</th>\n",
              "      <th>video_id</th>\n",
              "      <th>label</th>\n",
              "    </tr>\n",
              "  </thead>\n",
              "  <tbody>\n",
              "    <tr>\n",
              "      <th>0</th>\n",
              "      <td>4</td>\n",
              "      <td>96</td>\n",
              "      <td>0</td>\n",
              "    </tr>\n",
              "    <tr>\n",
              "      <th>1</th>\n",
              "      <td>13</td>\n",
              "      <td>358</td>\n",
              "      <td>2</td>\n",
              "    </tr>\n",
              "    <tr>\n",
              "      <th>2</th>\n",
              "      <td>17</td>\n",
              "      <td>420</td>\n",
              "      <td>3</td>\n",
              "    </tr>\n",
              "    <tr>\n",
              "      <th>3</th>\n",
              "      <td>18</td>\n",
              "      <td>441</td>\n",
              "      <td>4</td>\n",
              "    </tr>\n",
              "    <tr>\n",
              "      <th>4</th>\n",
              "      <td>26</td>\n",
              "      <td>610</td>\n",
              "      <td>3</td>\n",
              "    </tr>\n",
              "    <tr>\n",
              "      <th>...</th>\n",
              "      <td>...</td>\n",
              "      <td>...</td>\n",
              "      <td>...</td>\n",
              "    </tr>\n",
              "    <tr>\n",
              "      <th>1460</th>\n",
              "      <td>7020</td>\n",
              "      <td>147395</td>\n",
              "      <td>3</td>\n",
              "    </tr>\n",
              "    <tr>\n",
              "      <th>1461</th>\n",
              "      <td>7023</td>\n",
              "      <td>147492</td>\n",
              "      <td>4</td>\n",
              "    </tr>\n",
              "    <tr>\n",
              "      <th>1462</th>\n",
              "      <td>7029</td>\n",
              "      <td>147649</td>\n",
              "      <td>4</td>\n",
              "    </tr>\n",
              "    <tr>\n",
              "      <th>1463</th>\n",
              "      <td>7032</td>\n",
              "      <td>147727</td>\n",
              "      <td>5</td>\n",
              "    </tr>\n",
              "    <tr>\n",
              "      <th>1464</th>\n",
              "      <td>7046</td>\n",
              "      <td>148071</td>\n",
              "      <td>1</td>\n",
              "    </tr>\n",
              "  </tbody>\n",
              "</table>\n",
              "<p>1465 rows × 3 columns</p>\n",
              "</div>"
            ],
            "text/plain": [
              "      index  video_id  label\n",
              "0         4        96      0\n",
              "1        13       358      2\n",
              "2        17       420      3\n",
              "3        18       441      4\n",
              "4        26       610      3\n",
              "...     ...       ...    ...\n",
              "1460   7020    147395      3\n",
              "1461   7023    147492      4\n",
              "1462   7029    147649      4\n",
              "1463   7032    147727      5\n",
              "1464   7046    148071      1\n",
              "\n",
              "[1465 rows x 3 columns]"
            ]
          },
          "metadata": {
            "tags": []
          },
          "execution_count": 5
        }
      ]
    },
    {
      "cell_type": "markdown",
      "metadata": {
        "id": "1AfjqtBBWsUh"
      },
      "source": [
        "**Preprocessing**"
      ]
    },
    {
      "cell_type": "code",
      "metadata": {
        "id": "XZ2nZacaZ3Ue"
      },
      "source": [
        "# image specification\n",
        "img_rows,img_cols=64, 64 "
      ],
      "execution_count": 6,
      "outputs": []
    },
    {
      "cell_type": "code",
      "metadata": {
        "id": "hTTdLoyWWuhw"
      },
      "source": [
        "def rgb2gray(rgb):\n",
        "    \"\"\"\n",
        "    Converts numpy array of RGB to grayscale\n",
        "    \"\"\"\n",
        "    return np.dot(rgb[...,:3], [0.2989, 0.5870, 0.1140])"
      ],
      "execution_count": 7,
      "outputs": []
    },
    {
      "cell_type": "code",
      "metadata": {
        "id": "BPi0TFjqW0MC"
      },
      "source": [
        "def resize_frame(frame):\n",
        "    \"\"\"\n",
        "    Resizes frames to (64, 64)\n",
        "    \"\"\"\n",
        "    frame = img.imread(frame)\n",
        "    frame = cv2.resize(frame, (img_rows,img_cols),interpolation=cv2.INTER_AREA)\n",
        "    return frame"
      ],
      "execution_count": 8,
      "outputs": []
    },
    {
      "cell_type": "markdown",
      "metadata": {
        "id": "Y2uo2TNiW6yv"
      },
      "source": [
        "The videos do not have the same number of frames, here we try to unify."
      ]
    },
    {
      "cell_type": "code",
      "metadata": {
        "id": "XzHisiMpW77x"
      },
      "source": [
        "hm_frames = 30 # number of frames\n",
        "def get_unify_frames(path):\n",
        "    \"\"\"\n",
        "    Unifies number of frames for each training\n",
        "    \"\"\"\n",
        "    offset = 0\n",
        "    # pick frames\n",
        "    frames = os.listdir(path)\n",
        "    frames_count = len(frames)\n",
        "    # unify number of frames \n",
        "    if hm_frames > frames_count:\n",
        "        # duplicate last frame if video is shorter than necessary\n",
        "        frames += [frames[-1]] * (hm_frames - frames_count)\n",
        "    elif hm_frames < frames_count:\n",
        "        # If there are more frames, then sample starting offset\n",
        "        # diff = (frames_count - hm_frames)\n",
        "        # offset = diff-1 \n",
        "        frames = frames[0:hm_frames]\n",
        "    return frames"
      ],
      "execution_count": 9,
      "outputs": []
    },
    {
      "cell_type": "markdown",
      "metadata": {
        "id": "YgdpJj50XIpc"
      },
      "source": [
        "Adjust data"
      ]
    },
    {
      "cell_type": "code",
      "metadata": {
        "id": "So1A44SCXKjx",
        "outputId": "baa8d1f7-f2ce-48e8-965b-0807d4bfd5db",
        "colab": {
          "base_uri": "https://localhost:8080/"
        }
      },
      "source": [
        "# Adjust training data\n",
        "train_targets = [] # training targets \n",
        "test_targets = [] # testing targets\n",
        "\n",
        "new_frames = [] # training data after resize & unify\n",
        "new_frames_test = [] # testing data after resize & unify\n",
        "\n",
        "for idx, row in tqdm(targets.iterrows(), total=len(targets)):\n",
        "    if idx % 4 == 0:\n",
        "        continue\n",
        "    \n",
        "    partition = [] # one training\n",
        "    # Frames in each folder\n",
        "    frames = get_unify_frames(TRAIN_SAMPLES_PATH + str(row['video_id']))\n",
        "    if len(frames) == hm_frames: # just to be sure\n",
        "        for frame in frames:\n",
        "            frame = resize_frame(TRAIN_SAMPLES_PATH + str(row['video_id']) + '/' + frame)\n",
        "            partition.append(rgb2gray(frame))\n",
        "            if len(partition) == 15: # partition each training on two trainings.\n",
        "                if idx % 6 == 0:\n",
        "                    new_frames_test.append(partition) # append each partition to training data\n",
        "                    test_targets.append(row['label'])\n",
        "                else:\n",
        "                    new_frames.append(partition) # append each partition to test data\n",
        "                    train_targets.append(row['label'])\n",
        "                partition = []\n",
        "\n",
        "train_data = np.asarray(new_frames, dtype=np.float16)\n",
        "\n",
        "del new_frames[:]\n",
        "del new_frames\n",
        "\n",
        "\n",
        "test_data = np.asarray(new_frames_test, dtype=np.float16)\n",
        "del new_frames_test[:]\n",
        "del new_frames_test\n",
        "\n",
        "gc.collect()"
      ],
      "execution_count": 10,
      "outputs": [
        {
          "output_type": "stream",
          "text": [
            "100%|██████████| 10788/10788 [05:56<00:00, 30.23it/s]\n"
          ],
          "name": "stderr"
        },
        {
          "output_type": "execute_result",
          "data": {
            "text/plain": [
              "11"
            ]
          },
          "metadata": {
            "tags": []
          },
          "execution_count": 10
        }
      ]
    },
    {
      "cell_type": "code",
      "metadata": {
        "id": "v5ChQwzCX9Bx",
        "outputId": "375c4e6b-8b08-4f32-c624-be98f1b8619c",
        "colab": {
          "base_uri": "https://localhost:8080/"
        }
      },
      "source": [
        "# we do the same for the validation data\n",
        "cv_targets = []\n",
        "new_frames_cv = []\n",
        "for idx, row in tqdm(targets_validation.iterrows(), total=len(targets_validation)):\n",
        "    if idx % 4 == 0:\n",
        "        continue\n",
        "\n",
        "    partition = []\n",
        "    # Frames in each folder\n",
        "    frames = get_unify_frames(VAL_SAMPLES_PATH+str(row[\"video_id\"]))\n",
        "    for frame in frames:\n",
        "        frame = resize_frame(VAL_SAMPLES_PATH+str(row[\"video_id\"])+'/'+frame)\n",
        "        partition.append(rgb2gray(frame))\n",
        "        if len(partition) == 15:\n",
        "            new_frames_cv.append(partition)\n",
        "            cv_targets.append(row['label'])\n",
        "            partition = []\n",
        "                \n",
        "cv_data = np.array(new_frames_cv, dtype=np.float16)\n",
        "del new_frames_cv[:]\n",
        "del new_frames_cv\n",
        "gc.collect()"
      ],
      "execution_count": 11,
      "outputs": [
        {
          "output_type": "stream",
          "text": [
            "100%|██████████| 1465/1465 [00:48<00:00, 30.03it/s]\n"
          ],
          "name": "stderr"
        },
        {
          "output_type": "execute_result",
          "data": {
            "text/plain": [
              "0"
            ]
          },
          "metadata": {
            "tags": []
          },
          "execution_count": 11
        }
      ]
    },
    {
      "cell_type": "code",
      "metadata": {
        "id": "cdWcwjhIX-73",
        "outputId": "08d3a7ba-84f9-4707-808e-0d1a68d422a5",
        "colab": {
          "base_uri": "https://localhost:8080/"
        }
      },
      "source": [
        "print(f\"Training = {len(train_data)}/{len(train_targets)} samples/labels\")\n",
        "print(f\"Test = {len(test_data)}/{len(test_targets)} samples/labels\")\n",
        "print(f\"Validation = {len(cv_data)}/{len(cv_targets)} samples/labels\")"
      ],
      "execution_count": 12,
      "outputs": [
        {
          "output_type": "stream",
          "text": [
            "Training = 14384/14384 samples/labels\n",
            "Test = 1798/1798 samples/labels\n",
            "Validation = 2196/2196 samples/labels\n"
          ],
          "name": "stdout"
        }
      ]
    },
    {
      "cell_type": "code",
      "metadata": {
        "id": "teG-Sg_vMtVI"
      },
      "source": [
        "nb_classes = 6\n",
        "patch_size = 15    # img_depth or number of frames used for each video"
      ],
      "execution_count": 13,
      "outputs": []
    },
    {
      "cell_type": "code",
      "metadata": {
        "id": "wrNMlRC-tvZo",
        "outputId": "68f68882-eb27-4a05-87a3-4971ea939610",
        "colab": {
          "base_uri": "https://localhost:8080/"
        }
      },
      "source": [
        "num_samples = len(train_data)\n",
        "print(num_samples)"
      ],
      "execution_count": 14,
      "outputs": [
        {
          "output_type": "stream",
          "text": [
            "14384\n"
          ],
          "name": "stdout"
        }
      ]
    },
    {
      "cell_type": "markdown",
      "metadata": {
        "id": "truQO_5zYX62"
      },
      "source": [
        "Feature scaling"
      ]
    },
    {
      "cell_type": "code",
      "metadata": {
        "id": "JDplRZ2OYZZb",
        "outputId": "c85bc492-a662-42dc-ca45-5716af715d07",
        "colab": {
          "base_uri": "https://localhost:8080/"
        }
      },
      "source": [
        "# Normalisation: training\n",
        "print('old mean', train_data.mean())\n",
        "\n",
        "scaler = StandardScaler(copy=False)\n",
        "scaled_images  = scaler.fit_transform(train_data.reshape(-1, 15*64*64))\n",
        "del train_data\n",
        "print('new mean', scaled_images.mean())\n",
        "\n",
        "scaled_images  = scaled_images.reshape(-1, 15, 64, 64, 1)\n",
        "print(scaled_images.shape)"
      ],
      "execution_count": 15,
      "outputs": [
        {
          "output_type": "stream",
          "text": [
            "old mean 115.44\n",
            "new mean 2.4e-07\n",
            "(14384, 15, 64, 64, 1)\n"
          ],
          "name": "stdout"
        }
      ]
    },
    {
      "cell_type": "code",
      "metadata": {
        "id": "zYZGll5DYiQA",
        "outputId": "cea2c83e-963b-4d7d-8713-b48bcb0d87a2",
        "colab": {
          "base_uri": "https://localhost:8080/",
          "height": 231
        }
      },
      "source": [
        "# Normalisation: test\n",
        "print('old mean', test_data.mean())\n",
        "\n",
        "scaler = StandardScaler(copy=False)\n",
        "scaled_images_test = scaler.fit_transform(test_data.reshape(-1, 15*64*64))\n",
        "del test_data\n",
        "print('new mean', scaled_images_test.mean())\n",
        "\n",
        "scaled_images_test = scaled_images_test.reshape(-1, 15, 64, 64, 1)\n",
        "print(scaled_images_test.shape)"
      ],
      "execution_count": 17,
      "outputs": [
        {
          "output_type": "error",
          "ename": "NameError",
          "evalue": "ignored",
          "traceback": [
            "\u001b[0;31m---------------------------------------------------------------------------\u001b[0m",
            "\u001b[0;31mNameError\u001b[0m                                 Traceback (most recent call last)",
            "\u001b[0;32m<ipython-input-17-e147975cc41d>\u001b[0m in \u001b[0;36m<module>\u001b[0;34m()\u001b[0m\n\u001b[1;32m      1\u001b[0m \u001b[0;31m# Normalisation: test\u001b[0m\u001b[0;34m\u001b[0m\u001b[0;34m\u001b[0m\u001b[0;34m\u001b[0m\u001b[0m\n\u001b[0;32m----> 2\u001b[0;31m \u001b[0mprint\u001b[0m\u001b[0;34m(\u001b[0m\u001b[0;34m'old mean'\u001b[0m\u001b[0;34m,\u001b[0m \u001b[0mtest_data\u001b[0m\u001b[0;34m.\u001b[0m\u001b[0mmean\u001b[0m\u001b[0;34m(\u001b[0m\u001b[0;34m)\u001b[0m\u001b[0;34m)\u001b[0m\u001b[0;34m\u001b[0m\u001b[0;34m\u001b[0m\u001b[0m\n\u001b[0m\u001b[1;32m      3\u001b[0m \u001b[0;34m\u001b[0m\u001b[0m\n\u001b[1;32m      4\u001b[0m \u001b[0mscaler\u001b[0m \u001b[0;34m=\u001b[0m \u001b[0mStandardScaler\u001b[0m\u001b[0;34m(\u001b[0m\u001b[0mcopy\u001b[0m\u001b[0;34m=\u001b[0m\u001b[0;32mFalse\u001b[0m\u001b[0;34m)\u001b[0m\u001b[0;34m\u001b[0m\u001b[0;34m\u001b[0m\u001b[0m\n\u001b[1;32m      5\u001b[0m \u001b[0mscaled_images_test\u001b[0m \u001b[0;34m=\u001b[0m \u001b[0mscaler\u001b[0m\u001b[0;34m.\u001b[0m\u001b[0mfit_transform\u001b[0m\u001b[0;34m(\u001b[0m\u001b[0mtest_data\u001b[0m\u001b[0;34m.\u001b[0m\u001b[0mreshape\u001b[0m\u001b[0;34m(\u001b[0m\u001b[0;34m-\u001b[0m\u001b[0;36m1\u001b[0m\u001b[0;34m,\u001b[0m \u001b[0;36m15\u001b[0m\u001b[0;34m*\u001b[0m\u001b[0;36m64\u001b[0m\u001b[0;34m*\u001b[0m\u001b[0;36m64\u001b[0m\u001b[0;34m)\u001b[0m\u001b[0;34m)\u001b[0m\u001b[0;34m\u001b[0m\u001b[0;34m\u001b[0m\u001b[0m\n",
            "\u001b[0;31mNameError\u001b[0m: name 'test_data' is not defined"
          ]
        }
      ]
    },
    {
      "cell_type": "code",
      "metadata": {
        "id": "a97zQT9BYj-S",
        "outputId": "d1107a40-5f42-4a56-c6bf-b040bb382a25",
        "colab": {
          "base_uri": "https://localhost:8080/"
        }
      },
      "source": [
        "# Normalisation: validation\n",
        "print('old mean', cv_data.mean())\n",
        "\n",
        "scaler = StandardScaler(copy=False)\n",
        "scaled_images_cv  = scaler.fit_transform(cv_data.reshape(-1, 15*64*64))\n",
        "del cv_data\n",
        "print('new mean',scaled_images_cv.mean())\n",
        "\n",
        "scaled_images_cv  = scaled_images_cv.reshape(-1, 15, 64, 64, 1)\n",
        "print(scaled_images_cv.shape)"
      ],
      "execution_count": 18,
      "outputs": [
        {
          "output_type": "stream",
          "text": [
            "old mean 111.9\n",
            "new mean 0.0\n",
            "(2196, 15, 64, 64, 1)\n"
          ],
          "name": "stdout"
        }
      ]
    },
    {
      "cell_type": "code",
      "metadata": {
        "id": "i3B5ObuvZGtT"
      },
      "source": [
        "del scaler"
      ],
      "execution_count": 19,
      "outputs": []
    },
    {
      "cell_type": "markdown",
      "metadata": {
        "id": "EomvawMeZobc"
      },
      "source": [
        "**Make sets**"
      ]
    },
    {
      "cell_type": "code",
      "metadata": {
        "id": "A8400WEXZrh4"
      },
      "source": [
        "y_train = np.array(train_targets, dtype=np.int8)\n",
        "y_test = np.array(test_targets, dtype=np.int8)\n",
        "y_val = np.array(cv_targets, dtype=np.int8)\n",
        "del train_targets\n",
        "del test_targets\n",
        "del cv_targets"
      ],
      "execution_count": 20,
      "outputs": []
    },
    {
      "cell_type": "code",
      "metadata": {
        "id": "IVoLhKMfZxNB"
      },
      "source": [
        "x_train = scaled_images\n",
        "x_test = scaled_images_test\n",
        "x_val = scaled_images_cv\n",
        "del scaled_images\n",
        "del scaled_images_test\n",
        "del scaled_images_cv"
      ],
      "execution_count": 21,
      "outputs": []
    },
    {
      "cell_type": "code",
      "metadata": {
        "id": "Gqbo7LOFZ3ay",
        "outputId": "30a902b2-7533-4375-8e97-94b270963cdb",
        "colab": {
          "base_uri": "https://localhost:8080/"
        }
      },
      "source": [
        "gc.collect()"
      ],
      "execution_count": 22,
      "outputs": [
        {
          "output_type": "execute_result",
          "data": {
            "text/plain": [
              "0"
            ]
          },
          "metadata": {
            "tags": []
          },
          "execution_count": 22
        }
      ]
    },
    {
      "cell_type": "code",
      "metadata": {
        "id": "atHPxUAhPPpR"
      },
      "source": [
        "from keras.preprocessing.image import ImageDataGenerator\n",
        "from keras.models import Sequential\n",
        "from keras.layers.core import Dense, Dropout, Activation, Flatten, Reshape\n",
        "from keras.layers.convolutional import Conv3D, MaxPooling3D,Conv2D,AveragePooling2D,AveragePooling3D\n",
        "from keras.layers import Dense, GlobalAveragePooling3D,GlobalAveragePooling2D\n",
        "from keras.callbacks import EarlyStopping, ModelCheckpoint, LearningRateScheduler,ReduceLROnPlateau\n",
        "from keras.optimizers import SGD, RMSprop, Adadelta\n",
        "from keras.utils import np_utils, generic_utils\n",
        "from keras.layers.normalization import BatchNormalization\n",
        "from keras.layers.convolutional_recurrent import ConvLSTM2D\n",
        "\n",
        "import theano\n",
        "import os\n",
        "import matplotlib\n",
        "import matplotlib.pyplot as plt\n",
        "import numpy as np\n",
        "import cv2\n",
        "from sklearn.model_selection import train_test_split\n",
        "#from sklearn import cross_validation\n",
        "from sklearn import preprocessing"
      ],
      "execution_count": 23,
      "outputs": []
    },
    {
      "cell_type": "markdown",
      "metadata": {
        "id": "c5vMknt-Z96u"
      },
      "source": [
        "**Model**"
      ]
    },
    {
      "cell_type": "code",
      "metadata": {
        "id": "9sc-l4CeUr_O"
      },
      "source": [
        "import keras\n",
        "# Define model\n",
        "#high resolution network\n",
        "from keras import regularizers\n",
        "weight_decay = 0.005\n",
        "model = Sequential()\n",
        "model.add(Conv3D(4,(3,7,7),input_shape=(patch_size, img_cols, img_rows, 1),activation='relu',kernel_regularizer=regularizers.l2(weight_decay)))\n",
        "model.add(MaxPooling3D(pool_size=(1, 2, 2)))\n",
        "model.add(Dropout(0.25))\n",
        "print(model.output_shape)\n",
        "model.add(Conv3D(8,(3,5,5), activation='relu',kernel_regularizer=regularizers.l2(weight_decay)))\n",
        "model.add(MaxPooling3D(pool_size=(2, 2, 2)))\n",
        "model.add(Dropout(0.25))\n",
        "print(model.output_shape)\n",
        "model.add(Conv3D(32,(3,5,5), activation='relu',kernel_regularizer=regularizers.l2(weight_decay)))\n",
        "model.add(MaxPooling3D(pool_size=(1, 1, 2)))\n",
        "model.add(Dropout(0.25))\n",
        "print(model.output_shape)\n",
        "model.add(BatchNormalization())\n",
        "model.add(ConvLSTM2D(40,(3,3)))         \n",
        "model.add(Flatten())\n",
        "model.add(Dense(512, activation='relu',kernel_regularizer=regularizers.l2(weight_decay)))\n",
        "model.add(Dropout(0.5))\n",
        "\n",
        "model.add(Dense(256, activation='relu',kernel_regularizer=regularizers.l2(weight_decay)))\n",
        "model.add(Dropout(0.5))\n",
        "\n",
        "model.add(Dense(nb_classes,kernel_initializer='normal',kernel_regularizer=regularizers.l2(weight_decay)))\n",
        "\n",
        "model.add(Activation('softmax'))"
      ],
      "execution_count": null,
      "outputs": []
    },
    {
      "cell_type": "markdown",
      "metadata": {
        "id": "yD_oMzD7behb"
      },
      "source": [
        "**Test Model 2**"
      ]
    },
    {
      "cell_type": "code",
      "metadata": {
        "id": "y0n8k7UEbZ1U"
      },
      "source": [
        "from keras.models import Sequential, Model\n",
        "from keras.layers import Dense, GRU, Flatten, TimeDistributed, Flatten, BatchNormalization, Activation, Dropout\n",
        "from keras.layers.convolutional import Conv3D, MaxPooling3D\n",
        "from keras.callbacks import ModelCheckpoint, ReduceLROnPlateau\n",
        "from keras.losses import categorical_crossentropy\n",
        "from keras.optimizers import Adam\n",
        "# Define model\n",
        "model = Sequential()\n",
        "\n",
        "model.add(Conv3D(8, \n",
        "                 kernel_size=(3,3,3), \n",
        "                 input_shape=(patch_size, img_cols, img_rows, 1),\n",
        "                 padding='same'))\n",
        "model.add(BatchNormalization())\n",
        "model.add(Activation('relu'))\n",
        "\n",
        "model.add(MaxPooling3D(pool_size=(2,2,2)))\n",
        "\n",
        "model.add(Conv3D(16, \n",
        "                 kernel_size=(3,3,3), \n",
        "                 padding='same'))\n",
        "model.add(BatchNormalization())\n",
        "model.add(Activation('relu'))\n",
        "\n",
        "model.add(MaxPooling3D(pool_size=(2,2,2)))\n",
        "\n",
        "model.add(Conv3D(32, \n",
        "                 kernel_size=(1,3,3), \n",
        "                 padding='same'))\n",
        "model.add(BatchNormalization())\n",
        "model.add(Activation('relu'))\n",
        "\n",
        "model.add(MaxPooling3D(pool_size=(1,1,1)))\n",
        "\n",
        "model.add(Conv3D(64, \n",
        "                 kernel_size=(1,3,3), \n",
        "                 padding='same'))\n",
        "model.add(BatchNormalization())\n",
        "model.add(Activation('relu'))\n",
        "model.add(Dropout(0.25))\n",
        "\n",
        "model.add(MaxPooling3D(pool_size=(2,2,2)))\n",
        "\n",
        "#Flatten Layers\n",
        "model.add(Flatten())\n",
        "\n",
        "model.add(Dense(1000, activation='relu'))\n",
        "model.add(Dropout(0.5))\n",
        "\n",
        "model.add(Dense(500, activation='relu'))\n",
        "model.add(Dropout(0.5))\n",
        "\n",
        "#softmax layer\n",
        "model.add(Dense(6, activation='softmax'))"
      ],
      "execution_count": 24,
      "outputs": []
    },
    {
      "cell_type": "code",
      "metadata": {
        "id": "Mj5fgebvaTGX",
        "outputId": "540a7db9-23e1-4f8a-934e-d3e3fe93b0f6",
        "colab": {
          "base_uri": "https://localhost:8080/"
        }
      },
      "source": [
        "print(model.summary())"
      ],
      "execution_count": 25,
      "outputs": [
        {
          "output_type": "stream",
          "text": [
            "Model: \"sequential\"\n",
            "_________________________________________________________________\n",
            "Layer (type)                 Output Shape              Param #   \n",
            "=================================================================\n",
            "conv3d (Conv3D)              (None, 15, 64, 64, 8)     224       \n",
            "_________________________________________________________________\n",
            "batch_normalization (BatchNo (None, 15, 64, 64, 8)     32        \n",
            "_________________________________________________________________\n",
            "activation (Activation)      (None, 15, 64, 64, 8)     0         \n",
            "_________________________________________________________________\n",
            "max_pooling3d (MaxPooling3D) (None, 7, 32, 32, 8)      0         \n",
            "_________________________________________________________________\n",
            "conv3d_1 (Conv3D)            (None, 7, 32, 32, 16)     3472      \n",
            "_________________________________________________________________\n",
            "batch_normalization_1 (Batch (None, 7, 32, 32, 16)     64        \n",
            "_________________________________________________________________\n",
            "activation_1 (Activation)    (None, 7, 32, 32, 16)     0         \n",
            "_________________________________________________________________\n",
            "max_pooling3d_1 (MaxPooling3 (None, 3, 16, 16, 16)     0         \n",
            "_________________________________________________________________\n",
            "conv3d_2 (Conv3D)            (None, 3, 16, 16, 32)     4640      \n",
            "_________________________________________________________________\n",
            "batch_normalization_2 (Batch (None, 3, 16, 16, 32)     128       \n",
            "_________________________________________________________________\n",
            "activation_2 (Activation)    (None, 3, 16, 16, 32)     0         \n",
            "_________________________________________________________________\n",
            "max_pooling3d_2 (MaxPooling3 (None, 3, 16, 16, 32)     0         \n",
            "_________________________________________________________________\n",
            "conv3d_3 (Conv3D)            (None, 3, 16, 16, 64)     18496     \n",
            "_________________________________________________________________\n",
            "batch_normalization_3 (Batch (None, 3, 16, 16, 64)     256       \n",
            "_________________________________________________________________\n",
            "activation_3 (Activation)    (None, 3, 16, 16, 64)     0         \n",
            "_________________________________________________________________\n",
            "dropout (Dropout)            (None, 3, 16, 16, 64)     0         \n",
            "_________________________________________________________________\n",
            "max_pooling3d_3 (MaxPooling3 (None, 1, 8, 8, 64)       0         \n",
            "_________________________________________________________________\n",
            "flatten (Flatten)            (None, 4096)              0         \n",
            "_________________________________________________________________\n",
            "dense (Dense)                (None, 1000)              4097000   \n",
            "_________________________________________________________________\n",
            "dropout_1 (Dropout)          (None, 1000)              0         \n",
            "_________________________________________________________________\n",
            "dense_1 (Dense)              (None, 500)               500500    \n",
            "_________________________________________________________________\n",
            "dropout_2 (Dropout)          (None, 500)               0         \n",
            "_________________________________________________________________\n",
            "dense_2 (Dense)              (None, 6)                 3006      \n",
            "=================================================================\n",
            "Total params: 4,627,818\n",
            "Trainable params: 4,627,578\n",
            "Non-trainable params: 240\n",
            "_________________________________________________________________\n",
            "None\n"
          ],
          "name": "stdout"
        }
      ]
    },
    {
      "cell_type": "code",
      "metadata": {
        "id": "e-Hwdc_g-rUL",
        "outputId": "505de2f2-6dd3-4b69-9361-ae3da2e02fda",
        "colab": {
          "base_uri": "https://localhost:8080/",
          "height": 1000
        }
      },
      "source": [
        "from keras.utils.vis_utils import plot_model\n",
        "plot_model(model, show_shapes=True,\n",
        "               to_file=os.path.join('model.png'))"
      ],
      "execution_count": 26,
      "outputs": [
        {
          "output_type": "execute_result",
          "data": {
            "image/png": "[encoded data removed]",
            "text/plain": [
              "<IPython.core.display.Image object>"
            ]
          },
          "metadata": {
            "tags": []
          },
          "execution_count": 26
        }
      ]
    },
    {
      "cell_type": "code",
      "metadata": {
        "id": "eKg1Fvl5aymc"
      },
      "source": [
        "sgd = SGD(lr=0.005,  momentum=0.9, nesterov=False)\n",
        "#rms = RMSprop(decay=1e-6)\n",
        "#ada = Adadelta(lr=0.1,decay=1e-6)\n",
        "model.compile(loss='sparse_categorical_crossentropy', \n",
        "              optimizer=sgd,\n",
        "              #optimizer=ada,\n",
        "              metrics=['acc'])"
      ],
      "execution_count": 27,
      "outputs": []
    },
    {
      "cell_type": "code",
      "metadata": {
        "id": "0ZgytqjqQHVv"
      },
      "source": [
        "# Split the data\n",
        "X_train_new, X_val_new, y_train_new,y_val_new = train_test_split(x_train, y_train, test_size=0.2, random_state=20)\n"
      ],
      "execution_count": 28,
      "outputs": []
    },
    {
      "cell_type": "code",
      "metadata": {
        "id": "6ODv3ntfRdNv",
        "outputId": "d3d51190-00e8-4952-feb1-003d65631e9e",
        "colab": {
          "base_uri": "https://localhost:8080/"
        }
      },
      "source": [
        "import os\n",
        "#os.chdir('///home/jovyan/program/DL/11_1下tensorflow_simpson')\n",
        "save_dir = os.path.join(os.getcwd(),'saved_model')\n",
        "print(os.getcwd())\n",
        "model_name = \"3DCNN_LRN_112_6_jester\"\n",
        "if not os.path.isdir(save_dir):\n",
        "    os.makedirs(save_dir)\n",
        "model_path = os.path.join(save_dir, model_name)\n",
        "checkpoint = ModelCheckpoint(model_path, monitor = 'val_acc', \n",
        "                            save_best_only=True, verbose=1)\n",
        "#earlystop\n",
        "earlystop = EarlyStopping(monitor='val_loss', patience=50, verbose =1)"
      ],
      "execution_count": 29,
      "outputs": [
        {
          "output_type": "stream",
          "text": [
            "/content\n"
          ],
          "name": "stdout"
        }
      ]
    },
    {
      "cell_type": "markdown",
      "metadata": {
        "id": "49nSiiv8bMc2"
      },
      "source": [
        "**Start Running**"
      ]
    },
    {
      "cell_type": "code",
      "metadata": {
        "id": "rOwoJR0DbUJ9",
        "outputId": "81757554-2e06-4e37-8000-256944f144f0",
        "colab": {
          "base_uri": "https://localhost:8080/"
        }
      },
      "source": [
        "batch_size = 80\n",
        "nb_epoch = 100\n",
        "#steps_per_epoch=int((len(x_train))/batch_size)\n",
        "lr_reducer = ReduceLROnPlateau(monitor='val_loss', factor=0.05, \n",
        "                               cooldown=0, patience=10, min_lr=0.005/(2^4),verbose=1)\n",
        "#lr_reducer = ReduceLROnPlateau(monitor='val_loss', factor=0.5, patience=2, cooldown=1, verbose=1)\n",
        "hist = model.fit(\n",
        "    X_train_new,\n",
        "    y_train_new,\n",
        "    validation_data=(X_val_new,y_val_new),\n",
        "    batch_size = batch_size,\n",
        "    epochs = nb_epoch,\n",
        "    shuffle=True,\n",
        "    callbacks=[checkpoint,lr_reducer]\n",
        "    )"
      ],
      "execution_count": null,
      "outputs": [
        {
          "output_type": "stream",
          "text": [
            "Epoch 1/100\n",
            "144/144 [==============================] - ETA: 0s - loss: 1.5790 - acc: 0.3824\n",
            "Epoch 00001: val_acc improved from -inf to 0.47515, saving model to /content/saved_model/3DCNN_LRN_112_6_jester\n",
            "WARNING:tensorflow:From /usr/local/lib/python3.6/dist-packages/tensorflow/python/training/tracking/tracking.py:111: Model.state_updates (from tensorflow.python.keras.engine.training) is deprecated and will be removed in a future version.\n",
            "Instructions for updating:\n",
            "This property should not be used in TensorFlow 2.0, as updates are applied automatically.\n",
            "WARNING:tensorflow:From /usr/local/lib/python3.6/dist-packages/tensorflow/python/training/tracking/tracking.py:111: Layer.updates (from tensorflow.python.keras.engine.base_layer) is deprecated and will be removed in a future version.\n",
            "Instructions for updating:\n",
            "This property should not be used in TensorFlow 2.0, as updates are applied automatically.\n",
            "INFO:tensorflow:Assets written to: /content/saved_model/3DCNN_LRN_112_6_jester/assets\n",
            "144/144 [==============================] - 21s 143ms/step - loss: 1.5790 - acc: 0.3824 - val_loss: 1.2853 - val_acc: 0.4751\n",
            "Epoch 2/100\n",
            "144/144 [==============================] - ETA: 0s - loss: 1.0456 - acc: 0.5137\n",
            "Epoch 00002: val_acc improved from 0.47515 to 0.55961, saving model to /content/saved_model/3DCNN_LRN_112_6_jester\n",
            "INFO:tensorflow:Assets written to: /content/saved_model/3DCNN_LRN_112_6_jester/assets\n",
            "144/144 [==============================] - 19s 133ms/step - loss: 1.0456 - acc: 0.5137 - val_loss: 0.9406 - val_acc: 0.5596\n",
            "Epoch 3/100\n",
            "144/144 [==============================] - ETA: 0s - loss: 0.9591 - acc: 0.5485\n",
            "Epoch 00003: val_acc improved from 0.55961 to 0.58881, saving model to /content/saved_model/3DCNN_LRN_112_6_jester\n",
            "INFO:tensorflow:Assets written to: /content/saved_model/3DCNN_LRN_112_6_jester/assets\n",
            "144/144 [==============================] - 19s 133ms/step - loss: 0.9591 - acc: 0.5485 - val_loss: 0.9049 - val_acc: 0.5888\n",
            "Epoch 4/100\n",
            "144/144 [==============================] - ETA: 0s - loss: 0.9189 - acc: 0.5714\n",
            "Epoch 00004: val_acc did not improve from 0.58881\n",
            "144/144 [==============================] - 16s 114ms/step - loss: 0.9189 - acc: 0.5714 - val_loss: 0.9024 - val_acc: 0.5502\n",
            "Epoch 5/100\n",
            "144/144 [==============================] - ETA: 0s - loss: 0.8818 - acc: 0.5906\n",
            "Epoch 00005: val_acc improved from 0.58881 to 0.64025, saving model to /content/saved_model/3DCNN_LRN_112_6_jester\n",
            "INFO:tensorflow:Assets written to: /content/saved_model/3DCNN_LRN_112_6_jester/assets\n",
            "144/144 [==============================] - 19s 134ms/step - loss: 0.8818 - acc: 0.5906 - val_loss: 0.8333 - val_acc: 0.6403\n",
            "Epoch 6/100\n",
            "144/144 [==============================] - ETA: 0s - loss: 0.8472 - acc: 0.6081\n",
            "Epoch 00006: val_acc did not improve from 0.64025\n",
            "144/144 [==============================] - 17s 115ms/step - loss: 0.8472 - acc: 0.6081 - val_loss: 0.8701 - val_acc: 0.6156\n",
            "Epoch 7/100\n",
            "144/144 [==============================] - ETA: 0s - loss: 0.8242 - acc: 0.6274\n",
            "Epoch 00007: val_acc improved from 0.64025 to 0.65937, saving model to /content/saved_model/3DCNN_LRN_112_6_jester\n",
            "INFO:tensorflow:Assets written to: /content/saved_model/3DCNN_LRN_112_6_jester/assets\n",
            "144/144 [==============================] - 20s 136ms/step - loss: 0.8242 - acc: 0.6274 - val_loss: 0.8005 - val_acc: 0.6594\n",
            "Epoch 8/100\n",
            "144/144 [==============================] - ETA: 0s - loss: 0.7969 - acc: 0.6435\n",
            "Epoch 00008: val_acc improved from 0.65937 to 0.68613, saving model to /content/saved_model/3DCNN_LRN_112_6_jester\n",
            "INFO:tensorflow:Assets written to: /content/saved_model/3DCNN_LRN_112_6_jester/assets\n",
            "144/144 [==============================] - 20s 137ms/step - loss: 0.7969 - acc: 0.6435 - val_loss: 0.7640 - val_acc: 0.6861\n",
            "Epoch 9/100\n",
            "144/144 [==============================] - ETA: 0s - loss: 0.7746 - acc: 0.6561\n",
            "Epoch 00009: val_acc did not improve from 0.68613\n",
            "144/144 [==============================] - 17s 116ms/step - loss: 0.7746 - acc: 0.6561 - val_loss: 0.8049 - val_acc: 0.6517\n",
            "Epoch 10/100\n",
            "144/144 [==============================] - ETA: 0s - loss: 0.7332 - acc: 0.6842\n",
            "Epoch 00010: val_acc improved from 0.68613 to 0.71046, saving model to /content/saved_model/3DCNN_LRN_112_6_jester\n",
            "INFO:tensorflow:Assets written to: /content/saved_model/3DCNN_LRN_112_6_jester/assets\n",
            "144/144 [==============================] - 19s 135ms/step - loss: 0.7332 - acc: 0.6842 - val_loss: 0.7144 - val_acc: 0.7105\n",
            "Epoch 11/100\n",
            "144/144 [==============================] - ETA: 0s - loss: 0.7104 - acc: 0.6921\n",
            "Epoch 00011: val_acc did not improve from 0.71046\n",
            "144/144 [==============================] - 17s 117ms/step - loss: 0.7104 - acc: 0.6921 - val_loss: 0.7178 - val_acc: 0.6979\n",
            "Epoch 12/100\n",
            "144/144 [==============================] - ETA: 0s - loss: 0.6813 - acc: 0.7077\n",
            "Epoch 00012: val_acc improved from 0.71046 to 0.71707, saving model to /content/saved_model/3DCNN_LRN_112_6_jester\n",
            "INFO:tensorflow:Assets written to: /content/saved_model/3DCNN_LRN_112_6_jester/assets\n",
            "144/144 [==============================] - 20s 138ms/step - loss: 0.6813 - acc: 0.7077 - val_loss: 0.7117 - val_acc: 0.7171\n",
            "Epoch 13/100\n",
            "144/144 [==============================] - ETA: 0s - loss: 0.6518 - acc: 0.7270\n",
            "Epoch 00013: val_acc improved from 0.71707 to 0.73792, saving model to /content/saved_model/3DCNN_LRN_112_6_jester\n",
            "INFO:tensorflow:Assets written to: /content/saved_model/3DCNN_LRN_112_6_jester/assets\n",
            "144/144 [==============================] - 20s 138ms/step - loss: 0.6518 - acc: 0.7270 - val_loss: 0.6788 - val_acc: 0.7379\n",
            "Epoch 14/100\n",
            "144/144 [==============================] - ETA: 0s - loss: 0.6213 - acc: 0.7443\n",
            "Epoch 00014: val_acc improved from 0.73792 to 0.74279, saving model to /content/saved_model/3DCNN_LRN_112_6_jester\n",
            "INFO:tensorflow:Assets written to: /content/saved_model/3DCNN_LRN_112_6_jester/assets\n",
            "144/144 [==============================] - 20s 136ms/step - loss: 0.6213 - acc: 0.7443 - val_loss: 0.6628 - val_acc: 0.7428\n",
            "Epoch 15/100\n",
            "144/144 [==============================] - ETA: 0s - loss: 0.6051 - acc: 0.7546\n",
            "Epoch 00015: val_acc improved from 0.74279 to 0.74765, saving model to /content/saved_model/3DCNN_LRN_112_6_jester\n",
            "INFO:tensorflow:Assets written to: /content/saved_model/3DCNN_LRN_112_6_jester/assets\n",
            "144/144 [==============================] - 20s 139ms/step - loss: 0.6051 - acc: 0.7546 - val_loss: 0.6353 - val_acc: 0.7477\n",
            "Epoch 16/100\n",
            "144/144 [==============================] - ETA: 0s - loss: 0.5712 - acc: 0.7694\n",
            "Epoch 00016: val_acc did not improve from 0.74765\n",
            "144/144 [==============================] - 17s 117ms/step - loss: 0.5712 - acc: 0.7694 - val_loss: 0.6435 - val_acc: 0.7348\n",
            "Epoch 17/100\n",
            "144/144 [==============================] - ETA: 0s - loss: 0.5624 - acc: 0.7769\n",
            "Epoch 00017: val_acc improved from 0.74765 to 0.77998, saving model to /content/saved_model/3DCNN_LRN_112_6_jester\n",
            "INFO:tensorflow:Assets written to: /content/saved_model/3DCNN_LRN_112_6_jester/assets\n",
            "144/144 [==============================] - 20s 138ms/step - loss: 0.5624 - acc: 0.7769 - val_loss: 0.5774 - val_acc: 0.7800\n",
            "Epoch 18/100\n",
            "144/144 [==============================] - ETA: 0s - loss: 0.5323 - acc: 0.7887\n",
            "Epoch 00018: val_acc did not improve from 0.77998\n",
            "144/144 [==============================] - 17s 118ms/step - loss: 0.5323 - acc: 0.7887 - val_loss: 0.6120 - val_acc: 0.7546\n",
            "Epoch 19/100\n",
            "144/144 [==============================] - ETA: 0s - loss: 0.5164 - acc: 0.7945\n",
            "Epoch 00019: val_acc improved from 0.77998 to 0.78206, saving model to /content/saved_model/3DCNN_LRN_112_6_jester\n",
            "INFO:tensorflow:Assets written to: /content/saved_model/3DCNN_LRN_112_6_jester/assets\n",
            "144/144 [==============================] - 20s 137ms/step - loss: 0.5164 - acc: 0.7945 - val_loss: 0.5509 - val_acc: 0.7821\n",
            "Epoch 20/100\n",
            "144/144 [==============================] - ETA: 0s - loss: 0.4927 - acc: 0.8007\n",
            "Epoch 00020: val_acc improved from 0.78206 to 0.79110, saving model to /content/saved_model/3DCNN_LRN_112_6_jester\n",
            "INFO:tensorflow:Assets written to: /content/saved_model/3DCNN_LRN_112_6_jester/assets\n",
            "144/144 [==============================] - 20s 139ms/step - loss: 0.4927 - acc: 0.8007 - val_loss: 0.5627 - val_acc: 0.7911\n",
            "Epoch 21/100\n",
            "144/144 [==============================] - ETA: 0s - loss: 0.4785 - acc: 0.8165\n",
            "Epoch 00021: val_acc improved from 0.79110 to 0.79180, saving model to /content/saved_model/3DCNN_LRN_112_6_jester\n",
            "INFO:tensorflow:Assets written to: /content/saved_model/3DCNN_LRN_112_6_jester/assets\n",
            "144/144 [==============================] - 20s 139ms/step - loss: 0.4785 - acc: 0.8165 - val_loss: 0.5512 - val_acc: 0.7918\n",
            "Epoch 22/100\n",
            "144/144 [==============================] - ETA: 0s - loss: 0.4535 - acc: 0.8259\n",
            "Epoch 00022: val_acc did not improve from 0.79180\n",
            "144/144 [==============================] - 17s 118ms/step - loss: 0.4535 - acc: 0.8259 - val_loss: 0.7247 - val_acc: 0.7303\n",
            "Epoch 23/100\n",
            "144/144 [==============================] - ETA: 0s - loss: 0.4241 - acc: 0.8358\n",
            "Epoch 00023: val_acc improved from 0.79180 to 0.79875, saving model to /content/saved_model/3DCNN_LRN_112_6_jester\n",
            "INFO:tensorflow:Assets written to: /content/saved_model/3DCNN_LRN_112_6_jester/assets\n",
            "144/144 [==============================] - 20s 138ms/step - loss: 0.4241 - acc: 0.8358 - val_loss: 0.5359 - val_acc: 0.7987\n",
            "Epoch 24/100\n",
            "144/144 [==============================] - ETA: 0s - loss: 0.4121 - acc: 0.8399\n",
            "Epoch 00024: val_acc did not improve from 0.79875\n",
            "144/144 [==============================] - 17s 118ms/step - loss: 0.4121 - acc: 0.8399 - val_loss: 0.5661 - val_acc: 0.7862\n",
            "Epoch 25/100\n",
            "144/144 [==============================] - ETA: 0s - loss: 0.4042 - acc: 0.8430\n",
            "Epoch 00025: val_acc improved from 0.79875 to 0.80118, saving model to /content/saved_model/3DCNN_LRN_112_6_jester\n",
            "INFO:tensorflow:Assets written to: /content/saved_model/3DCNN_LRN_112_6_jester/assets\n",
            "144/144 [==============================] - 20s 137ms/step - loss: 0.4042 - acc: 0.8430 - val_loss: 0.5124 - val_acc: 0.8012\n",
            "Epoch 26/100\n",
            "144/144 [==============================] - ETA: 0s - loss: 0.3868 - acc: 0.8528\n",
            "Epoch 00026: val_acc improved from 0.80118 to 0.80188, saving model to /content/saved_model/3DCNN_LRN_112_6_jester\n",
            "INFO:tensorflow:Assets written to: /content/saved_model/3DCNN_LRN_112_6_jester/assets\n",
            "144/144 [==============================] - 20s 138ms/step - loss: 0.3868 - acc: 0.8528 - val_loss: 0.5235 - val_acc: 0.8019\n",
            "Epoch 27/100\n",
            "144/144 [==============================] - ETA: 0s - loss: 0.3710 - acc: 0.8576\n",
            "Epoch 00027: val_acc improved from 0.80188 to 0.81787, saving model to /content/saved_model/3DCNN_LRN_112_6_jester\n",
            "INFO:tensorflow:Assets written to: /content/saved_model/3DCNN_LRN_112_6_jester/assets\n",
            "144/144 [==============================] - 20s 139ms/step - loss: 0.3710 - acc: 0.8576 - val_loss: 0.4794 - val_acc: 0.8179\n",
            "Epoch 28/100\n",
            "144/144 [==============================] - ETA: 0s - loss: 0.3444 - acc: 0.8653\n",
            "Epoch 00028: val_acc did not improve from 0.81787\n",
            "144/144 [==============================] - 17s 118ms/step - loss: 0.3444 - acc: 0.8653 - val_loss: 0.4935 - val_acc: 0.8088\n",
            "Epoch 29/100\n",
            "144/144 [==============================] - ETA: 0s - loss: 0.3328 - acc: 0.8723\n",
            "Epoch 00029: val_acc did not improve from 0.81787\n",
            "144/144 [==============================] - 17s 118ms/step - loss: 0.3328 - acc: 0.8723 - val_loss: 0.5099 - val_acc: 0.7987\n",
            "Epoch 30/100\n",
            "144/144 [==============================] - ETA: 0s - loss: 0.3226 - acc: 0.8770\n",
            "Epoch 00030: val_acc improved from 0.81787 to 0.82343, saving model to /content/saved_model/3DCNN_LRN_112_6_jester\n",
            "INFO:tensorflow:Assets written to: /content/saved_model/3DCNN_LRN_112_6_jester/assets\n",
            "144/144 [==============================] - 20s 137ms/step - loss: 0.3226 - acc: 0.8770 - val_loss: 0.4602 - val_acc: 0.8234\n",
            "Epoch 31/100\n",
            "144/144 [==============================] - ETA: 0s - loss: 0.3146 - acc: 0.8815\n",
            "Epoch 00031: val_acc improved from 0.82343 to 0.82864, saving model to /content/saved_model/3DCNN_LRN_112_6_jester\n",
            "INFO:tensorflow:Assets written to: /content/saved_model/3DCNN_LRN_112_6_jester/assets\n",
            "144/144 [==============================] - 20s 140ms/step - loss: 0.3146 - acc: 0.8815 - val_loss: 0.4880 - val_acc: 0.8286\n",
            "Epoch 32/100\n",
            "144/144 [==============================] - ETA: 0s - loss: 0.2988 - acc: 0.8879\n",
            "Epoch 00032: val_acc did not improve from 0.82864\n",
            "144/144 [==============================] - 17s 119ms/step - loss: 0.2988 - acc: 0.8879 - val_loss: 0.5077 - val_acc: 0.8040\n",
            "Epoch 33/100\n",
            "144/144 [==============================] - ETA: 0s - loss: 0.2986 - acc: 0.8866\n",
            "Epoch 00033: val_acc did not improve from 0.82864\n",
            "144/144 [==============================] - 17s 118ms/step - loss: 0.2986 - acc: 0.8866 - val_loss: 0.4879 - val_acc: 0.8186\n",
            "Epoch 34/100\n",
            "144/144 [==============================] - ETA: 0s - loss: 0.2778 - acc: 0.8928\n",
            "Epoch 00034: val_acc did not improve from 0.82864\n",
            "144/144 [==============================] - 17s 119ms/step - loss: 0.2778 - acc: 0.8928 - val_loss: 0.4864 - val_acc: 0.8088\n",
            "Epoch 35/100\n",
            "144/144 [==============================] - ETA: 0s - loss: 0.2649 - acc: 0.8970\n",
            "Epoch 00035: val_acc did not improve from 0.82864\n",
            "144/144 [==============================] - 17s 119ms/step - loss: 0.2649 - acc: 0.8970 - val_loss: 0.4905 - val_acc: 0.8127\n",
            "Epoch 36/100\n",
            "144/144 [==============================] - ETA: 0s - loss: 0.2573 - acc: 0.9020\n",
            "Epoch 00036: val_acc improved from 0.82864 to 0.83559, saving model to /content/saved_model/3DCNN_LRN_112_6_jester\n",
            "INFO:tensorflow:Assets written to: /content/saved_model/3DCNN_LRN_112_6_jester/assets\n",
            "144/144 [==============================] - 20s 139ms/step - loss: 0.2573 - acc: 0.9020 - val_loss: 0.4520 - val_acc: 0.8356\n",
            "Epoch 37/100\n",
            "144/144 [==============================] - ETA: 0s - loss: 0.2463 - acc: 0.9093\n",
            "Epoch 00037: val_acc did not improve from 0.83559\n",
            "144/144 [==============================] - 17s 118ms/step - loss: 0.2463 - acc: 0.9093 - val_loss: 0.5011 - val_acc: 0.8182\n",
            "Epoch 38/100\n",
            "144/144 [==============================] - ETA: 0s - loss: 0.2302 - acc: 0.9142\n",
            "Epoch 00038: val_acc did not improve from 0.83559\n",
            "144/144 [==============================] - 17s 119ms/step - loss: 0.2302 - acc: 0.9142 - val_loss: 0.5115 - val_acc: 0.8234\n",
            "Epoch 39/100\n",
            "144/144 [==============================] - ETA: 0s - loss: 0.2230 - acc: 0.9130\n",
            "Epoch 00039: val_acc did not improve from 0.83559\n",
            "144/144 [==============================] - 17s 119ms/step - loss: 0.2230 - acc: 0.9130 - val_loss: 0.6485 - val_acc: 0.7842\n",
            "Epoch 40/100\n",
            "144/144 [==============================] - ETA: 0s - loss: 0.2170 - acc: 0.9193\n",
            "Epoch 00040: val_acc did not improve from 0.83559\n",
            "144/144 [==============================] - 17s 119ms/step - loss: 0.2170 - acc: 0.9193 - val_loss: 0.4946 - val_acc: 0.8175\n",
            "Epoch 41/100\n",
            "144/144 [==============================] - ETA: 0s - loss: 0.2041 - acc: 0.9234\n",
            "Epoch 00041: val_acc did not improve from 0.83559\n",
            "144/144 [==============================] - 17s 119ms/step - loss: 0.2041 - acc: 0.9234 - val_loss: 0.4758 - val_acc: 0.8245\n",
            "Epoch 42/100\n",
            "144/144 [==============================] - ETA: 0s - loss: 0.1995 - acc: 0.9260\n",
            "Epoch 00042: val_acc did not improve from 0.83559\n",
            "144/144 [==============================] - 17s 119ms/step - loss: 0.1995 - acc: 0.9260 - val_loss: 0.4843 - val_acc: 0.8203\n",
            "Epoch 43/100\n",
            "144/144 [==============================] - ETA: 0s - loss: 0.1844 - acc: 0.9321\n",
            "Epoch 00043: val_acc did not improve from 0.83559\n",
            "144/144 [==============================] - 17s 119ms/step - loss: 0.1844 - acc: 0.9321 - val_loss: 0.4945 - val_acc: 0.8234\n",
            "Epoch 44/100\n",
            "144/144 [==============================] - ETA: 0s - loss: 0.1811 - acc: 0.9330\n",
            "Epoch 00044: val_acc did not improve from 0.83559\n",
            "144/144 [==============================] - 17s 119ms/step - loss: 0.1811 - acc: 0.9330 - val_loss: 0.4975 - val_acc: 0.8196\n",
            "Epoch 45/100\n",
            "144/144 [==============================] - ETA: 0s - loss: 0.1887 - acc: 0.9307\n",
            "Epoch 00045: val_acc did not improve from 0.83559\n",
            "144/144 [==============================] - 17s 119ms/step - loss: 0.1887 - acc: 0.9307 - val_loss: 0.4881 - val_acc: 0.8332\n",
            "Epoch 46/100\n",
            "144/144 [==============================] - ETA: 0s - loss: 0.1699 - acc: 0.9398\n",
            "Epoch 00046: val_acc improved from 0.83559 to 0.83907, saving model to /content/saved_model/3DCNN_LRN_112_6_jester\n",
            "INFO:tensorflow:Assets written to: /content/saved_model/3DCNN_LRN_112_6_jester/assets\n",
            "\n",
            "Epoch 00046: ReduceLROnPlateau reducing learning rate to 0.0008333333333333334.\n",
            "144/144 [==============================] - 20s 140ms/step - loss: 0.1699 - acc: 0.9398 - val_loss: 0.4639 - val_acc: 0.8391\n",
            "Epoch 47/100\n",
            "144/144 [==============================] - ETA: 0s - loss: 0.1327 - acc: 0.9528\n",
            "Epoch 00047: val_acc improved from 0.83907 to 0.84811, saving model to /content/saved_model/3DCNN_LRN_112_6_jester\n",
            "INFO:tensorflow:Assets written to: /content/saved_model/3DCNN_LRN_112_6_jester/assets\n",
            "144/144 [==============================] - 20s 138ms/step - loss: 0.1327 - acc: 0.9528 - val_loss: 0.4508 - val_acc: 0.8481\n",
            "Epoch 48/100\n",
            "144/144 [==============================] - ETA: 0s - loss: 0.1051 - acc: 0.9646\n",
            "Epoch 00048: val_acc did not improve from 0.84811\n",
            "144/144 [==============================] - 17s 119ms/step - loss: 0.1051 - acc: 0.9646 - val_loss: 0.4493 - val_acc: 0.8460\n",
            "Epoch 49/100\n",
            "144/144 [==============================] - ETA: 0s - loss: 0.0956 - acc: 0.9650\n",
            "Epoch 00049: val_acc improved from 0.84811 to 0.84880, saving model to /content/saved_model/3DCNN_LRN_112_6_jester\n",
            "INFO:tensorflow:Assets written to: /content/saved_model/3DCNN_LRN_112_6_jester/assets\n",
            "144/144 [==============================] - 20s 140ms/step - loss: 0.0956 - acc: 0.9650 - val_loss: 0.4507 - val_acc: 0.8488\n",
            "Epoch 50/100\n",
            "144/144 [==============================] - ETA: 0s - loss: 0.0895 - acc: 0.9695\n",
            "Epoch 00050: val_acc improved from 0.84880 to 0.85158, saving model to /content/saved_model/3DCNN_LRN_112_6_jester\n",
            "INFO:tensorflow:Assets written to: /content/saved_model/3DCNN_LRN_112_6_jester/assets\n",
            "144/144 [==============================] - 20s 139ms/step - loss: 0.0895 - acc: 0.9695 - val_loss: 0.4538 - val_acc: 0.8516\n",
            "Epoch 51/100\n",
            "144/144 [==============================] - ETA: 0s - loss: 0.0879 - acc: 0.9706\n",
            "Epoch 00051: val_acc improved from 0.85158 to 0.85262, saving model to /content/saved_model/3DCNN_LRN_112_6_jester\n",
            "INFO:tensorflow:Assets written to: /content/saved_model/3DCNN_LRN_112_6_jester/assets\n",
            "144/144 [==============================] - 20s 139ms/step - loss: 0.0879 - acc: 0.9706 - val_loss: 0.4509 - val_acc: 0.8526\n",
            "Epoch 52/100\n",
            "144/144 [==============================] - ETA: 0s - loss: 0.0873 - acc: 0.9709\n",
            "Epoch 00052: val_acc did not improve from 0.85262\n",
            "144/144 [==============================] - 17s 119ms/step - loss: 0.0873 - acc: 0.9709 - val_loss: 0.4626 - val_acc: 0.8512\n",
            "Epoch 53/100\n",
            "144/144 [==============================] - ETA: 0s - loss: 0.0827 - acc: 0.9726\n",
            "Epoch 00053: val_acc did not improve from 0.85262\n",
            "144/144 [==============================] - 17s 118ms/step - loss: 0.0827 - acc: 0.9726 - val_loss: 0.4538 - val_acc: 0.8526\n",
            "Epoch 54/100\n",
            "144/144 [==============================] - ETA: 0s - loss: 0.0801 - acc: 0.9721\n",
            "Epoch 00054: val_acc did not improve from 0.85262\n",
            "144/144 [==============================] - 17s 119ms/step - loss: 0.0801 - acc: 0.9721 - val_loss: 0.4525 - val_acc: 0.8516\n",
            "Epoch 55/100\n",
            "144/144 [==============================] - ETA: 0s - loss: 0.0717 - acc: 0.9746\n",
            "Epoch 00055: val_acc improved from 0.85262 to 0.85506, saving model to /content/saved_model/3DCNN_LRN_112_6_jester\n",
            "INFO:tensorflow:Assets written to: /content/saved_model/3DCNN_LRN_112_6_jester/assets\n",
            "144/144 [==============================] - 20s 139ms/step - loss: 0.0717 - acc: 0.9746 - val_loss: 0.4645 - val_acc: 0.8551\n",
            "Epoch 56/100\n",
            "144/144 [==============================] - ETA: 0s - loss: 0.0767 - acc: 0.9758\n",
            "Epoch 00056: val_acc did not improve from 0.85506\n",
            "144/144 [==============================] - 17s 119ms/step - loss: 0.0767 - acc: 0.9758 - val_loss: 0.4616 - val_acc: 0.8519\n",
            "Epoch 57/100\n",
            "144/144 [==============================] - ETA: 0s - loss: 0.0764 - acc: 0.9750\n",
            "Epoch 00057: val_acc did not improve from 0.85506\n",
            "144/144 [==============================] - 17s 119ms/step - loss: 0.0764 - acc: 0.9750 - val_loss: 0.4533 - val_acc: 0.8526\n",
            "Epoch 58/100\n",
            "144/144 [==============================] - ETA: 0s - loss: 0.0715 - acc: 0.9758\n",
            "Epoch 00058: val_acc did not improve from 0.85506\n",
            "\n",
            "Epoch 00058: ReduceLROnPlateau reducing learning rate to 0.0008333333333333334.\n",
            "144/144 [==============================] - 17s 119ms/step - loss: 0.0715 - acc: 0.9758 - val_loss: 0.4675 - val_acc: 0.8495\n",
            "Epoch 59/100\n",
            "144/144 [==============================] - ETA: 0s - loss: 0.0684 - acc: 0.9764\n",
            "Epoch 00059: val_acc did not improve from 0.85506\n",
            "144/144 [==============================] - 17s 119ms/step - loss: 0.0684 - acc: 0.9764 - val_loss: 0.4549 - val_acc: 0.8523\n",
            "Epoch 60/100\n",
            "144/144 [==============================] - ETA: 0s - loss: 0.0678 - acc: 0.9771\n",
            "Epoch 00060: val_acc did not improve from 0.85506\n",
            "144/144 [==============================] - 17s 119ms/step - loss: 0.0678 - acc: 0.9771 - val_loss: 0.4684 - val_acc: 0.8502\n",
            "Epoch 61/100\n",
            "144/144 [==============================] - ETA: 0s - loss: 0.0621 - acc: 0.9795\n",
            "Epoch 00061: val_acc did not improve from 0.85506\n",
            "144/144 [==============================] - 18s 122ms/step - loss: 0.0621 - acc: 0.9795 - val_loss: 0.4912 - val_acc: 0.8495\n",
            "Epoch 62/100\n",
            "144/144 [==============================] - ETA: 0s - loss: 0.0636 - acc: 0.9764\n",
            "Epoch 00062: val_acc did not improve from 0.85506\n",
            "144/144 [==============================] - 17s 120ms/step - loss: 0.0636 - acc: 0.9764 - val_loss: 0.4873 - val_acc: 0.8502\n",
            "Epoch 63/100\n",
            "144/144 [==============================] - ETA: 0s - loss: 0.0629 - acc: 0.9797\n",
            "Epoch 00063: val_acc did not improve from 0.85506\n",
            "144/144 [==============================] - 17s 120ms/step - loss: 0.0629 - acc: 0.9797 - val_loss: 0.4913 - val_acc: 0.8509\n",
            "Epoch 64/100\n",
            "144/144 [==============================] - ETA: 0s - loss: 0.0625 - acc: 0.9790\n",
            "Epoch 00064: val_acc did not improve from 0.85506\n",
            "144/144 [==============================] - 17s 120ms/step - loss: 0.0625 - acc: 0.9790 - val_loss: 0.4812 - val_acc: 0.8488\n",
            "Epoch 65/100\n",
            "144/144 [==============================] - ETA: 0s - loss: 0.0618 - acc: 0.9796\n",
            "Epoch 00065: val_acc did not improve from 0.85506\n",
            "144/144 [==============================] - 17s 121ms/step - loss: 0.0618 - acc: 0.9796 - val_loss: 0.4665 - val_acc: 0.8509\n",
            "Epoch 66/100\n",
            "144/144 [==============================] - ETA: 0s - loss: 0.0635 - acc: 0.9791\n",
            "Epoch 00066: val_acc did not improve from 0.85506\n",
            "144/144 [==============================] - 17s 120ms/step - loss: 0.0635 - acc: 0.9791 - val_loss: 0.4868 - val_acc: 0.8533\n",
            "Epoch 67/100\n",
            "144/144 [==============================] - ETA: 0s - loss: 0.0582 - acc: 0.9815\n",
            "Epoch 00067: val_acc improved from 0.85506 to 0.85645, saving model to /content/saved_model/3DCNN_LRN_112_6_jester\n",
            "INFO:tensorflow:Assets written to: /content/saved_model/3DCNN_LRN_112_6_jester/assets\n",
            "144/144 [==============================] - 20s 142ms/step - loss: 0.0582 - acc: 0.9815 - val_loss: 0.4836 - val_acc: 0.8564\n",
            "Epoch 68/100\n",
            "144/144 [==============================] - ETA: 0s - loss: 0.0561 - acc: 0.9807\n",
            "Epoch 00068: val_acc did not improve from 0.85645\n",
            "\n",
            "Epoch 00068: ReduceLROnPlateau reducing learning rate to 0.0008333333333333334.\n",
            "144/144 [==============================] - 17s 120ms/step - loss: 0.0561 - acc: 0.9807 - val_loss: 0.4782 - val_acc: 0.8547\n",
            "Epoch 69/100\n",
            "144/144 [==============================] - ETA: 0s - loss: 0.0533 - acc: 0.9831\n",
            "Epoch 00069: val_acc did not improve from 0.85645\n",
            "144/144 [==============================] - 17s 120ms/step - loss: 0.0533 - acc: 0.9831 - val_loss: 0.4874 - val_acc: 0.8544\n",
            "Epoch 70/100\n",
            "144/144 [==============================] - ETA: 0s - loss: 0.0536 - acc: 0.9818\n",
            "Epoch 00070: val_acc did not improve from 0.85645\n",
            "144/144 [==============================] - 17s 120ms/step - loss: 0.0536 - acc: 0.9818 - val_loss: 0.4958 - val_acc: 0.8547\n",
            "Epoch 71/100\n",
            "144/144 [==============================] - ETA: 0s - loss: 0.0561 - acc: 0.9794\n",
            "Epoch 00071: val_acc did not improve from 0.85645\n",
            "144/144 [==============================] - 17s 119ms/step - loss: 0.0561 - acc: 0.9794 - val_loss: 0.5020 - val_acc: 0.8474\n",
            "Epoch 72/100\n",
            "144/144 [==============================] - ETA: 0s - loss: 0.0548 - acc: 0.9819\n",
            "Epoch 00072: val_acc did not improve from 0.85645\n",
            "144/144 [==============================] - 17s 119ms/step - loss: 0.0548 - acc: 0.9819 - val_loss: 0.4973 - val_acc: 0.8502\n",
            "Epoch 73/100\n",
            "144/144 [==============================] - ETA: 0s - loss: 0.0509 - acc: 0.9821\n",
            "Epoch 00073: val_acc did not improve from 0.85645\n",
            "144/144 [==============================] - 17s 119ms/step - loss: 0.0509 - acc: 0.9821 - val_loss: 0.4924 - val_acc: 0.8551\n",
            "Epoch 74/100\n",
            "144/144 [==============================] - ETA: 0s - loss: 0.0498 - acc: 0.9832\n",
            "Epoch 00074: val_acc did not improve from 0.85645\n",
            "144/144 [==============================] - 17s 119ms/step - loss: 0.0498 - acc: 0.9832 - val_loss: 0.5045 - val_acc: 0.8509\n",
            "Epoch 75/100\n",
            "144/144 [==============================] - ETA: 0s - loss: 0.0516 - acc: 0.9823\n",
            "Epoch 00075: val_acc did not improve from 0.85645\n",
            "144/144 [==============================] - 17s 119ms/step - loss: 0.0516 - acc: 0.9823 - val_loss: 0.5019 - val_acc: 0.8530\n",
            "Epoch 76/100\n",
            "144/144 [==============================] - ETA: 0s - loss: 0.0493 - acc: 0.9838\n",
            "Epoch 00076: val_acc did not improve from 0.85645\n",
            "144/144 [==============================] - 18s 123ms/step - loss: 0.0493 - acc: 0.9838 - val_loss: 0.5119 - val_acc: 0.8519\n",
            "Epoch 77/100\n",
            "144/144 [==============================] - ETA: 0s - loss: 0.0483 - acc: 0.9848\n",
            "Epoch 00077: val_acc did not improve from 0.85645\n",
            "144/144 [==============================] - 17s 120ms/step - loss: 0.0483 - acc: 0.9848 - val_loss: 0.5227 - val_acc: 0.8533\n",
            "Epoch 78/100\n",
            "144/144 [==============================] - ETA: 0s - loss: 0.0487 - acc: 0.9833\n",
            "Epoch 00078: val_acc did not improve from 0.85645\n",
            "\n",
            "Epoch 00078: ReduceLROnPlateau reducing learning rate to 0.0008333333333333334.\n",
            "144/144 [==============================] - 17s 120ms/step - loss: 0.0487 - acc: 0.9833 - val_loss: 0.4963 - val_acc: 0.8537\n",
            "Epoch 79/100\n",
            "144/144 [==============================] - ETA: 0s - loss: 0.0465 - acc: 0.9839\n",
            "Epoch 00079: val_acc did not improve from 0.85645\n",
            "144/144 [==============================] - 17s 120ms/step - loss: 0.0465 - acc: 0.9839 - val_loss: 0.4966 - val_acc: 0.8547\n",
            "Epoch 80/100\n",
            "144/144 [==============================] - ETA: 0s - loss: 0.0421 - acc: 0.9865\n",
            "Epoch 00080: val_acc did not improve from 0.85645\n",
            "144/144 [==============================] - 17s 120ms/step - loss: 0.0421 - acc: 0.9865 - val_loss: 0.5101 - val_acc: 0.8554\n",
            "Epoch 81/100\n",
            "144/144 [==============================] - ETA: 0s - loss: 0.0491 - acc: 0.9840\n",
            "Epoch 00081: val_acc did not improve from 0.85645\n",
            "144/144 [==============================] - 17s 119ms/step - loss: 0.0491 - acc: 0.9840 - val_loss: 0.4948 - val_acc: 0.8547\n",
            "Epoch 82/100\n",
            "144/144 [==============================] - ETA: 0s - loss: 0.0439 - acc: 0.9849\n",
            "Epoch 00082: val_acc did not improve from 0.85645\n",
            "144/144 [==============================] - 17s 119ms/step - loss: 0.0439 - acc: 0.9849 - val_loss: 0.5125 - val_acc: 0.8564\n",
            "Epoch 83/100\n",
            "144/144 [==============================] - ETA: 0s - loss: 0.0418 - acc: 0.9859\n",
            "Epoch 00083: val_acc improved from 0.85645 to 0.85958, saving model to /content/saved_model/3DCNN_LRN_112_6_jester\n",
            "INFO:tensorflow:Assets written to: /content/saved_model/3DCNN_LRN_112_6_jester/assets\n",
            "144/144 [==============================] - 20s 141ms/step - loss: 0.0418 - acc: 0.9859 - val_loss: 0.5263 - val_acc: 0.8596\n",
            "Epoch 84/100\n",
            "144/144 [==============================] - ETA: 0s - loss: 0.0439 - acc: 0.9853\n",
            "Epoch 00084: val_acc did not improve from 0.85958\n",
            "144/144 [==============================] - 17s 119ms/step - loss: 0.0439 - acc: 0.9853 - val_loss: 0.5028 - val_acc: 0.8544\n",
            "Epoch 85/100\n",
            "144/144 [==============================] - ETA: 0s - loss: 0.0422 - acc: 0.9876\n",
            "Epoch 00085: val_acc did not improve from 0.85958\n",
            "144/144 [==============================] - 17s 119ms/step - loss: 0.0422 - acc: 0.9876 - val_loss: 0.5153 - val_acc: 0.8523\n",
            "Epoch 86/100\n",
            "144/144 [==============================] - ETA: 0s - loss: 0.0396 - acc: 0.9872\n",
            "Epoch 00086: val_acc did not improve from 0.85958\n",
            "144/144 [==============================] - 17s 119ms/step - loss: 0.0396 - acc: 0.9872 - val_loss: 0.5143 - val_acc: 0.8547\n",
            "Epoch 87/100\n",
            "144/144 [==============================] - ETA: 0s - loss: 0.0434 - acc: 0.9862\n",
            "Epoch 00087: val_acc did not improve from 0.85958\n",
            "144/144 [==============================] - 17s 119ms/step - loss: 0.0434 - acc: 0.9862 - val_loss: 0.5143 - val_acc: 0.8544\n",
            "Epoch 88/100\n",
            "144/144 [==============================] - ETA: 0s - loss: 0.0406 - acc: 0.9865\n",
            "Epoch 00088: val_acc did not improve from 0.85958\n",
            "\n",
            "Epoch 00088: ReduceLROnPlateau reducing learning rate to 0.0008333333333333334.\n",
            "144/144 [==============================] - 17s 119ms/step - loss: 0.0406 - acc: 0.9865 - val_loss: 0.5227 - val_acc: 0.8544\n",
            "Epoch 89/100\n",
            "144/144 [==============================] - ETA: 0s - loss: 0.0429 - acc: 0.9866\n",
            "Epoch 00089: val_acc did not improve from 0.85958\n",
            "144/144 [==============================] - 17s 119ms/step - loss: 0.0429 - acc: 0.9866 - val_loss: 0.5273 - val_acc: 0.8537\n",
            "Epoch 90/100\n",
            "144/144 [==============================] - ETA: 0s - loss: 0.0421 - acc: 0.9856\n",
            "Epoch 00090: val_acc did not improve from 0.85958\n",
            "144/144 [==============================] - 17s 119ms/step - loss: 0.0421 - acc: 0.9856 - val_loss: 0.5303 - val_acc: 0.8488\n",
            "Epoch 91/100\n",
            "144/144 [==============================] - ETA: 0s - loss: 0.0402 - acc: 0.9868\n",
            "Epoch 00091: val_acc did not improve from 0.85958\n",
            "144/144 [==============================] - 17s 120ms/step - loss: 0.0402 - acc: 0.9868 - val_loss: 0.5456 - val_acc: 0.8519\n",
            "Epoch 92/100\n",
            "144/144 [==============================] - ETA: 0s - loss: 0.0431 - acc: 0.9865\n",
            "Epoch 00092: val_acc did not improve from 0.85958\n",
            "144/144 [==============================] - 17s 119ms/step - loss: 0.0431 - acc: 0.9865 - val_loss: 0.5144 - val_acc: 0.8547\n",
            "Epoch 93/100\n",
            "144/144 [==============================] - ETA: 0s - loss: 0.0413 - acc: 0.9864\n",
            "Epoch 00093: val_acc did not improve from 0.85958\n",
            "144/144 [==============================] - 17s 119ms/step - loss: 0.0413 - acc: 0.9864 - val_loss: 0.5246 - val_acc: 0.8523\n",
            "Epoch 94/100\n",
            "144/144 [==============================] - ETA: 0s - loss: 0.0390 - acc: 0.9884\n",
            "Epoch 00094: val_acc did not improve from 0.85958\n",
            "144/144 [==============================] - 17s 120ms/step - loss: 0.0390 - acc: 0.9884 - val_loss: 0.5316 - val_acc: 0.8540\n",
            "Epoch 95/100\n",
            "144/144 [==============================] - ETA: 0s - loss: 0.0340 - acc: 0.9891\n",
            "Epoch 00095: val_acc did not improve from 0.85958\n",
            "144/144 [==============================] - 17s 120ms/step - loss: 0.0340 - acc: 0.9891 - val_loss: 0.5526 - val_acc: 0.8495\n",
            "Epoch 96/100\n",
            "144/144 [==============================] - ETA: 0s - loss: 0.0398 - acc: 0.9875\n",
            "Epoch 00096: val_acc did not improve from 0.85958\n",
            "144/144 [==============================] - 17s 119ms/step - loss: 0.0398 - acc: 0.9875 - val_loss: 0.5284 - val_acc: 0.8578\n",
            "Epoch 97/100\n",
            "137/144 [===========================>..] - ETA: 0s - loss: 0.0393 - acc: 0.9869"
          ],
          "name": "stdout"
        }
      ]
    },
    {
      "cell_type": "code",
      "metadata": {
        "id": "EJRmzJlS4ziP",
        "outputId": "e99e17b6-d624-44e6-aeb1-78f8585c8725",
        "colab": {
          "base_uri": "https://localhost:8080/",
          "height": 618
        }
      },
      "source": [
        "[loss, acc] = model.evaluate(x_test,y_test,verbose=1)\n",
        "print(\"Accuracy:\" + str(acc*100)+\"%\")\n",
        "epochs = [i for i in range(100)]\n",
        "fig , ax = plt.subplots(1,2)\n",
        "train_acc = hist.history['acc']\n",
        "train_loss = hist.history['loss']\n",
        "val_acc = hist.history['val_acc']\n",
        "val_loss = hist.history['val_loss']\n",
        "fig.set_size_inches(16,9)\n",
        "\n",
        "ax[0].plot(epochs , train_acc,'go-',label='Training Accuracy')\n",
        "ax[0].plot(epochs , val_acc,'ro-',label='Testing Accuracy')\n",
        "ax[0].set_title('Training & Validation Accuracy')\n",
        "ax[0].legend()\n",
        "ax[0].set_xlabel(\"Epochs\")\n",
        "ax[0].set_ylabel(\"Accuracy\")\n",
        "\n",
        "ax[1].plot(epochs , train_loss,'g-o',label='Training Loss')\n",
        "ax[1].plot(epochs , val_loss,'r-o',label='Testing Loss')\n",
        "ax[1].set_title('Testing Accuracy & Loss')\n",
        "ax[1].legend()\n",
        "ax[1].set_xlabel(\"Epochs\")\n",
        "ax[1].set_ylabel(\"Loss\")"
      ],
      "execution_count": 31,
      "outputs": [
        {
          "output_type": "stream",
          "text": [
            "57/57 [==============================] - 1s 15ms/step - loss: 0.7583 - acc: 0.8237\n",
            "Accuracy:82.36929774284363%\n"
          ],
          "name": "stdout"
        },
        {
          "output_type": "execute_result",
          "data": {
            "text/plain": [
              "Text(0, 0.5, 'Loss')"
            ]
          },
          "metadata": {
            "tags": []
          },
          "execution_count": 31
        },
        {
          "output_type": "display_data",
          "data": {
            "image/png": "[encoded data removed]",
            "text/plain": [
              "<Figure size 1152x648 with 2 Axes>"
            ]
          },
          "metadata": {
            "tags": [],
            "needs_background": "light"
          }
        }
      ]
    },
    {
      "cell_type": "markdown",
      "metadata": {
        "id": "BQDCy-2w0nkY"
      },
      "source": [
        ""
      ]
    },
    {
      "cell_type": "code",
      "metadata": {
        "id": "pCJkJPCXitSi"
      },
      "source": [
        "model.save_weights('/w.tf', save_format='tf')"
      ],
      "execution_count": null,
      "outputs": []
    },
    {
      "cell_type": "markdown",
      "metadata": {
        "id": "zdHxpXXVnG7G"
      },
      "source": [
        "**Make Predictions**"
      ]
    },
    {
      "cell_type": "code",
      "metadata": {
        "id": "7DGZXAzonL9J"
      },
      "source": [
        "x_test.shape"
      ],
      "execution_count": null,
      "outputs": []
    },
    {
      "cell_type": "code",
      "metadata": {
        "id": "KYgTKKCknZHc"
      },
      "source": [
        "y_test.shape"
      ],
      "execution_count": null,
      "outputs": []
    },
    {
      "cell_type": "code",
      "metadata": {
        "id": "iww1i12XnaQU"
      },
      "source": [
        "np.unique(y_test, return_counts=True)"
      ],
      "execution_count": null,
      "outputs": []
    },
    {
      "cell_type": "markdown",
      "metadata": {
        "id": "gncuNhVlnd29"
      },
      "source": [
        "Make Prediction"
      ]
    },
    {
      "cell_type": "code",
      "metadata": {
        "id": "aMssBvRkngZ1"
      },
      "source": [
        "y_pred = model.predict(x_test)"
      ],
      "execution_count": null,
      "outputs": []
    },
    {
      "cell_type": "code",
      "metadata": {
        "id": "GtRY1NNXnkXC"
      },
      "source": [
        "y_pred.shape"
      ],
      "execution_count": null,
      "outputs": []
    },
    {
      "cell_type": "code",
      "metadata": {
        "id": "oY4-oRFwnp4A"
      },
      "source": [
        "y_pred = np.argmax(y_pred, axis=-1)\n",
        "y_pred.shape"
      ],
      "execution_count": null,
      "outputs": []
    },
    {
      "cell_type": "code",
      "metadata": {
        "id": "hFdTw0VtnsmZ"
      },
      "source": [
        "y_pred"
      ],
      "execution_count": null,
      "outputs": []
    },
    {
      "cell_type": "markdown",
      "metadata": {
        "id": "j-Ru4DsPny8K"
      },
      "source": [
        "**Analysis**"
      ]
    },
    {
      "cell_type": "code",
      "metadata": {
        "id": "C6bf0sinnwVS"
      },
      "source": [
        "from sklearn.metrics import confusion_matrix, accuracy_score, precision_score, recall_score, f1_score"
      ],
      "execution_count": null,
      "outputs": []
    },
    {
      "cell_type": "code",
      "metadata": {
        "id": "g3ep55lLn__Y"
      },
      "source": [
        "labels = list(LABELS.keys())\n",
        "labels"
      ],
      "execution_count": null,
      "outputs": []
    },
    {
      "cell_type": "markdown",
      "metadata": {
        "id": "QnUaOdploC9T"
      },
      "source": [
        "**1. Confusion Matrix**"
      ]
    },
    {
      "cell_type": "code",
      "metadata": {
        "id": "FQQZcc9roGe_"
      },
      "source": [
        "cm = confusion_matrix(y_test, y_pred, normalize='true')\n",
        "df_cm = pd.DataFrame(cm, range(6), range(6))\n",
        "plt.figure(figsize=(15,15))\n",
        "sbn.set(font_scale=1.4) # for label size\n",
        "sbn.heatmap(df_cm, annot=True, annot_kws={\"size\": 16}, xticklabels=labels, yticklabels=labels)\n",
        "\n",
        "plt.show()"
      ],
      "execution_count": null,
      "outputs": []
    },
    {
      "cell_type": "markdown",
      "metadata": {
        "id": "h05qbbSLoP8q"
      },
      "source": [
        "**2. Accuracy**"
      ]
    },
    {
      "cell_type": "code",
      "metadata": {
        "id": "jDYAoht9oR2N"
      },
      "source": [
        "accuracy_score(y_test, y_pred)"
      ],
      "execution_count": null,
      "outputs": []
    },
    {
      "cell_type": "markdown",
      "metadata": {
        "id": "ptSNcutSoaA_"
      },
      "source": [
        "**3. Precision**"
      ]
    },
    {
      "cell_type": "code",
      "metadata": {
        "id": "BF7RDrSRoYNJ"
      },
      "source": [
        "precision_score(y_test, y_pred, average='macro')"
      ],
      "execution_count": null,
      "outputs": []
    },
    {
      "cell_type": "markdown",
      "metadata": {
        "id": "yMN-jZmBoqxP"
      },
      "source": [
        "**4. Recall**"
      ]
    },
    {
      "cell_type": "code",
      "metadata": {
        "id": "ZyXBO4juotSL"
      },
      "source": [
        "recall_score(y_test, y_pred, average='macro')"
      ],
      "execution_count": null,
      "outputs": []
    },
    {
      "cell_type": "markdown",
      "metadata": {
        "id": "XE5NVuQVo0hE"
      },
      "source": [
        "**5. F1**"
      ]
    },
    {
      "cell_type": "code",
      "metadata": {
        "id": "eRBmZhRyowce"
      },
      "source": [
        "f1_score(y_test, y_pred, average='macro')"
      ],
      "execution_count": null,
      "outputs": []
    }
  ]
}