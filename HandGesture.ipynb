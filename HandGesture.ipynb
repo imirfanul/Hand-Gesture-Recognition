{
  "nbformat": 4,
  "nbformat_minor": 0,
  "metadata": {
    "accelerator": "GPU",
    "colab": {
      "name": "HandGesture",
      "provenance": [],
      "collapsed_sections": [],
      "mount_file_id": "1TgJTnr4N-lDJjYldzycWL-L0Ns2An33Y",
      "authorship_tag": "ABX9TyMtHQINjGsPhzBMwwfH+igc"
    },
    "kernelspec": {
      "display_name": "Python 3",
      "name": "python3"
    }
  },
  "cells": [
    {
      "cell_type": "code",
      "metadata": {
        "id": "1C0oho4eQbeU"
      },
      "source": [
        "#Tanveer_1728042\n",
        "from pydrive.auth import GoogleAuth\n",
        "from pydrive.drive import GoogleDrive\n",
        "from google.colab import auth\n",
        "from oauth2client.client import GoogleCredentials\n"
      ],
      "execution_count": 1,
      "outputs": []
    },
    {
      "cell_type": "code",
      "metadata": {
        "id": "SeCsx_Nvzq9J"
      },
      "source": [
        "auth.authenticate_user()\n",
        "gauth = GoogleAuth()\n",
        "gauth.credentials = GoogleCredentials.get_application_default()\n",
        "drive = GoogleDrive(gauth)"
      ],
      "execution_count": 2,
      "outputs": []
    },
    {
      "cell_type": "code",
      "metadata": {
        "id": "6YBvUCtC0IN4"
      },
      "source": [
        "downloaded = drive.CreateFile({'id':'1LY2kUaXY62IxGXsKziS-TZsxBnIFwCHK'}) # replace the id with id of file you want to access\n",
        "downloaded.GetContentFile('kaggle.json') "
      ],
      "execution_count": 3,
      "outputs": []
    },
    {
      "cell_type": "code",
      "metadata": {
        "id": "vrPb-5bQ1ixt"
      },
      "source": [
        "!mkdir -p ~/.kaggle\n",
        "!cp kaggle.json ~/.kaggle/\n",
        "!chmod 600 ~/.kaggle/kaggle.json"
      ],
      "execution_count": 4,
      "outputs": []
    },
    {
      "cell_type": "code",
      "metadata": {
        "id": "eKRHdAeYrrD3",
        "outputId": "5d1ab5ce-7465-4574-9e66-389c521c292f",
        "colab": {
          "base_uri": "https://localhost:8080/"
        }
      },
      "source": [
        "%cd /content/drive/Shared drives/Tanveer"
      ],
      "execution_count": null,
      "outputs": [
        {
          "output_type": "stream",
          "text": [
            "/content/drive/Shared drives/Tanveer\n"
          ],
          "name": "stdout"
        }
      ]
    },
    {
      "cell_type": "code",
      "metadata": {
        "id": "D_05U2nX2Xxi",
        "outputId": "abb6fddf-e80f-4eda-fb3c-e3b428521fbb",
        "colab": {
          "base_uri": "https://localhost:8080/",
          "height": 0
        }
      },
      "source": [
        "!kaggle datasets download -d toxicmender/20bn-jester"
      ],
      "execution_count": 5,
      "outputs": [
        {
          "output_type": "stream",
          "text": [
            "Downloading 20bn-jester.zip to /content\n",
            "100% 11.9G/11.9G [04:48<00:00, 79.9MB/s]\n",
            "100% 11.9G/11.9G [04:48<00:00, 44.4MB/s]\n"
          ],
          "name": "stdout"
        }
      ]
    },
    {
      "cell_type": "code",
      "metadata": {
        "id": "Og8U32tg4aFf",
        "outputId": "a82c9f14-a123-4e07-c6c8-3a988a78d150",
        "colab": {
          "base_uri": "https://localhost:8080/",
          "height": 0
        }
      },
      "source": [
        "from zipfile import ZipFile\n",
        "file_name = \"20bn-jester.zip\"\n",
        "\n",
        "with ZipFile(file_name,'r') as zip:\n",
        "  zip.extractall()\n",
        "  print('Done')"
      ],
      "execution_count": 6,
      "outputs": [
        {
          "output_type": "stream",
          "text": [
            "Done\n"
          ],
          "name": "stdout"
        }
      ]
    },
    {
      "cell_type": "code",
      "metadata": {
        "id": "1-QQ8vsN7H6s"
      },
      "source": [
        "!cp -r \"/content/Train.csv\" \"/content/drive/Shared drives/Tanveer\""
      ],
      "execution_count": null,
      "outputs": []
    },
    {
      "cell_type": "code",
      "metadata": {
        "id": "dkr8HXLjTe7F"
      },
      "source": [
        "import numpy as np\n",
        "import pandas as pd\n",
        "import tensorflow as tf\n",
        "import cv2\n",
        "from tqdm import tqdm\n",
        "\n",
        "import seaborn as sbn\n",
        "import matplotlib.image as img\n",
        "import matplotlib.pyplot as plt\n",
        "from sklearn.preprocessing import StandardScaler\n",
        "\n",
        "import os\n",
        "import gc\n",
        "import math"
      ],
      "execution_count": 1,
      "outputs": []
    },
    {
      "cell_type": "markdown",
      "metadata": {
        "id": "fUdltNd8UYg5"
      },
      "source": [
        "**Making smaller set**\n",
        "\n",
        "The classes (labels) we want to use"
      ]
    },
    {
      "cell_type": "code",
      "metadata": {
        "id": "GkGIU_dUUSm7"
      },
      "source": [
        "LABELS = {\n",
        "    \"Swiping Right\": 0,\n",
        "    \"Swiping Left\": 1,\n",
        "    \"No gesture\": 2,\n",
        "    \"Thumb Up\": 3,\n",
        "    \"Sliding Two Fingers Up\": 4,\n",
        "    \"Sliding Two Fingers Down\": 5,\n",
        "}"
      ],
      "execution_count": 2,
      "outputs": []
    },
    {
      "cell_type": "markdown",
      "metadata": {
        "id": "85tV1h3SUtPx"
      },
      "source": [
        "**Loading Data**"
      ]
    },
    {
      "cell_type": "code",
      "metadata": {
        "id": "iNga_mEAU1fg"
      },
      "source": [
        "BASE_PATH = '/content'\n",
        "TRAIN_DATA_CSV = BASE_PATH + '/Train.csv'\n",
        "TEST_DATA_CSV = BASE_PATH + '/Test.csv'\n",
        "VAL_DATA_CSV = BASE_PATH + '/Validation.csv'\n",
        "\n",
        "TRAIN_SAMPLES_PATH = BASE_PATH + '/Train/'\n",
        "TEST_SAMPLES_PATH = BASE_PATH + '/Test/'\n",
        "VAL_SAMPLES_PATH = BASE_PATH + '/Validation/'"
      ],
      "execution_count": 3,
      "outputs": []
    },
    {
      "cell_type": "markdown",
      "metadata": {
        "id": "kYv9_PEiVFj9"
      },
      "source": [
        "Training targets, you can use your custom csv file if you already created it before"
      ]
    },
    {
      "cell_type": "code",
      "metadata": {
        "id": "DzLJn2DHVIBG",
        "outputId": "376145ef-3d3e-4df9-f881-8ec48cafb65e",
        "colab": {
          "base_uri": "https://localhost:8080/",
          "height": 419
        }
      },
      "source": [
        "targets = pd.read_csv(TRAIN_DATA_CSV)\n",
        "targets = targets[targets['label'].isin(LABELS.keys())]\n",
        "targets['label'] = targets['label'].map(LABELS)\n",
        "targets = targets[['video_id', 'label']]\n",
        "targets = targets.reset_index()\n",
        "targets"
      ],
      "execution_count": 4,
      "outputs": [
        {
          "output_type": "execute_result",
          "data": {
            "text/html": [
              "<div>\n",
              "<style scoped>\n",
              "    .dataframe tbody tr th:only-of-type {\n",
              "        vertical-align: middle;\n",
              "    }\n",
              "\n",
              "    .dataframe tbody tr th {\n",
              "        vertical-align: top;\n",
              "    }\n",
              "\n",
              "    .dataframe thead th {\n",
              "        text-align: right;\n",
              "    }\n",
              "</style>\n",
              "<table border=\"1\" class=\"dataframe\">\n",
              "  <thead>\n",
              "    <tr style=\"text-align: right;\">\n",
              "      <th></th>\n",
              "      <th>index</th>\n",
              "      <th>video_id</th>\n",
              "      <th>label</th>\n",
              "    </tr>\n",
              "  </thead>\n",
              "  <tbody>\n",
              "    <tr>\n",
              "      <th>0</th>\n",
              "      <td>3</td>\n",
              "      <td>11</td>\n",
              "      <td>5</td>\n",
              "    </tr>\n",
              "    <tr>\n",
              "      <th>1</th>\n",
              "      <td>10</td>\n",
              "      <td>36</td>\n",
              "      <td>4</td>\n",
              "    </tr>\n",
              "    <tr>\n",
              "      <th>2</th>\n",
              "      <td>13</td>\n",
              "      <td>42</td>\n",
              "      <td>4</td>\n",
              "    </tr>\n",
              "    <tr>\n",
              "      <th>3</th>\n",
              "      <td>15</td>\n",
              "      <td>50</td>\n",
              "      <td>2</td>\n",
              "    </tr>\n",
              "    <tr>\n",
              "      <th>4</th>\n",
              "      <td>16</td>\n",
              "      <td>51</td>\n",
              "      <td>0</td>\n",
              "    </tr>\n",
              "    <tr>\n",
              "      <th>...</th>\n",
              "      <td>...</td>\n",
              "      <td>...</td>\n",
              "      <td>...</td>\n",
              "    </tr>\n",
              "    <tr>\n",
              "      <th>10783</th>\n",
              "      <td>50410</td>\n",
              "      <td>148070</td>\n",
              "      <td>0</td>\n",
              "    </tr>\n",
              "    <tr>\n",
              "      <th>10784</th>\n",
              "      <td>50411</td>\n",
              "      <td>148075</td>\n",
              "      <td>2</td>\n",
              "    </tr>\n",
              "    <tr>\n",
              "      <th>10785</th>\n",
              "      <td>50415</td>\n",
              "      <td>148084</td>\n",
              "      <td>2</td>\n",
              "    </tr>\n",
              "    <tr>\n",
              "      <th>10786</th>\n",
              "      <td>50417</td>\n",
              "      <td>148088</td>\n",
              "      <td>4</td>\n",
              "    </tr>\n",
              "    <tr>\n",
              "      <th>10787</th>\n",
              "      <td>50418</td>\n",
              "      <td>148090</td>\n",
              "      <td>1</td>\n",
              "    </tr>\n",
              "  </tbody>\n",
              "</table>\n",
              "<p>10788 rows × 3 columns</p>\n",
              "</div>"
            ],
            "text/plain": [
              "       index  video_id  label\n",
              "0          3        11      5\n",
              "1         10        36      4\n",
              "2         13        42      4\n",
              "3         15        50      2\n",
              "4         16        51      0\n",
              "...      ...       ...    ...\n",
              "10783  50410    148070      0\n",
              "10784  50411    148075      2\n",
              "10785  50415    148084      2\n",
              "10786  50417    148088      4\n",
              "10787  50418    148090      1\n",
              "\n",
              "[10788 rows x 3 columns]"
            ]
          },
          "metadata": {
            "tags": []
          },
          "execution_count": 4
        }
      ]
    },
    {
      "cell_type": "markdown",
      "metadata": {
        "id": "R1qk_6lOWhhv"
      },
      "source": [
        "Validation targets, you can use your custom csv file if you already created it before"
      ]
    },
    {
      "cell_type": "code",
      "metadata": {
        "id": "slnOMvUiWkAs",
        "outputId": "02765e0f-95a5-4220-ccc5-e267ba1da739",
        "colab": {
          "base_uri": "https://localhost:8080/",
          "height": 419
        }
      },
      "source": [
        "targets_validation = pd.read_csv(VAL_DATA_CSV)\n",
        "targets_validation = targets_validation[targets_validation['label'].isin(LABELS.keys())]\n",
        "targets_validation['label'] = targets_validation['label'].map(LABELS)\n",
        "targets_validation = targets_validation[['video_id', 'label']]\n",
        "targets_validation = targets_validation.reset_index()\n",
        "targets_validation"
      ],
      "execution_count": 5,
      "outputs": [
        {
          "output_type": "execute_result",
          "data": {
            "text/html": [
              "<div>\n",
              "<style scoped>\n",
              "    .dataframe tbody tr th:only-of-type {\n",
              "        vertical-align: middle;\n",
              "    }\n",
              "\n",
              "    .dataframe tbody tr th {\n",
              "        vertical-align: top;\n",
              "    }\n",
              "\n",
              "    .dataframe thead th {\n",
              "        text-align: right;\n",
              "    }\n",
              "</style>\n",
              "<table border=\"1\" class=\"dataframe\">\n",
              "  <thead>\n",
              "    <tr style=\"text-align: right;\">\n",
              "      <th></th>\n",
              "      <th>index</th>\n",
              "      <th>video_id</th>\n",
              "      <th>label</th>\n",
              "    </tr>\n",
              "  </thead>\n",
              "  <tbody>\n",
              "    <tr>\n",
              "      <th>0</th>\n",
              "      <td>4</td>\n",
              "      <td>96</td>\n",
              "      <td>0</td>\n",
              "    </tr>\n",
              "    <tr>\n",
              "      <th>1</th>\n",
              "      <td>13</td>\n",
              "      <td>358</td>\n",
              "      <td>2</td>\n",
              "    </tr>\n",
              "    <tr>\n",
              "      <th>2</th>\n",
              "      <td>17</td>\n",
              "      <td>420</td>\n",
              "      <td>3</td>\n",
              "    </tr>\n",
              "    <tr>\n",
              "      <th>3</th>\n",
              "      <td>18</td>\n",
              "      <td>441</td>\n",
              "      <td>4</td>\n",
              "    </tr>\n",
              "    <tr>\n",
              "      <th>4</th>\n",
              "      <td>26</td>\n",
              "      <td>610</td>\n",
              "      <td>3</td>\n",
              "    </tr>\n",
              "    <tr>\n",
              "      <th>...</th>\n",
              "      <td>...</td>\n",
              "      <td>...</td>\n",
              "      <td>...</td>\n",
              "    </tr>\n",
              "    <tr>\n",
              "      <th>1460</th>\n",
              "      <td>7020</td>\n",
              "      <td>147395</td>\n",
              "      <td>3</td>\n",
              "    </tr>\n",
              "    <tr>\n",
              "      <th>1461</th>\n",
              "      <td>7023</td>\n",
              "      <td>147492</td>\n",
              "      <td>4</td>\n",
              "    </tr>\n",
              "    <tr>\n",
              "      <th>1462</th>\n",
              "      <td>7029</td>\n",
              "      <td>147649</td>\n",
              "      <td>4</td>\n",
              "    </tr>\n",
              "    <tr>\n",
              "      <th>1463</th>\n",
              "      <td>7032</td>\n",
              "      <td>147727</td>\n",
              "      <td>5</td>\n",
              "    </tr>\n",
              "    <tr>\n",
              "      <th>1464</th>\n",
              "      <td>7046</td>\n",
              "      <td>148071</td>\n",
              "      <td>1</td>\n",
              "    </tr>\n",
              "  </tbody>\n",
              "</table>\n",
              "<p>1465 rows × 3 columns</p>\n",
              "</div>"
            ],
            "text/plain": [
              "      index  video_id  label\n",
              "0         4        96      0\n",
              "1        13       358      2\n",
              "2        17       420      3\n",
              "3        18       441      4\n",
              "4        26       610      3\n",
              "...     ...       ...    ...\n",
              "1460   7020    147395      3\n",
              "1461   7023    147492      4\n",
              "1462   7029    147649      4\n",
              "1463   7032    147727      5\n",
              "1464   7046    148071      1\n",
              "\n",
              "[1465 rows x 3 columns]"
            ]
          },
          "metadata": {
            "tags": []
          },
          "execution_count": 5
        }
      ]
    },
    {
      "cell_type": "markdown",
      "metadata": {
        "id": "1AfjqtBBWsUh"
      },
      "source": [
        "**Preprocessing**"
      ]
    },
    {
      "cell_type": "code",
      "metadata": {
        "id": "XZ2nZacaZ3Ue"
      },
      "source": [
        "# image specification\n",
        "img_rows,img_cols=64, 64 "
      ],
      "execution_count": 6,
      "outputs": []
    },
    {
      "cell_type": "code",
      "metadata": {
        "id": "hTTdLoyWWuhw"
      },
      "source": [
        "def rgb2gray(rgb):\n",
        "    \"\"\"\n",
        "    Converts numpy array of RGB to grayscale\n",
        "    \"\"\"\n",
        "    return np.dot(rgb[...,:3], [0.2989, 0.5870, 0.1140])"
      ],
      "execution_count": 7,
      "outputs": []
    },
    {
      "cell_type": "code",
      "metadata": {
        "id": "BPi0TFjqW0MC"
      },
      "source": [
        "def resize_frame(frame):\n",
        "    \"\"\"\n",
        "    Resizes frames to (64, 64)\n",
        "    \"\"\"\n",
        "    frame = img.imread(frame)\n",
        "    frame = cv2.resize(frame, (img_rows,img_cols),interpolation=cv2.INTER_AREA)\n",
        "    return frame"
      ],
      "execution_count": 8,
      "outputs": []
    },
    {
      "cell_type": "markdown",
      "metadata": {
        "id": "Y2uo2TNiW6yv"
      },
      "source": [
        "The videos do not have the same number of frames, here we try to unify."
      ]
    },
    {
      "cell_type": "code",
      "metadata": {
        "id": "XzHisiMpW77x"
      },
      "source": [
        "hm_frames = 30 # number of frames\n",
        "def get_unify_frames(path):\n",
        "    \"\"\"\n",
        "    Unifies number of frames for each training\n",
        "    \"\"\"\n",
        "    offset = 0\n",
        "    # pick frames\n",
        "    frames = os.listdir(path)\n",
        "    frames_count = len(frames)\n",
        "    # unify number of frames \n",
        "    if hm_frames > frames_count:\n",
        "        # duplicate last frame if video is shorter than necessary\n",
        "        frames += [frames[-1]] * (hm_frames - frames_count)\n",
        "    elif hm_frames < frames_count:\n",
        "        # If there are more frames, then sample starting offset\n",
        "        # diff = (frames_count - hm_frames)\n",
        "        # offset = diff-1 \n",
        "        frames = frames[0:hm_frames]\n",
        "    return frames"
      ],
      "execution_count": 9,
      "outputs": []
    },
    {
      "cell_type": "markdown",
      "metadata": {
        "id": "YgdpJj50XIpc"
      },
      "source": [
        "Adjust data"
      ]
    },
    {
      "cell_type": "code",
      "metadata": {
        "id": "So1A44SCXKjx",
        "outputId": "99130f2f-5030-4b80-a196-df06292f0149",
        "colab": {
          "base_uri": "https://localhost:8080/"
        }
      },
      "source": [
        "# Adjust training data\n",
        "train_targets = [] # training targets \n",
        "test_targets = [] # testing targets\n",
        "\n",
        "new_frames = [] # training data after resize & unify\n",
        "new_frames_test = [] # testing data after resize & unify\n",
        "\n",
        "for idx, row in tqdm(targets.iterrows(), total=len(targets)):\n",
        "    if idx % 4 == 0:\n",
        "        continue\n",
        "    \n",
        "    partition = [] # one training\n",
        "    # Frames in each folder\n",
        "    frames = get_unify_frames(TRAIN_SAMPLES_PATH + str(row['video_id']))\n",
        "    if len(frames) == hm_frames: # just to be sure\n",
        "        for frame in frames:\n",
        "            frame = resize_frame(TRAIN_SAMPLES_PATH + str(row['video_id']) + '/' + frame)\n",
        "            partition.append(rgb2gray(frame))\n",
        "            if len(partition) == 15: # partition each training on two trainings.\n",
        "                if idx % 6 == 0:\n",
        "                    new_frames_test.append(partition) # append each partition to training data\n",
        "                    test_targets.append(row['label'])\n",
        "                else:\n",
        "                    new_frames.append(partition) # append each partition to test data\n",
        "                    train_targets.append(row['label'])\n",
        "                partition = []\n",
        "\n",
        "train_data = np.asarray(new_frames, dtype=np.float16)\n",
        "\n",
        "del new_frames[:]\n",
        "del new_frames\n",
        "\n",
        "\n",
        "test_data = np.asarray(new_frames_test, dtype=np.float16)\n",
        "del new_frames_test[:]\n",
        "del new_frames_test\n",
        "\n",
        "gc.collect()"
      ],
      "execution_count": 10,
      "outputs": [
        {
          "output_type": "stream",
          "text": [
            "100%|██████████| 10788/10788 [05:43<00:00, 31.38it/s]\n"
          ],
          "name": "stderr"
        },
        {
          "output_type": "execute_result",
          "data": {
            "text/plain": [
              "11"
            ]
          },
          "metadata": {
            "tags": []
          },
          "execution_count": 10
        }
      ]
    },
    {
      "cell_type": "code",
      "metadata": {
        "id": "v5ChQwzCX9Bx",
        "outputId": "ab07d973-e349-42f3-c0eb-ea4a94976639",
        "colab": {
          "base_uri": "https://localhost:8080/"
        }
      },
      "source": [
        "# we do the same for the validation data\n",
        "cv_targets = []\n",
        "new_frames_cv = []\n",
        "for idx, row in tqdm(targets_validation.iterrows(), total=len(targets_validation)):\n",
        "    if idx % 4 == 0:\n",
        "        continue\n",
        "\n",
        "    partition = []\n",
        "    # Frames in each folder\n",
        "    frames = get_unify_frames(VAL_SAMPLES_PATH+str(row[\"video_id\"]))\n",
        "    for frame in frames:\n",
        "        frame = resize_frame(VAL_SAMPLES_PATH+str(row[\"video_id\"])+'/'+frame)\n",
        "        partition.append(rgb2gray(frame))\n",
        "        if len(partition) == 15:\n",
        "            new_frames_cv.append(partition)\n",
        "            cv_targets.append(row['label'])\n",
        "            partition = []\n",
        "                \n",
        "cv_data = np.array(new_frames_cv, dtype=np.float16)\n",
        "del new_frames_cv[:]\n",
        "del new_frames_cv\n",
        "gc.collect()"
      ],
      "execution_count": 11,
      "outputs": [
        {
          "output_type": "stream",
          "text": [
            "100%|██████████| 1465/1465 [00:46<00:00, 31.60it/s]\n"
          ],
          "name": "stderr"
        },
        {
          "output_type": "execute_result",
          "data": {
            "text/plain": [
              "0"
            ]
          },
          "metadata": {
            "tags": []
          },
          "execution_count": 11
        }
      ]
    },
    {
      "cell_type": "code",
      "metadata": {
        "id": "cdWcwjhIX-73",
        "outputId": "5cb2c62a-3f2e-48ac-c65a-8d3756c43d67",
        "colab": {
          "base_uri": "https://localhost:8080/"
        }
      },
      "source": [
        "print(f\"Training = {len(train_data)}/{len(train_targets)} samples/labels\")\n",
        "print(f\"Test = {len(test_data)}/{len(test_targets)} samples/labels\")\n",
        "print(f\"Validation = {len(cv_data)}/{len(cv_targets)} samples/labels\")"
      ],
      "execution_count": 12,
      "outputs": [
        {
          "output_type": "stream",
          "text": [
            "Training = 14384/14384 samples/labels\n",
            "Test = 1798/1798 samples/labels\n",
            "Validation = 2196/2196 samples/labels\n"
          ],
          "name": "stdout"
        }
      ]
    },
    {
      "cell_type": "code",
      "metadata": {
        "id": "teG-Sg_vMtVI"
      },
      "source": [
        "nb_classes = 6\n",
        "patch_size = 15    # img_depth or number of frames used for each video"
      ],
      "execution_count": 13,
      "outputs": []
    },
    {
      "cell_type": "code",
      "metadata": {
        "id": "wrNMlRC-tvZo",
        "outputId": "f0a83e2f-303f-4e5a-b2b7-5565a2fd2c18",
        "colab": {
          "base_uri": "https://localhost:8080/"
        }
      },
      "source": [
        "num_samples = len(train_data)\n",
        "print(num_samples)"
      ],
      "execution_count": 14,
      "outputs": [
        {
          "output_type": "stream",
          "text": [
            "14384\n"
          ],
          "name": "stdout"
        }
      ]
    },
    {
      "cell_type": "markdown",
      "metadata": {
        "id": "truQO_5zYX62"
      },
      "source": [
        "Feature scaling"
      ]
    },
    {
      "cell_type": "code",
      "metadata": {
        "id": "JDplRZ2OYZZb",
        "outputId": "69305f44-c790-4054-d28d-0ad89de47b34",
        "colab": {
          "base_uri": "https://localhost:8080/"
        }
      },
      "source": [
        "# Normalisation: training\n",
        "print('old mean', train_data.mean())\n",
        "\n",
        "scaler = StandardScaler(copy=False)\n",
        "scaled_images  = scaler.fit_transform(train_data.reshape(-1, 15*64*64))\n",
        "del train_data\n",
        "print('new mean', scaled_images.mean())\n",
        "\n",
        "scaled_images  = scaled_images.reshape(-1, 15, 64, 64, 1)\n",
        "print(scaled_images.shape)"
      ],
      "execution_count": 15,
      "outputs": [
        {
          "output_type": "stream",
          "text": [
            "old mean 115.44\n",
            "new mean 2.4e-07\n",
            "(14384, 15, 64, 64, 1)\n"
          ],
          "name": "stdout"
        }
      ]
    },
    {
      "cell_type": "code",
      "metadata": {
        "id": "zYZGll5DYiQA",
        "outputId": "08686418-c4fa-452c-e819-9ba0b67bcc9c",
        "colab": {
          "base_uri": "https://localhost:8080/"
        }
      },
      "source": [
        "# Normalisation: test\n",
        "print('old mean', test_data.mean())\n",
        "\n",
        "scaler = StandardScaler(copy=False)\n",
        "scaled_images_test = scaler.fit_transform(test_data.reshape(-1, 15*64*64))\n",
        "del test_data\n",
        "print('new mean', scaled_images_test.mean())\n",
        "\n",
        "scaled_images_test = scaled_images_test.reshape(-1, 15, 64, 64, 1)\n",
        "print(scaled_images_test.shape)"
      ],
      "execution_count": 16,
      "outputs": [
        {
          "output_type": "stream",
          "text": [
            "old mean 114.8\n",
            "new mean 6e-08\n",
            "(1798, 15, 64, 64, 1)\n"
          ],
          "name": "stdout"
        }
      ]
    },
    {
      "cell_type": "code",
      "metadata": {
        "id": "a97zQT9BYj-S",
        "outputId": "d4aa1691-559d-44ad-f9ac-7faf8c74c74e",
        "colab": {
          "base_uri": "https://localhost:8080/"
        }
      },
      "source": [
        "# Normalisation: validation\n",
        "print('old mean', cv_data.mean())\n",
        "\n",
        "scaler = StandardScaler(copy=False)\n",
        "scaled_images_cv  = scaler.fit_transform(cv_data.reshape(-1, 15*64*64))\n",
        "del cv_data\n",
        "print('new mean',scaled_images_cv.mean())\n",
        "\n",
        "scaled_images_cv  = scaled_images_cv.reshape(-1, 15, 64, 64, 1)\n",
        "print(scaled_images_cv.shape)"
      ],
      "execution_count": 17,
      "outputs": [
        {
          "output_type": "stream",
          "text": [
            "old mean 111.9\n",
            "new mean 0.0\n",
            "(2196, 15, 64, 64, 1)\n"
          ],
          "name": "stdout"
        }
      ]
    },
    {
      "cell_type": "code",
      "metadata": {
        "id": "i3B5ObuvZGtT"
      },
      "source": [
        "del scaler"
      ],
      "execution_count": 18,
      "outputs": []
    },
    {
      "cell_type": "markdown",
      "metadata": {
        "id": "EomvawMeZobc"
      },
      "source": [
        "**Make sets**"
      ]
    },
    {
      "cell_type": "code",
      "metadata": {
        "id": "A8400WEXZrh4"
      },
      "source": [
        "y_train = np.array(train_targets, dtype=np.int8)\n",
        "y_test = np.array(test_targets, dtype=np.int8)\n",
        "y_val = np.array(cv_targets, dtype=np.int8)\n",
        "del train_targets\n",
        "del test_targets\n",
        "del cv_targets"
      ],
      "execution_count": 19,
      "outputs": []
    },
    {
      "cell_type": "code",
      "metadata": {
        "id": "IVoLhKMfZxNB"
      },
      "source": [
        "x_train = scaled_images\n",
        "x_test = scaled_images_test\n",
        "x_val = scaled_images_cv\n",
        "del scaled_images\n",
        "del scaled_images_test\n",
        "del scaled_images_cv"
      ],
      "execution_count": 20,
      "outputs": []
    },
    {
      "cell_type": "code",
      "metadata": {
        "id": "Gqbo7LOFZ3ay",
        "outputId": "8f9e9a26-a9c7-4a3c-8cce-c38ed568ad15",
        "colab": {
          "base_uri": "https://localhost:8080/"
        }
      },
      "source": [
        "gc.collect()"
      ],
      "execution_count": 21,
      "outputs": [
        {
          "output_type": "execute_result",
          "data": {
            "text/plain": [
              "0"
            ]
          },
          "metadata": {
            "tags": []
          },
          "execution_count": 21
        }
      ]
    },
    {
      "cell_type": "code",
      "metadata": {
        "id": "atHPxUAhPPpR"
      },
      "source": [
        "from keras.preprocessing.image import ImageDataGenerator\n",
        "from keras.models import Sequential\n",
        "from keras.layers.core import Dense, Dropout, Activation, Flatten, Reshape\n",
        "from keras.layers.convolutional import Conv3D, MaxPooling3D,Conv2D,AveragePooling2D,AveragePooling3D\n",
        "from keras.layers import Dense, GlobalAveragePooling3D,GlobalAveragePooling2D\n",
        "from keras.callbacks import EarlyStopping, ModelCheckpoint, LearningRateScheduler,ReduceLROnPlateau\n",
        "from keras.optimizers import SGD, RMSprop, Adadelta\n",
        "from keras.utils import np_utils, generic_utils\n",
        "from keras.layers.normalization import BatchNormalization\n",
        "from keras.layers.convolutional_recurrent import ConvLSTM2D\n",
        "\n",
        "import theano\n",
        "import os\n",
        "import matplotlib\n",
        "import matplotlib.pyplot as plt\n",
        "import numpy as np\n",
        "import cv2\n",
        "from sklearn.model_selection import train_test_split\n",
        "#from sklearn import cross_validation\n",
        "from sklearn import preprocessing"
      ],
      "execution_count": 22,
      "outputs": []
    },
    {
      "cell_type": "markdown",
      "metadata": {
        "id": "c5vMknt-Z96u"
      },
      "source": [
        "**Model**"
      ]
    },
    {
      "cell_type": "code",
      "metadata": {
        "id": "9sc-l4CeUr_O"
      },
      "source": [
        "import keras\n",
        "# Define model\n",
        "#high resolution network\n",
        "from keras import regularizers\n",
        "weight_decay = 0.005\n",
        "model = Sequential()\n",
        "model.add(Conv3D(4,(3,7,7),input_shape=(patch_size, img_cols, img_rows, 1),activation='relu',kernel_regularizer=regularizers.l2(weight_decay)))\n",
        "model.add(MaxPooling3D(pool_size=(1, 2, 2)))\n",
        "model.add(Dropout(0.25))\n",
        "print(model.output_shape)\n",
        "model.add(Conv3D(8,(3,5,5), activation='relu',kernel_regularizer=regularizers.l2(weight_decay)))\n",
        "model.add(MaxPooling3D(pool_size=(2, 2, 2)))\n",
        "model.add(Dropout(0.25))\n",
        "print(model.output_shape)\n",
        "model.add(Conv3D(32,(3,5,5), activation='relu',kernel_regularizer=regularizers.l2(weight_decay)))\n",
        "model.add(MaxPooling3D(pool_size=(1, 1, 2)))\n",
        "model.add(Dropout(0.25))\n",
        "print(model.output_shape)\n",
        "model.add(BatchNormalization())\n",
        "model.add(ConvLSTM2D(40,(3,3)))         \n",
        "model.add(Flatten())\n",
        "model.add(Dense(512, activation='relu',kernel_regularizer=regularizers.l2(weight_decay)))\n",
        "model.add(Dropout(0.5))\n",
        "\n",
        "model.add(Dense(256, activation='relu',kernel_regularizer=regularizers.l2(weight_decay)))\n",
        "model.add(Dropout(0.5))\n",
        "\n",
        "model.add(Dense(nb_classes,kernel_initializer='normal',kernel_regularizer=regularizers.l2(weight_decay)))\n",
        "\n",
        "model.add(Activation('softmax'))"
      ],
      "execution_count": null,
      "outputs": []
    },
    {
      "cell_type": "markdown",
      "metadata": {
        "id": "yD_oMzD7behb"
      },
      "source": [
        "**Test Model 2**"
      ]
    },
    {
      "cell_type": "code",
      "metadata": {
        "id": "y0n8k7UEbZ1U"
      },
      "source": [
        "from keras.models import Sequential, Model\n",
        "from keras.layers import Dense, GRU, Flatten, TimeDistributed, Flatten, BatchNormalization, Activation, Dropout\n",
        "from keras.layers.convolutional import Conv3D, MaxPooling3D\n",
        "from keras.callbacks import ModelCheckpoint, ReduceLROnPlateau\n",
        "from keras.losses import categorical_crossentropy\n",
        "from keras.optimizers import Adam\n",
        "# Define model\n",
        "model = Sequential()\n",
        "\n",
        "model.add(Conv3D(8, \n",
        "                 kernel_size=(3,3,3), \n",
        "                 input_shape=(patch_size, img_cols, img_rows, 1),\n",
        "                 padding='same'))\n",
        "model.add(BatchNormalization())\n",
        "model.add(Activation('relu'))\n",
        "\n",
        "model.add(MaxPooling3D(pool_size=(2,2,2)))\n",
        "\n",
        "model.add(Conv3D(16, \n",
        "                 kernel_size=(3,3,3), \n",
        "                 padding='same'))\n",
        "model.add(BatchNormalization())\n",
        "model.add(Activation('relu'))\n",
        "\n",
        "model.add(MaxPooling3D(pool_size=(2,2,2)))\n",
        "\n",
        "model.add(Conv3D(32, \n",
        "                 kernel_size=(1,3,3), \n",
        "                 padding='same'))\n",
        "model.add(BatchNormalization())\n",
        "model.add(Activation('relu'))\n",
        "\n",
        "model.add(MaxPooling3D(pool_size=(1,1,1)))\n",
        "\n",
        "model.add(Conv3D(64, \n",
        "                 kernel_size=(1,3,3), \n",
        "                 padding='same'))\n",
        "model.add(Activation('relu'))\n",
        "model.add(Dropout(0.25))\n",
        "\n",
        "model.add(MaxPooling3D(pool_size=(2,2,2)))\n",
        "\n",
        "#Flatten Layers\n",
        "model.add(Flatten())\n",
        "\n",
        "model.add(Dense(1000, activation='relu'))\n",
        "model.add(Dropout(0.5))\n",
        "\n",
        "model.add(Dense(500, activation='relu'))\n",
        "model.add(Dropout(0.5))\n",
        "\n",
        "#softmax layer\n",
        "model.add(Dense(6, activation='softmax'))"
      ],
      "execution_count": 23,
      "outputs": []
    },
    {
      "cell_type": "code",
      "metadata": {
        "id": "Mj5fgebvaTGX",
        "outputId": "10e518f4-537d-4247-afba-983f9165e9ff",
        "colab": {
          "base_uri": "https://localhost:8080/"
        }
      },
      "source": [
        "print(model.summary())"
      ],
      "execution_count": 24,
      "outputs": [
        {
          "output_type": "stream",
          "text": [
            "Model: \"sequential\"\n",
            "_________________________________________________________________\n",
            "Layer (type)                 Output Shape              Param #   \n",
            "=================================================================\n",
            "conv3d (Conv3D)              (None, 15, 64, 64, 8)     224       \n",
            "_________________________________________________________________\n",
            "batch_normalization (BatchNo (None, 15, 64, 64, 8)     32        \n",
            "_________________________________________________________________\n",
            "activation (Activation)      (None, 15, 64, 64, 8)     0         \n",
            "_________________________________________________________________\n",
            "max_pooling3d (MaxPooling3D) (None, 7, 32, 32, 8)      0         \n",
            "_________________________________________________________________\n",
            "conv3d_1 (Conv3D)            (None, 7, 32, 32, 16)     3472      \n",
            "_________________________________________________________________\n",
            "batch_normalization_1 (Batch (None, 7, 32, 32, 16)     64        \n",
            "_________________________________________________________________\n",
            "activation_1 (Activation)    (None, 7, 32, 32, 16)     0         \n",
            "_________________________________________________________________\n",
            "max_pooling3d_1 (MaxPooling3 (None, 3, 16, 16, 16)     0         \n",
            "_________________________________________________________________\n",
            "conv3d_2 (Conv3D)            (None, 3, 16, 16, 32)     4640      \n",
            "_________________________________________________________________\n",
            "batch_normalization_2 (Batch (None, 3, 16, 16, 32)     128       \n",
            "_________________________________________________________________\n",
            "activation_2 (Activation)    (None, 3, 16, 16, 32)     0         \n",
            "_________________________________________________________________\n",
            "max_pooling3d_2 (MaxPooling3 (None, 3, 16, 16, 32)     0         \n",
            "_________________________________________________________________\n",
            "conv3d_3 (Conv3D)            (None, 3, 16, 16, 64)     18496     \n",
            "_________________________________________________________________\n",
            "activation_3 (Activation)    (None, 3, 16, 16, 64)     0         \n",
            "_________________________________________________________________\n",
            "dropout (Dropout)            (None, 3, 16, 16, 64)     0         \n",
            "_________________________________________________________________\n",
            "max_pooling3d_3 (MaxPooling3 (None, 1, 8, 8, 64)       0         \n",
            "_________________________________________________________________\n",
            "flatten (Flatten)            (None, 4096)              0         \n",
            "_________________________________________________________________\n",
            "dense (Dense)                (None, 1000)              4097000   \n",
            "_________________________________________________________________\n",
            "dropout_1 (Dropout)          (None, 1000)              0         \n",
            "_________________________________________________________________\n",
            "dense_1 (Dense)              (None, 500)               500500    \n",
            "_________________________________________________________________\n",
            "dropout_2 (Dropout)          (None, 500)               0         \n",
            "_________________________________________________________________\n",
            "dense_2 (Dense)              (None, 6)                 3006      \n",
            "=================================================================\n",
            "Total params: 4,627,562\n",
            "Trainable params: 4,627,450\n",
            "Non-trainable params: 112\n",
            "_________________________________________________________________\n",
            "None\n"
          ],
          "name": "stdout"
        }
      ]
    },
    {
      "cell_type": "code",
      "metadata": {
        "id": "4LoDAbJCVf-a",
        "outputId": "1857227d-2d36-4adf-ce74-1857fa6faf51",
        "colab": {
          "base_uri": "https://localhost:8080/",
          "height": 1000
        }
      },
      "source": [
        "from keras.utils.vis_utils import plot_model\n",
        "plot_model(model, show_shapes=True,\n",
        "               to_file=os.path.join('model.png'))"
      ],
      "execution_count": 25,
      "outputs": [
        {
          "output_type": "execute_result",
          "data": {
            "image/png": "[encoded data removed]",
            "text/plain": [
              "<IPython.core.display.Image object>"
            ]
          },
          "metadata": {
            "tags": []
          },
          "execution_count": 25
        }
      ]
    },
    {
      "cell_type": "code",
      "metadata": {
        "id": "eKg1Fvl5aymc"
      },
      "source": [
        "sgd = SGD(lr=0.005,  momentum=0.9, nesterov=False)\n",
        "#rms = RMSprop(decay=1e-6)\n",
        "#ada = Adadelta(lr=0.1,decay=1e-6)\n",
        "model.compile(loss='sparse_categorical_crossentropy', \n",
        "              optimizer=sgd,\n",
        "              #optimizer=ada,\n",
        "              metrics=['acc'])"
      ],
      "execution_count": 26,
      "outputs": []
    },
    {
      "cell_type": "code",
      "metadata": {
        "id": "0ZgytqjqQHVv"
      },
      "source": [
        "# Split the data\n",
        "X_train_new, X_val_new, y_train_new,y_val_new = train_test_split(x_train, y_train, test_size=0.2, random_state=20)\n"
      ],
      "execution_count": 27,
      "outputs": []
    },
    {
      "cell_type": "code",
      "metadata": {
        "id": "6ODv3ntfRdNv",
        "outputId": "7717ea7a-bdb0-4c4c-cec3-f2dd0ef1dc0e",
        "colab": {
          "base_uri": "https://localhost:8080/"
        }
      },
      "source": [
        "import os\n",
        "#os.chdir('///home/jovyan/program/DL/11_1下tensorflow_simpson')\n",
        "save_dir = os.path.join(os.getcwd(),'saved_model')\n",
        "print(os.getcwd())\n",
        "model_name = \"3DCNN_LRN_112_6_jester\"\n",
        "if not os.path.isdir(save_dir):\n",
        "    os.makedirs(save_dir)\n",
        "model_path = os.path.join(save_dir, model_name)\n",
        "checkpoint = ModelCheckpoint(model_path, monitor = 'val_acc', \n",
        "                            save_best_only=True, verbose=1)\n",
        "#earlystop\n",
        "earlystop = EarlyStopping(monitor='val_loss', patience=50, verbose =1)"
      ],
      "execution_count": 28,
      "outputs": [
        {
          "output_type": "stream",
          "text": [
            "/content\n"
          ],
          "name": "stdout"
        }
      ]
    },
    {
      "cell_type": "markdown",
      "metadata": {
        "id": "49nSiiv8bMc2"
      },
      "source": [
        "**Start Running**"
      ]
    },
    {
      "cell_type": "code",
      "metadata": {
        "id": "rOwoJR0DbUJ9",
        "outputId": "bbba7c40-abef-4896-83b8-809897b933f3",
        "colab": {
          "base_uri": "https://localhost:8080/"
        }
      },
      "source": [
        "batch_size = 80\n",
        "nb_epoch = 100\n",
        "#steps_per_epoch=int((len(x_train))/batch_size)\n",
        "lr_reducer = ReduceLROnPlateau(monitor='val_loss', factor=0.05, \n",
        "                               cooldown=0, patience=10, min_lr=0.005/(2^4),verbose=1)\n",
        "#lr_reducer = ReduceLROnPlateau(monitor='val_loss', factor=0.5, patience=2, cooldown=1, verbose=1)\n",
        "hist = model.fit(\n",
        "    X_train_new,\n",
        "    y_train_new,\n",
        "    validation_data=(X_val_new,y_val_new),\n",
        "    batch_size = batch_size,\n",
        "    epochs = nb_epoch,\n",
        "    shuffle=True,\n",
        "    callbacks=[checkpoint,lr_reducer]\n",
        "    )"
      ],
      "execution_count": 29,
      "outputs": [
        {
          "output_type": "stream",
          "text": [
            "Epoch 1/100\n",
            "144/144 [==============================] - ETA: 0s - loss: 1.4924 - acc: 0.3665\n",
            "Epoch 00001: val_acc improved from -inf to 0.46403, saving model to /content/saved_model/3DCNN_LRN_112_6_jester\n",
            "WARNING:tensorflow:From /usr/local/lib/python3.6/dist-packages/tensorflow/python/training/tracking/tracking.py:111: Model.state_updates (from tensorflow.python.keras.engine.training) is deprecated and will be removed in a future version.\n",
            "Instructions for updating:\n",
            "This property should not be used in TensorFlow 2.0, as updates are applied automatically.\n",
            "WARNING:tensorflow:From /usr/local/lib/python3.6/dist-packages/tensorflow/python/training/tracking/tracking.py:111: Layer.updates (from tensorflow.python.keras.engine.base_layer) is deprecated and will be removed in a future version.\n",
            "Instructions for updating:\n",
            "This property should not be used in TensorFlow 2.0, as updates are applied automatically.\n",
            "INFO:tensorflow:Assets written to: /content/saved_model/3DCNN_LRN_112_6_jester/assets\n",
            "144/144 [==============================] - 20s 136ms/step - loss: 1.4924 - acc: 0.3665 - val_loss: 1.2763 - val_acc: 0.4640\n",
            "Epoch 2/100\n",
            "144/144 [==============================] - ETA: 0s - loss: 1.0250 - acc: 0.5331\n",
            "Epoch 00002: val_acc improved from 0.46403 to 0.57803, saving model to /content/saved_model/3DCNN_LRN_112_6_jester\n",
            "INFO:tensorflow:Assets written to: /content/saved_model/3DCNN_LRN_112_6_jester/assets\n",
            "144/144 [==============================] - 18s 128ms/step - loss: 1.0250 - acc: 0.5331 - val_loss: 0.9163 - val_acc: 0.5780\n",
            "Epoch 3/100\n",
            "144/144 [==============================] - ETA: 0s - loss: 0.9316 - acc: 0.5738\n",
            "Epoch 00003: val_acc improved from 0.57803 to 0.62948, saving model to /content/saved_model/3DCNN_LRN_112_6_jester\n",
            "INFO:tensorflow:Assets written to: /content/saved_model/3DCNN_LRN_112_6_jester/assets\n",
            "144/144 [==============================] - 18s 128ms/step - loss: 0.9316 - acc: 0.5738 - val_loss: 0.8622 - val_acc: 0.6295\n",
            "Epoch 4/100\n",
            "144/144 [==============================] - ETA: 0s - loss: 0.8598 - acc: 0.6159\n",
            "Epoch 00004: val_acc did not improve from 0.62948\n",
            "144/144 [==============================] - 16s 114ms/step - loss: 0.8598 - acc: 0.6159 - val_loss: 0.9159 - val_acc: 0.5878\n",
            "Epoch 5/100\n",
            "144/144 [==============================] - ETA: 0s - loss: 0.8092 - acc: 0.6471\n",
            "Epoch 00005: val_acc improved from 0.62948 to 0.66806, saving model to /content/saved_model/3DCNN_LRN_112_6_jester\n",
            "INFO:tensorflow:Assets written to: /content/saved_model/3DCNN_LRN_112_6_jester/assets\n",
            "144/144 [==============================] - 19s 132ms/step - loss: 0.8092 - acc: 0.6471 - val_loss: 0.7813 - val_acc: 0.6681\n",
            "Epoch 6/100\n",
            "144/144 [==============================] - ETA: 0s - loss: 0.7638 - acc: 0.6736\n",
            "Epoch 00006: val_acc improved from 0.66806 to 0.68995, saving model to /content/saved_model/3DCNN_LRN_112_6_jester\n",
            "INFO:tensorflow:Assets written to: /content/saved_model/3DCNN_LRN_112_6_jester/assets\n",
            "144/144 [==============================] - 19s 133ms/step - loss: 0.7638 - acc: 0.6736 - val_loss: 0.7680 - val_acc: 0.6900\n",
            "Epoch 7/100\n",
            "144/144 [==============================] - ETA: 0s - loss: 0.7207 - acc: 0.7019\n",
            "Epoch 00007: val_acc did not improve from 0.68995\n",
            "144/144 [==============================] - 17s 116ms/step - loss: 0.7207 - acc: 0.7019 - val_loss: 0.8165 - val_acc: 0.6611\n",
            "Epoch 8/100\n",
            "144/144 [==============================] - ETA: 0s - loss: 0.6747 - acc: 0.7219\n",
            "Epoch 00008: val_acc improved from 0.68995 to 0.73514, saving model to /content/saved_model/3DCNN_LRN_112_6_jester\n",
            "INFO:tensorflow:Assets written to: /content/saved_model/3DCNN_LRN_112_6_jester/assets\n",
            "144/144 [==============================] - 19s 131ms/step - loss: 0.6747 - acc: 0.7219 - val_loss: 0.6752 - val_acc: 0.7351\n",
            "Epoch 9/100\n",
            "144/144 [==============================] - ETA: 0s - loss: 0.6342 - acc: 0.7455\n",
            "Epoch 00009: val_acc improved from 0.73514 to 0.75461, saving model to /content/saved_model/3DCNN_LRN_112_6_jester\n",
            "INFO:tensorflow:Assets written to: /content/saved_model/3DCNN_LRN_112_6_jester/assets\n",
            "144/144 [==============================] - 19s 132ms/step - loss: 0.6342 - acc: 0.7455 - val_loss: 0.6389 - val_acc: 0.7546\n",
            "Epoch 10/100\n",
            "144/144 [==============================] - ETA: 0s - loss: 0.5878 - acc: 0.7666\n",
            "Epoch 00010: val_acc did not improve from 0.75461\n",
            "144/144 [==============================] - 17s 116ms/step - loss: 0.5878 - acc: 0.7666 - val_loss: 0.6366 - val_acc: 0.7522\n",
            "Epoch 11/100\n",
            "144/144 [==============================] - ETA: 0s - loss: 0.5687 - acc: 0.7739\n",
            "Epoch 00011: val_acc improved from 0.75461 to 0.76955, saving model to /content/saved_model/3DCNN_LRN_112_6_jester\n",
            "INFO:tensorflow:Assets written to: /content/saved_model/3DCNN_LRN_112_6_jester/assets\n",
            "144/144 [==============================] - 19s 132ms/step - loss: 0.5687 - acc: 0.7739 - val_loss: 0.6189 - val_acc: 0.7696\n",
            "Epoch 12/100\n",
            "144/144 [==============================] - ETA: 0s - loss: 0.5417 - acc: 0.7855\n",
            "Epoch 00012: val_acc did not improve from 0.76955\n",
            "144/144 [==============================] - 17s 116ms/step - loss: 0.5417 - acc: 0.7855 - val_loss: 0.6515 - val_acc: 0.7289\n",
            "Epoch 13/100\n",
            "144/144 [==============================] - ETA: 0s - loss: 0.5116 - acc: 0.7951\n",
            "Epoch 00013: val_acc improved from 0.76955 to 0.79110, saving model to /content/saved_model/3DCNN_LRN_112_6_jester\n",
            "INFO:tensorflow:Assets written to: /content/saved_model/3DCNN_LRN_112_6_jester/assets\n",
            "144/144 [==============================] - 19s 132ms/step - loss: 0.5116 - acc: 0.7951 - val_loss: 0.5488 - val_acc: 0.7911\n",
            "Epoch 14/100\n",
            "144/144 [==============================] - ETA: 0s - loss: 0.4822 - acc: 0.8153\n",
            "Epoch 00014: val_acc did not improve from 0.79110\n",
            "144/144 [==============================] - 17s 115ms/step - loss: 0.4822 - acc: 0.8153 - val_loss: 0.5597 - val_acc: 0.7876\n",
            "Epoch 15/100\n",
            "144/144 [==============================] - ETA: 0s - loss: 0.4550 - acc: 0.8205\n",
            "Epoch 00015: val_acc did not improve from 0.79110\n",
            "144/144 [==============================] - 17s 116ms/step - loss: 0.4550 - acc: 0.8205 - val_loss: 0.6410 - val_acc: 0.7529\n",
            "Epoch 16/100\n",
            "144/144 [==============================] - ETA: 0s - loss: 0.4392 - acc: 0.8317\n",
            "Epoch 00016: val_acc improved from 0.79110 to 0.79666, saving model to /content/saved_model/3DCNN_LRN_112_6_jester\n",
            "INFO:tensorflow:Assets written to: /content/saved_model/3DCNN_LRN_112_6_jester/assets\n",
            "144/144 [==============================] - 19s 133ms/step - loss: 0.4392 - acc: 0.8317 - val_loss: 0.5442 - val_acc: 0.7967\n",
            "Epoch 17/100\n",
            "144/144 [==============================] - ETA: 0s - loss: 0.4099 - acc: 0.8414\n",
            "Epoch 00017: val_acc improved from 0.79666 to 0.79875, saving model to /content/saved_model/3DCNN_LRN_112_6_jester\n",
            "INFO:tensorflow:Assets written to: /content/saved_model/3DCNN_LRN_112_6_jester/assets\n",
            "144/144 [==============================] - 19s 131ms/step - loss: 0.4099 - acc: 0.8414 - val_loss: 0.5371 - val_acc: 0.7987\n",
            "Epoch 18/100\n",
            "144/144 [==============================] - ETA: 0s - loss: 0.3940 - acc: 0.8478\n",
            "Epoch 00018: val_acc improved from 0.79875 to 0.80188, saving model to /content/saved_model/3DCNN_LRN_112_6_jester\n",
            "INFO:tensorflow:Assets written to: /content/saved_model/3DCNN_LRN_112_6_jester/assets\n",
            "144/144 [==============================] - 19s 132ms/step - loss: 0.3940 - acc: 0.8478 - val_loss: 0.5253 - val_acc: 0.8019\n",
            "Epoch 19/100\n",
            "144/144 [==============================] - ETA: 0s - loss: 0.3767 - acc: 0.8565\n",
            "Epoch 00019: val_acc did not improve from 0.80188\n",
            "144/144 [==============================] - 17s 116ms/step - loss: 0.3767 - acc: 0.8565 - val_loss: 0.5456 - val_acc: 0.7960\n",
            "Epoch 20/100\n",
            "144/144 [==============================] - ETA: 0s - loss: 0.3469 - acc: 0.8652\n",
            "Epoch 00020: val_acc improved from 0.80188 to 0.80257, saving model to /content/saved_model/3DCNN_LRN_112_6_jester\n",
            "INFO:tensorflow:Assets written to: /content/saved_model/3DCNN_LRN_112_6_jester/assets\n",
            "144/144 [==============================] - 19s 132ms/step - loss: 0.3469 - acc: 0.8652 - val_loss: 0.5167 - val_acc: 0.8026\n",
            "Epoch 21/100\n",
            "144/144 [==============================] - ETA: 0s - loss: 0.3267 - acc: 0.8718\n",
            "Epoch 00021: val_acc did not improve from 0.80257\n",
            "144/144 [==============================] - 17s 115ms/step - loss: 0.3267 - acc: 0.8718 - val_loss: 0.5366 - val_acc: 0.7942\n",
            "Epoch 22/100\n",
            "144/144 [==============================] - ETA: 0s - loss: 0.3083 - acc: 0.8853\n",
            "Epoch 00022: val_acc improved from 0.80257 to 0.81960, saving model to /content/saved_model/3DCNN_LRN_112_6_jester\n",
            "INFO:tensorflow:Assets written to: /content/saved_model/3DCNN_LRN_112_6_jester/assets\n",
            "144/144 [==============================] - 19s 131ms/step - loss: 0.3083 - acc: 0.8853 - val_loss: 0.5003 - val_acc: 0.8196\n",
            "Epoch 23/100\n",
            "144/144 [==============================] - ETA: 0s - loss: 0.2792 - acc: 0.8962\n",
            "Epoch 00023: val_acc did not improve from 0.81960\n",
            "144/144 [==============================] - 17s 116ms/step - loss: 0.2792 - acc: 0.8962 - val_loss: 0.5433 - val_acc: 0.8040\n",
            "Epoch 24/100\n",
            "144/144 [==============================] - ETA: 0s - loss: 0.2657 - acc: 0.8988\n",
            "Epoch 00024: val_acc did not improve from 0.81960\n",
            "144/144 [==============================] - 17s 116ms/step - loss: 0.2657 - acc: 0.8988 - val_loss: 0.5110 - val_acc: 0.8109\n",
            "Epoch 25/100\n",
            "144/144 [==============================] - ETA: 0s - loss: 0.2581 - acc: 0.9032\n",
            "Epoch 00025: val_acc improved from 0.81960 to 0.82065, saving model to /content/saved_model/3DCNN_LRN_112_6_jester\n",
            "INFO:tensorflow:Assets written to: /content/saved_model/3DCNN_LRN_112_6_jester/assets\n",
            "144/144 [==============================] - 19s 133ms/step - loss: 0.2581 - acc: 0.9032 - val_loss: 0.5183 - val_acc: 0.8206\n",
            "Epoch 26/100\n",
            "144/144 [==============================] - ETA: 0s - loss: 0.2333 - acc: 0.9109\n",
            "Epoch 00026: val_acc did not improve from 0.82065\n",
            "144/144 [==============================] - 17s 115ms/step - loss: 0.2333 - acc: 0.9109 - val_loss: 0.5317 - val_acc: 0.8120\n",
            "Epoch 27/100\n",
            "144/144 [==============================] - ETA: 0s - loss: 0.2181 - acc: 0.9187\n",
            "Epoch 00027: val_acc did not improve from 0.82065\n",
            "144/144 [==============================] - 17s 116ms/step - loss: 0.2181 - acc: 0.9187 - val_loss: 0.5337 - val_acc: 0.8088\n",
            "Epoch 28/100\n",
            "144/144 [==============================] - ETA: 0s - loss: 0.2112 - acc: 0.9211\n",
            "Epoch 00028: val_acc did not improve from 0.82065\n",
            "144/144 [==============================] - 17s 116ms/step - loss: 0.2112 - acc: 0.9211 - val_loss: 0.5404 - val_acc: 0.8179\n",
            "Epoch 29/100\n",
            "144/144 [==============================] - ETA: 0s - loss: 0.1937 - acc: 0.9305\n",
            "Epoch 00029: val_acc did not improve from 0.82065\n",
            "144/144 [==============================] - 17s 116ms/step - loss: 0.1937 - acc: 0.9305 - val_loss: 0.5276 - val_acc: 0.8196\n",
            "Epoch 30/100\n",
            "144/144 [==============================] - ETA: 0s - loss: 0.1692 - acc: 0.9388\n",
            "Epoch 00030: val_acc improved from 0.82065 to 0.82621, saving model to /content/saved_model/3DCNN_LRN_112_6_jester\n",
            "INFO:tensorflow:Assets written to: /content/saved_model/3DCNN_LRN_112_6_jester/assets\n",
            "144/144 [==============================] - 19s 131ms/step - loss: 0.1692 - acc: 0.9388 - val_loss: 0.5260 - val_acc: 0.8262\n",
            "Epoch 31/100\n",
            "144/144 [==============================] - ETA: 0s - loss: 0.1720 - acc: 0.9378\n",
            "Epoch 00031: val_acc improved from 0.82621 to 0.82795, saving model to /content/saved_model/3DCNN_LRN_112_6_jester\n",
            "INFO:tensorflow:Assets written to: /content/saved_model/3DCNN_LRN_112_6_jester/assets\n",
            "144/144 [==============================] - 19s 132ms/step - loss: 0.1720 - acc: 0.9378 - val_loss: 0.5165 - val_acc: 0.8279\n",
            "Epoch 32/100\n",
            "144/144 [==============================] - ETA: 0s - loss: 0.1575 - acc: 0.9418\n",
            "Epoch 00032: val_acc did not improve from 0.82795\n",
            "\n",
            "Epoch 00032: ReduceLROnPlateau reducing learning rate to 0.0008333333333333334.\n",
            "144/144 [==============================] - 17s 116ms/step - loss: 0.1575 - acc: 0.9418 - val_loss: 0.5238 - val_acc: 0.8255\n",
            "Epoch 33/100\n",
            "144/144 [==============================] - ETA: 0s - loss: 0.1123 - acc: 0.9628\n",
            "Epoch 00033: val_acc improved from 0.82795 to 0.83559, saving model to /content/saved_model/3DCNN_LRN_112_6_jester\n",
            "INFO:tensorflow:Assets written to: /content/saved_model/3DCNN_LRN_112_6_jester/assets\n",
            "144/144 [==============================] - 19s 132ms/step - loss: 0.1123 - acc: 0.9628 - val_loss: 0.5109 - val_acc: 0.8356\n",
            "Epoch 34/100\n",
            "144/144 [==============================] - ETA: 0s - loss: 0.0947 - acc: 0.9683\n",
            "Epoch 00034: val_acc improved from 0.83559 to 0.83837, saving model to /content/saved_model/3DCNN_LRN_112_6_jester\n",
            "INFO:tensorflow:Assets written to: /content/saved_model/3DCNN_LRN_112_6_jester/assets\n",
            "144/144 [==============================] - 19s 131ms/step - loss: 0.0947 - acc: 0.9683 - val_loss: 0.5102 - val_acc: 0.8384\n",
            "Epoch 35/100\n",
            "144/144 [==============================] - ETA: 0s - loss: 0.0815 - acc: 0.9748\n",
            "Epoch 00035: val_acc improved from 0.83837 to 0.83942, saving model to /content/saved_model/3DCNN_LRN_112_6_jester\n",
            "INFO:tensorflow:Assets written to: /content/saved_model/3DCNN_LRN_112_6_jester/assets\n",
            "144/144 [==============================] - 19s 132ms/step - loss: 0.0815 - acc: 0.9748 - val_loss: 0.5204 - val_acc: 0.8394\n",
            "Epoch 36/100\n",
            "144/144 [==============================] - ETA: 0s - loss: 0.0795 - acc: 0.9738\n",
            "Epoch 00036: val_acc did not improve from 0.83942\n",
            "144/144 [==============================] - 17s 116ms/step - loss: 0.0795 - acc: 0.9738 - val_loss: 0.5236 - val_acc: 0.8370\n",
            "Epoch 37/100\n",
            "144/144 [==============================] - ETA: 0s - loss: 0.0725 - acc: 0.9750\n",
            "Epoch 00037: val_acc improved from 0.83942 to 0.84393, saving model to /content/saved_model/3DCNN_LRN_112_6_jester\n",
            "INFO:tensorflow:Assets written to: /content/saved_model/3DCNN_LRN_112_6_jester/assets\n",
            "144/144 [==============================] - 19s 132ms/step - loss: 0.0725 - acc: 0.9750 - val_loss: 0.5261 - val_acc: 0.8439\n",
            "Epoch 38/100\n",
            "144/144 [==============================] - ETA: 0s - loss: 0.0713 - acc: 0.9770\n",
            "Epoch 00038: val_acc did not improve from 0.84393\n",
            "144/144 [==============================] - 17s 116ms/step - loss: 0.0713 - acc: 0.9770 - val_loss: 0.5373 - val_acc: 0.8384\n",
            "Epoch 39/100\n",
            "144/144 [==============================] - ETA: 0s - loss: 0.0673 - acc: 0.9786\n",
            "Epoch 00039: val_acc did not improve from 0.84393\n",
            "144/144 [==============================] - 17s 116ms/step - loss: 0.0673 - acc: 0.9786 - val_loss: 0.5387 - val_acc: 0.8415\n",
            "Epoch 40/100\n",
            "144/144 [==============================] - ETA: 0s - loss: 0.0678 - acc: 0.9764\n",
            "Epoch 00040: val_acc did not improve from 0.84393\n",
            "144/144 [==============================] - 17s 116ms/step - loss: 0.0678 - acc: 0.9764 - val_loss: 0.5318 - val_acc: 0.8387\n",
            "Epoch 41/100\n",
            "144/144 [==============================] - ETA: 0s - loss: 0.0630 - acc: 0.9793\n",
            "Epoch 00041: val_acc did not improve from 0.84393\n",
            "144/144 [==============================] - 17s 116ms/step - loss: 0.0630 - acc: 0.9793 - val_loss: 0.5526 - val_acc: 0.8380\n",
            "Epoch 42/100\n",
            "144/144 [==============================] - ETA: 0s - loss: 0.0588 - acc: 0.9818\n",
            "Epoch 00042: val_acc did not improve from 0.84393\n",
            "\n",
            "Epoch 00042: ReduceLROnPlateau reducing learning rate to 0.0008333333333333334.\n",
            "144/144 [==============================] - 17s 116ms/step - loss: 0.0588 - acc: 0.9818 - val_loss: 0.5457 - val_acc: 0.8401\n",
            "Epoch 43/100\n",
            "144/144 [==============================] - ETA: 0s - loss: 0.0601 - acc: 0.9798\n",
            "Epoch 00043: val_acc did not improve from 0.84393\n",
            "144/144 [==============================] - 17s 116ms/step - loss: 0.0601 - acc: 0.9798 - val_loss: 0.5615 - val_acc: 0.8391\n",
            "Epoch 44/100\n",
            "144/144 [==============================] - ETA: 0s - loss: 0.0579 - acc: 0.9813\n",
            "Epoch 00044: val_acc did not improve from 0.84393\n",
            "144/144 [==============================] - 17s 116ms/step - loss: 0.0579 - acc: 0.9813 - val_loss: 0.5599 - val_acc: 0.8391\n",
            "Epoch 45/100\n",
            "144/144 [==============================] - ETA: 0s - loss: 0.0547 - acc: 0.9829\n",
            "Epoch 00045: val_acc did not improve from 0.84393\n",
            "144/144 [==============================] - 17s 116ms/step - loss: 0.0547 - acc: 0.9829 - val_loss: 0.5697 - val_acc: 0.8412\n",
            "Epoch 46/100\n",
            "144/144 [==============================] - ETA: 0s - loss: 0.0549 - acc: 0.9822\n",
            "Epoch 00046: val_acc did not improve from 0.84393\n",
            "144/144 [==============================] - 17s 116ms/step - loss: 0.0549 - acc: 0.9822 - val_loss: 0.5646 - val_acc: 0.8373\n",
            "Epoch 47/100\n",
            "144/144 [==============================] - ETA: 0s - loss: 0.0546 - acc: 0.9823\n",
            "Epoch 00047: val_acc did not improve from 0.84393\n",
            "144/144 [==============================] - 17s 116ms/step - loss: 0.0546 - acc: 0.9823 - val_loss: 0.5693 - val_acc: 0.8432\n",
            "Epoch 48/100\n",
            "144/144 [==============================] - ETA: 0s - loss: 0.0521 - acc: 0.9837\n",
            "Epoch 00048: val_acc did not improve from 0.84393\n",
            "144/144 [==============================] - 17s 117ms/step - loss: 0.0521 - acc: 0.9837 - val_loss: 0.5690 - val_acc: 0.8380\n",
            "Epoch 49/100\n",
            "144/144 [==============================] - ETA: 0s - loss: 0.0546 - acc: 0.9822\n",
            "Epoch 00049: val_acc did not improve from 0.84393\n",
            "144/144 [==============================] - 17s 116ms/step - loss: 0.0546 - acc: 0.9822 - val_loss: 0.5707 - val_acc: 0.8405\n",
            "Epoch 50/100\n",
            "144/144 [==============================] - ETA: 0s - loss: 0.0506 - acc: 0.9840\n",
            "Epoch 00050: val_acc did not improve from 0.84393\n",
            "144/144 [==============================] - 17s 116ms/step - loss: 0.0506 - acc: 0.9840 - val_loss: 0.5793 - val_acc: 0.8370\n",
            "Epoch 51/100\n",
            "144/144 [==============================] - ETA: 0s - loss: 0.0469 - acc: 0.9849\n",
            "Epoch 00051: val_acc did not improve from 0.84393\n",
            "144/144 [==============================] - 17s 116ms/step - loss: 0.0469 - acc: 0.9849 - val_loss: 0.5695 - val_acc: 0.8370\n",
            "Epoch 52/100\n",
            "144/144 [==============================] - ETA: 0s - loss: 0.0441 - acc: 0.9868\n",
            "Epoch 00052: val_acc did not improve from 0.84393\n",
            "\n",
            "Epoch 00052: ReduceLROnPlateau reducing learning rate to 0.0008333333333333334.\n",
            "144/144 [==============================] - 17s 116ms/step - loss: 0.0441 - acc: 0.9868 - val_loss: 0.5784 - val_acc: 0.8429\n",
            "Epoch 53/100\n",
            "144/144 [==============================] - ETA: 0s - loss: 0.0442 - acc: 0.9853\n",
            "Epoch 00053: val_acc did not improve from 0.84393\n",
            "144/144 [==============================] - 17s 116ms/step - loss: 0.0442 - acc: 0.9853 - val_loss: 0.5711 - val_acc: 0.8398\n",
            "Epoch 54/100\n",
            "144/144 [==============================] - ETA: 0s - loss: 0.0454 - acc: 0.9849\n",
            "Epoch 00054: val_acc did not improve from 0.84393\n",
            "144/144 [==============================] - 17s 117ms/step - loss: 0.0454 - acc: 0.9849 - val_loss: 0.5760 - val_acc: 0.8370\n",
            "Epoch 55/100\n",
            "144/144 [==============================] - ETA: 0s - loss: 0.0472 - acc: 0.9845\n",
            "Epoch 00055: val_acc did not improve from 0.84393\n",
            "144/144 [==============================] - 17s 117ms/step - loss: 0.0472 - acc: 0.9845 - val_loss: 0.5687 - val_acc: 0.8412\n",
            "Epoch 56/100\n",
            "144/144 [==============================] - ETA: 0s - loss: 0.0461 - acc: 0.9848\n",
            "Epoch 00056: val_acc did not improve from 0.84393\n",
            "144/144 [==============================] - 17s 117ms/step - loss: 0.0461 - acc: 0.9848 - val_loss: 0.5836 - val_acc: 0.8373\n",
            "Epoch 57/100\n",
            "144/144 [==============================] - ETA: 0s - loss: 0.0400 - acc: 0.9886\n",
            "Epoch 00057: val_acc did not improve from 0.84393\n",
            "144/144 [==============================] - 17s 116ms/step - loss: 0.0400 - acc: 0.9886 - val_loss: 0.5778 - val_acc: 0.8380\n",
            "Epoch 58/100\n",
            "144/144 [==============================] - ETA: 0s - loss: 0.0417 - acc: 0.9864\n",
            "Epoch 00058: val_acc did not improve from 0.84393\n",
            "144/144 [==============================] - 17s 116ms/step - loss: 0.0417 - acc: 0.9864 - val_loss: 0.5823 - val_acc: 0.8429\n",
            "Epoch 59/100\n",
            "144/144 [==============================] - ETA: 0s - loss: 0.0398 - acc: 0.9871\n",
            "Epoch 00059: val_acc did not improve from 0.84393\n",
            "144/144 [==============================] - 17s 116ms/step - loss: 0.0398 - acc: 0.9871 - val_loss: 0.5844 - val_acc: 0.8401\n",
            "Epoch 60/100\n",
            "144/144 [==============================] - ETA: 0s - loss: 0.0412 - acc: 0.9867\n",
            "Epoch 00060: val_acc did not improve from 0.84393\n",
            "144/144 [==============================] - 17s 116ms/step - loss: 0.0412 - acc: 0.9867 - val_loss: 0.5881 - val_acc: 0.8408\n",
            "Epoch 61/100\n",
            "144/144 [==============================] - ETA: 0s - loss: 0.0405 - acc: 0.9864\n",
            "Epoch 00061: val_acc did not improve from 0.84393\n",
            "144/144 [==============================] - 17s 116ms/step - loss: 0.0405 - acc: 0.9864 - val_loss: 0.6000 - val_acc: 0.8408\n",
            "Epoch 62/100\n",
            "144/144 [==============================] - ETA: 0s - loss: 0.0377 - acc: 0.9888\n",
            "Epoch 00062: val_acc did not improve from 0.84393\n",
            "\n",
            "Epoch 00062: ReduceLROnPlateau reducing learning rate to 0.0008333333333333334.\n",
            "144/144 [==============================] - 17s 116ms/step - loss: 0.0377 - acc: 0.9888 - val_loss: 0.6018 - val_acc: 0.8401\n",
            "Epoch 63/100\n",
            "144/144 [==============================] - ETA: 0s - loss: 0.0388 - acc: 0.9886\n",
            "Epoch 00063: val_acc did not improve from 0.84393\n",
            "144/144 [==============================] - 17s 116ms/step - loss: 0.0388 - acc: 0.9886 - val_loss: 0.6132 - val_acc: 0.8401\n",
            "Epoch 64/100\n",
            "144/144 [==============================] - ETA: 0s - loss: 0.0358 - acc: 0.9893\n",
            "Epoch 00064: val_acc did not improve from 0.84393\n",
            "144/144 [==============================] - 17s 116ms/step - loss: 0.0358 - acc: 0.9893 - val_loss: 0.5930 - val_acc: 0.8384\n",
            "Epoch 65/100\n",
            "144/144 [==============================] - ETA: 0s - loss: 0.0330 - acc: 0.9906\n",
            "Epoch 00065: val_acc did not improve from 0.84393\n",
            "144/144 [==============================] - 17s 115ms/step - loss: 0.0330 - acc: 0.9906 - val_loss: 0.6285 - val_acc: 0.8439\n",
            "Epoch 66/100\n",
            "144/144 [==============================] - ETA: 0s - loss: 0.0355 - acc: 0.9891\n",
            "Epoch 00066: val_acc did not improve from 0.84393\n",
            "144/144 [==============================] - 17s 116ms/step - loss: 0.0355 - acc: 0.9891 - val_loss: 0.6015 - val_acc: 0.8436\n",
            "Epoch 67/100\n",
            "144/144 [==============================] - ETA: 0s - loss: 0.0310 - acc: 0.9909\n",
            "Epoch 00067: val_acc did not improve from 0.84393\n",
            "144/144 [==============================] - 17s 116ms/step - loss: 0.0310 - acc: 0.9909 - val_loss: 0.6069 - val_acc: 0.8415\n",
            "Epoch 68/100\n",
            "144/144 [==============================] - ETA: 0s - loss: 0.0352 - acc: 0.9901\n",
            "Epoch 00068: val_acc did not improve from 0.84393\n",
            "144/144 [==============================] - 17s 116ms/step - loss: 0.0352 - acc: 0.9901 - val_loss: 0.6080 - val_acc: 0.8387\n",
            "Epoch 69/100\n",
            "144/144 [==============================] - ETA: 0s - loss: 0.0306 - acc: 0.9913\n",
            "Epoch 00069: val_acc did not improve from 0.84393\n",
            "144/144 [==============================] - 17s 115ms/step - loss: 0.0306 - acc: 0.9913 - val_loss: 0.6121 - val_acc: 0.8401\n",
            "Epoch 70/100\n",
            "144/144 [==============================] - ETA: 0s - loss: 0.0311 - acc: 0.9900\n",
            "Epoch 00070: val_acc did not improve from 0.84393\n",
            "144/144 [==============================] - 17s 116ms/step - loss: 0.0311 - acc: 0.9900 - val_loss: 0.6170 - val_acc: 0.8391\n",
            "Epoch 71/100\n",
            "144/144 [==============================] - ETA: 0s - loss: 0.0362 - acc: 0.9888\n",
            "Epoch 00071: val_acc did not improve from 0.84393\n",
            "144/144 [==============================] - 17s 116ms/step - loss: 0.0362 - acc: 0.9888 - val_loss: 0.6091 - val_acc: 0.8398\n",
            "Epoch 72/100\n",
            "144/144 [==============================] - ETA: 0s - loss: 0.0314 - acc: 0.9899\n",
            "Epoch 00072: val_acc did not improve from 0.84393\n",
            "\n",
            "Epoch 00072: ReduceLROnPlateau reducing learning rate to 0.0008333333333333334.\n",
            "144/144 [==============================] - 17s 116ms/step - loss: 0.0314 - acc: 0.9899 - val_loss: 0.6145 - val_acc: 0.8377\n",
            "Epoch 73/100\n",
            "144/144 [==============================] - ETA: 0s - loss: 0.0294 - acc: 0.9900\n",
            "Epoch 00073: val_acc did not improve from 0.84393\n",
            "144/144 [==============================] - 17s 116ms/step - loss: 0.0294 - acc: 0.9900 - val_loss: 0.6131 - val_acc: 0.8418\n",
            "Epoch 74/100\n",
            "144/144 [==============================] - ETA: 0s - loss: 0.0283 - acc: 0.9910\n",
            "Epoch 00074: val_acc did not improve from 0.84393\n",
            "144/144 [==============================] - 17s 116ms/step - loss: 0.0283 - acc: 0.9910 - val_loss: 0.6188 - val_acc: 0.8412\n",
            "Epoch 75/100\n",
            "144/144 [==============================] - ETA: 0s - loss: 0.0294 - acc: 0.9905\n",
            "Epoch 00075: val_acc did not improve from 0.84393\n",
            "144/144 [==============================] - 17s 116ms/step - loss: 0.0294 - acc: 0.9905 - val_loss: 0.6294 - val_acc: 0.8391\n",
            "Epoch 76/100\n",
            "144/144 [==============================] - ETA: 0s - loss: 0.0309 - acc: 0.9893\n",
            "Epoch 00076: val_acc did not improve from 0.84393\n",
            "144/144 [==============================] - 17s 116ms/step - loss: 0.0309 - acc: 0.9893 - val_loss: 0.6351 - val_acc: 0.8422\n",
            "Epoch 77/100\n",
            "144/144 [==============================] - ETA: 0s - loss: 0.0281 - acc: 0.9913\n",
            "Epoch 00077: val_acc did not improve from 0.84393\n",
            "144/144 [==============================] - 17s 116ms/step - loss: 0.0281 - acc: 0.9913 - val_loss: 0.6226 - val_acc: 0.8425\n",
            "Epoch 78/100\n",
            "144/144 [==============================] - ETA: 0s - loss: 0.0255 - acc: 0.9927\n",
            "Epoch 00078: val_acc did not improve from 0.84393\n",
            "144/144 [==============================] - 17s 116ms/step - loss: 0.0255 - acc: 0.9927 - val_loss: 0.6432 - val_acc: 0.8418\n",
            "Epoch 79/100\n",
            "144/144 [==============================] - ETA: 0s - loss: 0.0291 - acc: 0.9900\n",
            "Epoch 00079: val_acc did not improve from 0.84393\n",
            "144/144 [==============================] - 17s 116ms/step - loss: 0.0291 - acc: 0.9900 - val_loss: 0.6333 - val_acc: 0.8432\n",
            "Epoch 80/100\n",
            "144/144 [==============================] - ETA: 0s - loss: 0.0271 - acc: 0.9917\n",
            "Epoch 00080: val_acc did not improve from 0.84393\n",
            "144/144 [==============================] - 17s 116ms/step - loss: 0.0271 - acc: 0.9917 - val_loss: 0.6264 - val_acc: 0.8408\n",
            "Epoch 81/100\n",
            "144/144 [==============================] - ETA: 0s - loss: 0.0267 - acc: 0.9917\n",
            "Epoch 00081: val_acc did not improve from 0.84393\n",
            "144/144 [==============================] - 17s 116ms/step - loss: 0.0267 - acc: 0.9917 - val_loss: 0.6458 - val_acc: 0.8398\n",
            "Epoch 82/100\n",
            "144/144 [==============================] - ETA: 0s - loss: 0.0274 - acc: 0.9921\n",
            "Epoch 00082: val_acc did not improve from 0.84393\n",
            "\n",
            "Epoch 00082: ReduceLROnPlateau reducing learning rate to 0.0008333333333333334.\n",
            "144/144 [==============================] - 17s 116ms/step - loss: 0.0274 - acc: 0.9921 - val_loss: 0.6361 - val_acc: 0.8405\n",
            "Epoch 83/100\n",
            "144/144 [==============================] - ETA: 0s - loss: 0.0264 - acc: 0.9913\n",
            "Epoch 00083: val_acc did not improve from 0.84393\n",
            "144/144 [==============================] - 17s 116ms/step - loss: 0.0264 - acc: 0.9913 - val_loss: 0.6478 - val_acc: 0.8398\n",
            "Epoch 84/100\n",
            "144/144 [==============================] - ETA: 0s - loss: 0.0255 - acc: 0.9916\n",
            "Epoch 00084: val_acc did not improve from 0.84393\n",
            "144/144 [==============================] - 17s 116ms/step - loss: 0.0255 - acc: 0.9916 - val_loss: 0.6399 - val_acc: 0.8391\n",
            "Epoch 85/100\n",
            "144/144 [==============================] - ETA: 0s - loss: 0.0256 - acc: 0.9913\n",
            "Epoch 00085: val_acc did not improve from 0.84393\n",
            "144/144 [==============================] - 17s 116ms/step - loss: 0.0256 - acc: 0.9913 - val_loss: 0.6301 - val_acc: 0.8405\n",
            "Epoch 86/100\n",
            "144/144 [==============================] - ETA: 0s - loss: 0.0262 - acc: 0.9926\n",
            "Epoch 00086: val_acc did not improve from 0.84393\n",
            "144/144 [==============================] - 17s 116ms/step - loss: 0.0262 - acc: 0.9926 - val_loss: 0.6582 - val_acc: 0.8422\n",
            "Epoch 87/100\n",
            "144/144 [==============================] - ETA: 0s - loss: 0.0264 - acc: 0.9922\n",
            "Epoch 00087: val_acc did not improve from 0.84393\n",
            "144/144 [==============================] - 17s 116ms/step - loss: 0.0264 - acc: 0.9922 - val_loss: 0.6401 - val_acc: 0.8436\n",
            "Epoch 88/100\n",
            "144/144 [==============================] - ETA: 0s - loss: 0.0260 - acc: 0.9928\n",
            "Epoch 00088: val_acc did not improve from 0.84393\n",
            "144/144 [==============================] - 17s 116ms/step - loss: 0.0260 - acc: 0.9928 - val_loss: 0.6351 - val_acc: 0.8380\n",
            "Epoch 89/100\n",
            "144/144 [==============================] - ETA: 0s - loss: 0.0255 - acc: 0.9925\n",
            "Epoch 00089: val_acc improved from 0.84393 to 0.84428, saving model to /content/saved_model/3DCNN_LRN_112_6_jester\n",
            "INFO:tensorflow:Assets written to: /content/saved_model/3DCNN_LRN_112_6_jester/assets\n",
            "144/144 [==============================] - 19s 131ms/step - loss: 0.0255 - acc: 0.9925 - val_loss: 0.6236 - val_acc: 0.8443\n",
            "Epoch 90/100\n",
            "144/144 [==============================] - ETA: 0s - loss: 0.0235 - acc: 0.9934\n",
            "Epoch 00090: val_acc did not improve from 0.84428\n",
            "144/144 [==============================] - 17s 116ms/step - loss: 0.0235 - acc: 0.9934 - val_loss: 0.6477 - val_acc: 0.8425\n",
            "Epoch 91/100\n",
            "144/144 [==============================] - ETA: 0s - loss: 0.0239 - acc: 0.9926\n",
            "Epoch 00091: val_acc improved from 0.84428 to 0.84463, saving model to /content/saved_model/3DCNN_LRN_112_6_jester\n",
            "INFO:tensorflow:Assets written to: /content/saved_model/3DCNN_LRN_112_6_jester/assets\n",
            "144/144 [==============================] - 19s 134ms/step - loss: 0.0239 - acc: 0.9926 - val_loss: 0.6535 - val_acc: 0.8446\n",
            "Epoch 92/100\n",
            "144/144 [==============================] - ETA: 0s - loss: 0.0229 - acc: 0.9935\n",
            "Epoch 00092: val_acc improved from 0.84463 to 0.84567, saving model to /content/saved_model/3DCNN_LRN_112_6_jester\n",
            "INFO:tensorflow:Assets written to: /content/saved_model/3DCNN_LRN_112_6_jester/assets\n",
            "\n",
            "Epoch 00092: ReduceLROnPlateau reducing learning rate to 0.0008333333333333334.\n",
            "144/144 [==============================] - 19s 132ms/step - loss: 0.0229 - acc: 0.9935 - val_loss: 0.6526 - val_acc: 0.8457\n",
            "Epoch 93/100\n",
            "144/144 [==============================] - ETA: 0s - loss: 0.0229 - acc: 0.9936\n",
            "Epoch 00093: val_acc did not improve from 0.84567\n",
            "144/144 [==============================] - 17s 116ms/step - loss: 0.0229 - acc: 0.9936 - val_loss: 0.6505 - val_acc: 0.8453\n",
            "Epoch 94/100\n",
            "144/144 [==============================] - ETA: 0s - loss: 0.0245 - acc: 0.9928\n",
            "Epoch 00094: val_acc did not improve from 0.84567\n",
            "144/144 [==============================] - 17s 116ms/step - loss: 0.0245 - acc: 0.9928 - val_loss: 0.6472 - val_acc: 0.8415\n",
            "Epoch 95/100\n",
            "144/144 [==============================] - ETA: 0s - loss: 0.0214 - acc: 0.9933\n",
            "Epoch 00095: val_acc did not improve from 0.84567\n",
            "144/144 [==============================] - 17s 116ms/step - loss: 0.0214 - acc: 0.9933 - val_loss: 0.6432 - val_acc: 0.8418\n",
            "Epoch 96/100\n",
            "144/144 [==============================] - ETA: 0s - loss: 0.0194 - acc: 0.9950\n",
            "Epoch 00096: val_acc did not improve from 0.84567\n",
            "144/144 [==============================] - 17s 117ms/step - loss: 0.0194 - acc: 0.9950 - val_loss: 0.6486 - val_acc: 0.8422\n",
            "Epoch 97/100\n",
            "144/144 [==============================] - ETA: 0s - loss: 0.0240 - acc: 0.9924\n",
            "Epoch 00097: val_acc did not improve from 0.84567\n",
            "144/144 [==============================] - 17s 116ms/step - loss: 0.0240 - acc: 0.9924 - val_loss: 0.6498 - val_acc: 0.8443\n",
            "Epoch 98/100\n",
            "144/144 [==============================] - ETA: 0s - loss: 0.0254 - acc: 0.9921\n",
            "Epoch 00098: val_acc did not improve from 0.84567\n",
            "144/144 [==============================] - 17s 117ms/step - loss: 0.0254 - acc: 0.9921 - val_loss: 0.6576 - val_acc: 0.8446\n",
            "Epoch 99/100\n",
            "144/144 [==============================] - ETA: 0s - loss: 0.0190 - acc: 0.9949\n",
            "Epoch 00099: val_acc did not improve from 0.84567\n",
            "144/144 [==============================] - 17s 116ms/step - loss: 0.0190 - acc: 0.9949 - val_loss: 0.6674 - val_acc: 0.8412\n",
            "Epoch 100/100\n",
            "144/144 [==============================] - ETA: 0s - loss: 0.0214 - acc: 0.9941\n",
            "Epoch 00100: val_acc did not improve from 0.84567\n",
            "144/144 [==============================] - 17s 116ms/step - loss: 0.0214 - acc: 0.9941 - val_loss: 0.6611 - val_acc: 0.8453\n"
          ],
          "name": "stdout"
        }
      ]
    },
    {
      "cell_type": "code",
      "metadata": {
        "id": "EJRmzJlS4ziP",
        "outputId": "6c15644f-aacd-4dc7-e362-eca57e2664bc",
        "colab": {
          "base_uri": "https://localhost:8080/",
          "height": 620
        }
      },
      "source": [
        "[loss, acc] = model.evaluate(x_test,y_test,verbose=1)\n",
        "print(\"Accuracy:\" + str(acc*100)+\"%\")\n",
        "epochs = [i for i in range(100)]\n",
        "fig , ax = plt.subplots(1,2)\n",
        "train_acc = hist.history['acc']\n",
        "train_loss = hist.history['loss']\n",
        "val_acc = hist.history['val_acc']\n",
        "val_loss = hist.history['val_loss']\n",
        "fig.set_size_inches(16,9)\n",
        "\n",
        "ax[0].plot(epochs , train_acc,'go-',label='Training Accuracy')\n",
        "ax[0].plot(epochs , val_acc,'ro-',label='Testing Accuracy')\n",
        "ax[0].set_title('Training & Validation Accuracy')\n",
        "ax[0].legend()\n",
        "ax[0].set_xlabel(\"Epochs\")\n",
        "ax[0].set_ylabel(\"Accuracy\")\n",
        "\n",
        "ax[1].plot(epochs , train_loss,'g-o',label='Training Loss')\n",
        "ax[1].plot(epochs , val_loss,'r-o',label='Testing Loss')\n",
        "ax[1].set_title('Testing Accuracy & Loss')\n",
        "ax[1].legend()\n",
        "ax[1].set_xlabel(\"Epochs\")\n",
        "ax[1].set_ylabel(\"Loss\")"
      ],
      "execution_count": 30,
      "outputs": [
        {
          "output_type": "stream",
          "text": [
            "57/57 [==============================] - 1s 14ms/step - loss: 0.8997 - acc: 0.8087\n",
            "Accuracy:80.86763024330139%\n"
          ],
          "name": "stdout"
        },
        {
          "output_type": "execute_result",
          "data": {
            "text/plain": [
              "Text(0, 0.5, 'Loss')"
            ]
          },
          "metadata": {
            "tags": []
          },
          "execution_count": 30
        },
        {
          "output_type": "display_data",
          "data": {
            "image/png": "[encoded data removed]",
            "text/plain": [
              "<Figure size 1152x648 with 2 Axes>"
            ]
          },
          "metadata": {
            "tags": [],
            "needs_background": "light"
          }
        }
      ]
    },
    {
      "cell_type": "markdown",
      "metadata": {
        "id": "BQDCy-2w0nkY"
      },
      "source": [
        ""
      ]
    },
    {
      "cell_type": "code",
      "metadata": {
        "id": "pCJkJPCXitSi"
      },
      "source": [
        "model.save_weights('/w.tf', save_format='tf')"
      ],
      "execution_count": null,
      "outputs": []
    },
    {
      "cell_type": "markdown",
      "metadata": {
        "id": "zdHxpXXVnG7G"
      },
      "source": [
        "**Make Predictions**"
      ]
    },
    {
      "cell_type": "code",
      "metadata": {
        "id": "7DGZXAzonL9J"
      },
      "source": [
        "x_test.shape"
      ],
      "execution_count": null,
      "outputs": []
    },
    {
      "cell_type": "code",
      "metadata": {
        "id": "KYgTKKCknZHc"
      },
      "source": [
        "y_test.shape"
      ],
      "execution_count": null,
      "outputs": []
    },
    {
      "cell_type": "code",
      "metadata": {
        "id": "iww1i12XnaQU"
      },
      "source": [
        "np.unique(y_test, return_counts=True)"
      ],
      "execution_count": null,
      "outputs": []
    },
    {
      "cell_type": "markdown",
      "metadata": {
        "id": "gncuNhVlnd29"
      },
      "source": [
        "Make Prediction"
      ]
    },
    {
      "cell_type": "code",
      "metadata": {
        "id": "aMssBvRkngZ1"
      },
      "source": [
        "y_pred = model.predict(x_test)"
      ],
      "execution_count": null,
      "outputs": []
    },
    {
      "cell_type": "code",
      "metadata": {
        "id": "GtRY1NNXnkXC"
      },
      "source": [
        "y_pred.shape"
      ],
      "execution_count": null,
      "outputs": []
    },
    {
      "cell_type": "code",
      "metadata": {
        "id": "oY4-oRFwnp4A"
      },
      "source": [
        "y_pred = np.argmax(y_pred, axis=-1)\n",
        "y_pred.shape"
      ],
      "execution_count": null,
      "outputs": []
    },
    {
      "cell_type": "code",
      "metadata": {
        "id": "hFdTw0VtnsmZ"
      },
      "source": [
        "y_pred"
      ],
      "execution_count": null,
      "outputs": []
    },
    {
      "cell_type": "markdown",
      "metadata": {
        "id": "j-Ru4DsPny8K"
      },
      "source": [
        "**Analysis**"
      ]
    },
    {
      "cell_type": "code",
      "metadata": {
        "id": "C6bf0sinnwVS"
      },
      "source": [
        "from sklearn.metrics import confusion_matrix, accuracy_score, precision_score, recall_score, f1_score"
      ],
      "execution_count": null,
      "outputs": []
    },
    {
      "cell_type": "code",
      "metadata": {
        "id": "g3ep55lLn__Y"
      },
      "source": [
        "labels = list(LABELS.keys())\n",
        "labels"
      ],
      "execution_count": null,
      "outputs": []
    },
    {
      "cell_type": "markdown",
      "metadata": {
        "id": "QnUaOdploC9T"
      },
      "source": [
        "**1. Confusion Matrix**"
      ]
    },
    {
      "cell_type": "code",
      "metadata": {
        "id": "FQQZcc9roGe_"
      },
      "source": [
        "cm = confusion_matrix(y_test, y_pred, normalize='true')\n",
        "df_cm = pd.DataFrame(cm, range(6), range(6))\n",
        "plt.figure(figsize=(15,15))\n",
        "sbn.set(font_scale=1.4) # for label size\n",
        "sbn.heatmap(df_cm, annot=True, annot_kws={\"size\": 16}, xticklabels=labels, yticklabels=labels)\n",
        "\n",
        "plt.show()"
      ],
      "execution_count": null,
      "outputs": []
    },
    {
      "cell_type": "markdown",
      "metadata": {
        "id": "h05qbbSLoP8q"
      },
      "source": [
        "**2. Accuracy**"
      ]
    },
    {
      "cell_type": "code",
      "metadata": {
        "id": "jDYAoht9oR2N"
      },
      "source": [
        "accuracy_score(y_test, y_pred)"
      ],
      "execution_count": null,
      "outputs": []
    },
    {
      "cell_type": "markdown",
      "metadata": {
        "id": "ptSNcutSoaA_"
      },
      "source": [
        "**3. Precision**"
      ]
    },
    {
      "cell_type": "code",
      "metadata": {
        "id": "BF7RDrSRoYNJ"
      },
      "source": [
        "precision_score(y_test, y_pred, average='macro')"
      ],
      "execution_count": null,
      "outputs": []
    },
    {
      "cell_type": "markdown",
      "metadata": {
        "id": "yMN-jZmBoqxP"
      },
      "source": [
        "**4. Recall**"
      ]
    },
    {
      "cell_type": "code",
      "metadata": {
        "id": "ZyXBO4juotSL"
      },
      "source": [
        "recall_score(y_test, y_pred, average='macro')"
      ],
      "execution_count": null,
      "outputs": []
    },
    {
      "cell_type": "markdown",
      "metadata": {
        "id": "XE5NVuQVo0hE"
      },
      "source": [
        "**5. F1**"
      ]
    },
    {
      "cell_type": "code",
      "metadata": {
        "id": "eRBmZhRyowce"
      },
      "source": [
        "f1_score(y_test, y_pred, average='macro')"
      ],
      "execution_count": null,
      "outputs": []
    }
  ]
}