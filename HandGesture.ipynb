{
  "nbformat": 4,
  "nbformat_minor": 0,
  "metadata": {
    "accelerator": "GPU",
    "colab": {
      "name": "HandGesture",
      "provenance": [],
      "collapsed_sections": [],
      "mount_file_id": "1TgJTnr4N-lDJjYldzycWL-L0Ns2An33Y",
      "authorship_tag": "ABX9TyNOlFbbBT2Kif8ctpzAXh8K",
      "include_colab_link": true
    },
    "kernelspec": {
      "display_name": "Python 3",
      "name": "python3"
    }
  },
  "cells": [
    {
      "cell_type": "markdown",
      "metadata": {
        "id": "view-in-github",
        "colab_type": "text"
      },
      "source": [
        "<a href=\"https://colab.research.google.com/github/zero-tanveer/Hand-Gesture-Recognition/blob/main/HandGesture.ipynb\" target=\"_parent\"><img src=\"https://colab.research.google.com/assets/colab-badge.svg\" alt=\"Open In Colab\"/></a>"
      ]
    },
    {
      "cell_type": "code",
      "metadata": {
        "id": "1C0oho4eQbeU"
      },
      "source": [
        "#Tanveer_1728042\n",
        "from pydrive.auth import GoogleAuth\n",
        "from pydrive.drive import GoogleDrive\n",
        "from google.colab import auth\n",
        "from oauth2client.client import GoogleCredentials\n"
      ],
      "execution_count": 1,
      "outputs": []
    },
    {
      "cell_type": "code",
      "metadata": {
        "id": "SeCsx_Nvzq9J"
      },
      "source": [
        "auth.authenticate_user()\n",
        "gauth = GoogleAuth()\n",
        "gauth.credentials = GoogleCredentials.get_application_default()\n",
        "drive = GoogleDrive(gauth)"
      ],
      "execution_count": 2,
      "outputs": []
    },
    {
      "cell_type": "code",
      "metadata": {
        "id": "6YBvUCtC0IN4"
      },
      "source": [
        "downloaded = drive.CreateFile({'id':'1LY2kUaXY62IxGXsKziS-TZsxBnIFwCHK'}) # replace the id with id of file you want to access\n",
        "downloaded.GetContentFile('kaggle.json') "
      ],
      "execution_count": 3,
      "outputs": []
    },
    {
      "cell_type": "code",
      "metadata": {
        "id": "vrPb-5bQ1ixt"
      },
      "source": [
        "!mkdir -p ~/.kaggle\n",
        "!cp kaggle.json ~/.kaggle/\n",
        "!chmod 600 ~/.kaggle/kaggle.json"
      ],
      "execution_count": 4,
      "outputs": []
    },
    {
      "cell_type": "code",
      "metadata": {
        "id": "eKRHdAeYrrD3",
        "outputId": "5d1ab5ce-7465-4574-9e66-389c521c292f",
        "colab": {
          "base_uri": "https://localhost:8080/"
        }
      },
      "source": [
        "%cd /content/drive/Shared drives/Tanveer"
      ],
      "execution_count": null,
      "outputs": [
        {
          "output_type": "stream",
          "text": [
            "/content/drive/Shared drives/Tanveer\n"
          ],
          "name": "stdout"
        }
      ]
    },
    {
      "cell_type": "code",
      "metadata": {
        "id": "D_05U2nX2Xxi",
        "outputId": "75150123-dcb8-42b6-9022-a7d3da4cfd83",
        "colab": {
          "base_uri": "https://localhost:8080/"
        }
      },
      "source": [
        "!kaggle datasets download -d toxicmender/20bn-jester"
      ],
      "execution_count": 5,
      "outputs": [
        {
          "output_type": "stream",
          "text": [
            "Downloading 20bn-jester.zip to /content\n",
            "100% 11.9G/11.9G [04:50<00:00, 88.1MB/s]\n",
            "100% 11.9G/11.9G [04:50<00:00, 44.0MB/s]\n"
          ],
          "name": "stdout"
        }
      ]
    },
    {
      "cell_type": "code",
      "metadata": {
        "id": "Og8U32tg4aFf",
        "outputId": "d6e163ce-5e7a-47fc-bcd8-4a7b72deab87",
        "colab": {
          "base_uri": "https://localhost:8080/"
        }
      },
      "source": [
        "from zipfile import ZipFile\n",
        "file_name = \"20bn-jester.zip\"\n",
        "\n",
        "with ZipFile(file_name,'r') as zip:\n",
        "  zip.extractall()\n",
        "  print('Done')"
      ],
      "execution_count": 6,
      "outputs": [
        {
          "output_type": "stream",
          "text": [
            "Done\n"
          ],
          "name": "stdout"
        }
      ]
    },
    {
      "cell_type": "code",
      "metadata": {
        "id": "1-QQ8vsN7H6s"
      },
      "source": [
        "!cp -r \"/content/Train.csv\" \"/content/drive/Shared drives/Tanveer\""
      ],
      "execution_count": null,
      "outputs": []
    },
    {
      "cell_type": "code",
      "metadata": {
        "id": "dkr8HXLjTe7F"
      },
      "source": [
        "import numpy as np\n",
        "import pandas as pd\n",
        "import tensorflow as tf\n",
        "import cv2\n",
        "from tqdm import tqdm\n",
        "\n",
        "import seaborn as sbn\n",
        "import matplotlib.image as img\n",
        "import matplotlib.pyplot as plt\n",
        "from sklearn.preprocessing import StandardScaler\n",
        "\n",
        "import os\n",
        "import gc\n",
        "import math"
      ],
      "execution_count": 1,
      "outputs": []
    },
    {
      "cell_type": "markdown",
      "metadata": {
        "id": "fUdltNd8UYg5"
      },
      "source": [
        "**Making smaller set**\n",
        "\n",
        "The classes (labels) we want to use"
      ]
    },
    {
      "cell_type": "code",
      "metadata": {
        "id": "GkGIU_dUUSm7"
      },
      "source": [
        "LABELS = {\n",
        "    \"Swiping Right\": 0,\n",
        "    \"Swiping Left\": 1,\n",
        "    \"No gesture\": 2,\n",
        "    \"Thumb Up\": 3,\n",
        "    \"Sliding Two Fingers Up\": 4,\n",
        "    \"Sliding Two Fingers Down\": 5\n",
        "}"
      ],
      "execution_count": 2,
      "outputs": []
    },
    {
      "cell_type": "markdown",
      "metadata": {
        "id": "85tV1h3SUtPx"
      },
      "source": [
        "**Loading Data**"
      ]
    },
    {
      "cell_type": "code",
      "metadata": {
        "id": "iNga_mEAU1fg"
      },
      "source": [
        "BASE_PATH = '/content'\n",
        "TRAIN_DATA_CSV = BASE_PATH + '/Train.csv'\n",
        "TEST_DATA_CSV = BASE_PATH + '/Test.csv'\n",
        "VAL_DATA_CSV = BASE_PATH + '/Validation.csv'\n",
        "\n",
        "TRAIN_SAMPLES_PATH = BASE_PATH + '/Train/'\n",
        "TEST_SAMPLES_PATH = BASE_PATH + '/Test/'\n",
        "VAL_SAMPLES_PATH = BASE_PATH + '/Validation/'"
      ],
      "execution_count": 3,
      "outputs": []
    },
    {
      "cell_type": "markdown",
      "metadata": {
        "id": "kYv9_PEiVFj9"
      },
      "source": [
        "Training targets, you can use your custom csv file if you already created it before"
      ]
    },
    {
      "cell_type": "code",
      "metadata": {
        "id": "DzLJn2DHVIBG",
        "outputId": "fe920227-c811-46ab-d9a1-83a0bad3c1bd",
        "colab": {
          "base_uri": "https://localhost:8080/",
          "height": 419
        }
      },
      "source": [
        "targets = pd.read_csv(TRAIN_DATA_CSV)\n",
        "targets = targets[targets['label'].isin(LABELS.keys())]\n",
        "targets['label'] = targets['label'].map(LABELS)\n",
        "targets = targets[['video_id', 'label']]\n",
        "targets = targets.reset_index()\n",
        "targets"
      ],
      "execution_count": 4,
      "outputs": [
        {
          "output_type": "execute_result",
          "data": {
            "text/html": [
              "<div>\n",
              "<style scoped>\n",
              "    .dataframe tbody tr th:only-of-type {\n",
              "        vertical-align: middle;\n",
              "    }\n",
              "\n",
              "    .dataframe tbody tr th {\n",
              "        vertical-align: top;\n",
              "    }\n",
              "\n",
              "    .dataframe thead th {\n",
              "        text-align: right;\n",
              "    }\n",
              "</style>\n",
              "<table border=\"1\" class=\"dataframe\">\n",
              "  <thead>\n",
              "    <tr style=\"text-align: right;\">\n",
              "      <th></th>\n",
              "      <th>index</th>\n",
              "      <th>video_id</th>\n",
              "      <th>label</th>\n",
              "    </tr>\n",
              "  </thead>\n",
              "  <tbody>\n",
              "    <tr>\n",
              "      <th>0</th>\n",
              "      <td>3</td>\n",
              "      <td>11</td>\n",
              "      <td>5</td>\n",
              "    </tr>\n",
              "    <tr>\n",
              "      <th>1</th>\n",
              "      <td>10</td>\n",
              "      <td>36</td>\n",
              "      <td>4</td>\n",
              "    </tr>\n",
              "    <tr>\n",
              "      <th>2</th>\n",
              "      <td>13</td>\n",
              "      <td>42</td>\n",
              "      <td>4</td>\n",
              "    </tr>\n",
              "    <tr>\n",
              "      <th>3</th>\n",
              "      <td>15</td>\n",
              "      <td>50</td>\n",
              "      <td>2</td>\n",
              "    </tr>\n",
              "    <tr>\n",
              "      <th>4</th>\n",
              "      <td>16</td>\n",
              "      <td>51</td>\n",
              "      <td>0</td>\n",
              "    </tr>\n",
              "    <tr>\n",
              "      <th>...</th>\n",
              "      <td>...</td>\n",
              "      <td>...</td>\n",
              "      <td>...</td>\n",
              "    </tr>\n",
              "    <tr>\n",
              "      <th>10783</th>\n",
              "      <td>50410</td>\n",
              "      <td>148070</td>\n",
              "      <td>0</td>\n",
              "    </tr>\n",
              "    <tr>\n",
              "      <th>10784</th>\n",
              "      <td>50411</td>\n",
              "      <td>148075</td>\n",
              "      <td>2</td>\n",
              "    </tr>\n",
              "    <tr>\n",
              "      <th>10785</th>\n",
              "      <td>50415</td>\n",
              "      <td>148084</td>\n",
              "      <td>2</td>\n",
              "    </tr>\n",
              "    <tr>\n",
              "      <th>10786</th>\n",
              "      <td>50417</td>\n",
              "      <td>148088</td>\n",
              "      <td>4</td>\n",
              "    </tr>\n",
              "    <tr>\n",
              "      <th>10787</th>\n",
              "      <td>50418</td>\n",
              "      <td>148090</td>\n",
              "      <td>1</td>\n",
              "    </tr>\n",
              "  </tbody>\n",
              "</table>\n",
              "<p>10788 rows × 3 columns</p>\n",
              "</div>"
            ],
            "text/plain": [
              "       index  video_id  label\n",
              "0          3        11      5\n",
              "1         10        36      4\n",
              "2         13        42      4\n",
              "3         15        50      2\n",
              "4         16        51      0\n",
              "...      ...       ...    ...\n",
              "10783  50410    148070      0\n",
              "10784  50411    148075      2\n",
              "10785  50415    148084      2\n",
              "10786  50417    148088      4\n",
              "10787  50418    148090      1\n",
              "\n",
              "[10788 rows x 3 columns]"
            ]
          },
          "metadata": {
            "tags": []
          },
          "execution_count": 4
        }
      ]
    },
    {
      "cell_type": "markdown",
      "metadata": {
        "id": "R1qk_6lOWhhv"
      },
      "source": [
        "Validation targets, you can use your custom csv file if you already created it before"
      ]
    },
    {
      "cell_type": "code",
      "metadata": {
        "id": "slnOMvUiWkAs",
        "outputId": "799640ed-26c7-4739-b184-681aa3c1dd1e",
        "colab": {
          "base_uri": "https://localhost:8080/",
          "height": 419
        }
      },
      "source": [
        "targets_validation = pd.read_csv(VAL_DATA_CSV)\n",
        "targets_validation = targets_validation[targets_validation['label'].isin(LABELS.keys())]\n",
        "targets_validation['label'] = targets_validation['label'].map(LABELS)\n",
        "targets_validation = targets_validation[['video_id', 'label']]\n",
        "targets_validation = targets_validation.reset_index()\n",
        "targets_validation"
      ],
      "execution_count": 5,
      "outputs": [
        {
          "output_type": "execute_result",
          "data": {
            "text/html": [
              "<div>\n",
              "<style scoped>\n",
              "    .dataframe tbody tr th:only-of-type {\n",
              "        vertical-align: middle;\n",
              "    }\n",
              "\n",
              "    .dataframe tbody tr th {\n",
              "        vertical-align: top;\n",
              "    }\n",
              "\n",
              "    .dataframe thead th {\n",
              "        text-align: right;\n",
              "    }\n",
              "</style>\n",
              "<table border=\"1\" class=\"dataframe\">\n",
              "  <thead>\n",
              "    <tr style=\"text-align: right;\">\n",
              "      <th></th>\n",
              "      <th>index</th>\n",
              "      <th>video_id</th>\n",
              "      <th>label</th>\n",
              "    </tr>\n",
              "  </thead>\n",
              "  <tbody>\n",
              "    <tr>\n",
              "      <th>0</th>\n",
              "      <td>4</td>\n",
              "      <td>96</td>\n",
              "      <td>0</td>\n",
              "    </tr>\n",
              "    <tr>\n",
              "      <th>1</th>\n",
              "      <td>13</td>\n",
              "      <td>358</td>\n",
              "      <td>2</td>\n",
              "    </tr>\n",
              "    <tr>\n",
              "      <th>2</th>\n",
              "      <td>17</td>\n",
              "      <td>420</td>\n",
              "      <td>3</td>\n",
              "    </tr>\n",
              "    <tr>\n",
              "      <th>3</th>\n",
              "      <td>18</td>\n",
              "      <td>441</td>\n",
              "      <td>4</td>\n",
              "    </tr>\n",
              "    <tr>\n",
              "      <th>4</th>\n",
              "      <td>26</td>\n",
              "      <td>610</td>\n",
              "      <td>3</td>\n",
              "    </tr>\n",
              "    <tr>\n",
              "      <th>...</th>\n",
              "      <td>...</td>\n",
              "      <td>...</td>\n",
              "      <td>...</td>\n",
              "    </tr>\n",
              "    <tr>\n",
              "      <th>1460</th>\n",
              "      <td>7020</td>\n",
              "      <td>147395</td>\n",
              "      <td>3</td>\n",
              "    </tr>\n",
              "    <tr>\n",
              "      <th>1461</th>\n",
              "      <td>7023</td>\n",
              "      <td>147492</td>\n",
              "      <td>4</td>\n",
              "    </tr>\n",
              "    <tr>\n",
              "      <th>1462</th>\n",
              "      <td>7029</td>\n",
              "      <td>147649</td>\n",
              "      <td>4</td>\n",
              "    </tr>\n",
              "    <tr>\n",
              "      <th>1463</th>\n",
              "      <td>7032</td>\n",
              "      <td>147727</td>\n",
              "      <td>5</td>\n",
              "    </tr>\n",
              "    <tr>\n",
              "      <th>1464</th>\n",
              "      <td>7046</td>\n",
              "      <td>148071</td>\n",
              "      <td>1</td>\n",
              "    </tr>\n",
              "  </tbody>\n",
              "</table>\n",
              "<p>1465 rows × 3 columns</p>\n",
              "</div>"
            ],
            "text/plain": [
              "      index  video_id  label\n",
              "0         4        96      0\n",
              "1        13       358      2\n",
              "2        17       420      3\n",
              "3        18       441      4\n",
              "4        26       610      3\n",
              "...     ...       ...    ...\n",
              "1460   7020    147395      3\n",
              "1461   7023    147492      4\n",
              "1462   7029    147649      4\n",
              "1463   7032    147727      5\n",
              "1464   7046    148071      1\n",
              "\n",
              "[1465 rows x 3 columns]"
            ]
          },
          "metadata": {
            "tags": []
          },
          "execution_count": 5
        }
      ]
    },
    {
      "cell_type": "markdown",
      "metadata": {
        "id": "1AfjqtBBWsUh"
      },
      "source": [
        "**Preprocessing**"
      ]
    },
    {
      "cell_type": "code",
      "metadata": {
        "id": "XZ2nZacaZ3Ue"
      },
      "source": [
        "# image specification\n",
        "img_rows,img_cols=64, 64 "
      ],
      "execution_count": 6,
      "outputs": []
    },
    {
      "cell_type": "code",
      "metadata": {
        "id": "hTTdLoyWWuhw"
      },
      "source": [
        "def rgb2gray(rgb):\n",
        "    \"\"\"\n",
        "    Converts numpy array of RGB to grayscale\n",
        "    \"\"\"\n",
        "    return np.dot(rgb[...,:3], [0.2989, 0.5870, 0.1140])"
      ],
      "execution_count": 7,
      "outputs": []
    },
    {
      "cell_type": "code",
      "metadata": {
        "id": "BPi0TFjqW0MC"
      },
      "source": [
        "def resize_frame(frame):\n",
        "    \"\"\"\n",
        "    Resizes frames to (64, 64)\n",
        "    \"\"\"\n",
        "    frame = img.imread(frame)\n",
        "    frame = cv2.resize(frame, (img_rows,img_cols),interpolation=cv2.INTER_AREA)\n",
        "    return frame"
      ],
      "execution_count": 8,
      "outputs": []
    },
    {
      "cell_type": "markdown",
      "metadata": {
        "id": "Y2uo2TNiW6yv"
      },
      "source": [
        "The videos do not have the same number of frames, here we try to unify."
      ]
    },
    {
      "cell_type": "code",
      "metadata": {
        "id": "XzHisiMpW77x"
      },
      "source": [
        "hm_frames = 30 # number of frames\n",
        "def get_unify_frames(path):\n",
        "    \"\"\"\n",
        "    Unifies number of frames for each training\n",
        "    \"\"\"\n",
        "    offset = 0\n",
        "    # pick frames\n",
        "    frames = os.listdir(path)\n",
        "    frames_count = len(frames)\n",
        "    # unify number of frames \n",
        "    if hm_frames > frames_count:\n",
        "        # duplicate last frame if video is shorter than necessary\n",
        "        frames += [frames[-1]] * (hm_frames - frames_count)\n",
        "    elif hm_frames < frames_count:\n",
        "        # If there are more frames, then sample starting offset\n",
        "        # diff = (frames_count - hm_frames)\n",
        "        # offset = diff-1 \n",
        "        frames = frames[0:hm_frames]\n",
        "    return frames"
      ],
      "execution_count": 9,
      "outputs": []
    },
    {
      "cell_type": "markdown",
      "metadata": {
        "id": "YgdpJj50XIpc"
      },
      "source": [
        "Adjust data"
      ]
    },
    {
      "cell_type": "code",
      "metadata": {
        "id": "So1A44SCXKjx",
        "outputId": "149be3d9-68f7-48d9-8234-300d09adea5d",
        "colab": {
          "base_uri": "https://localhost:8080/"
        }
      },
      "source": [
        "# Adjust training data\n",
        "train_targets = [] # training targets \n",
        "test_targets = [] # testing targets\n",
        "\n",
        "new_frames = [] # training data after resize & unify\n",
        "new_frames_test = [] # testing data after resize & unify\n",
        "\n",
        "for idx, row in tqdm(targets.iterrows(), total=len(targets)):\n",
        "    if idx % 4 == 0:\n",
        "        continue\n",
        "    \n",
        "    partition = [] # one training\n",
        "    # Frames in each folder\n",
        "    frames = get_unify_frames(TRAIN_SAMPLES_PATH + str(row['video_id']))\n",
        "    if len(frames) == hm_frames: # just to be sure\n",
        "        for frame in frames:\n",
        "            frame = resize_frame(TRAIN_SAMPLES_PATH + str(row['video_id']) + '/' + frame)\n",
        "            partition.append(rgb2gray(frame))\n",
        "            if len(partition) == 15: # partition each training on two trainings.\n",
        "                if idx % 6 == 0:\n",
        "                    new_frames_test.append(partition) # append each partition to training data\n",
        "                    test_targets.append(row['label'])\n",
        "                else:\n",
        "                    new_frames.append(partition) # append each partition to test data\n",
        "                    train_targets.append(row['label'])\n",
        "                partition = []\n",
        "\n",
        "train_data = np.asarray(new_frames, dtype=np.float16)\n",
        "\n",
        "del new_frames[:]\n",
        "del new_frames\n",
        "\n",
        "\n",
        "test_data = np.asarray(new_frames_test, dtype=np.float16)\n",
        "del new_frames_test[:]\n",
        "del new_frames_test\n",
        "\n",
        "gc.collect()"
      ],
      "execution_count": 10,
      "outputs": [
        {
          "output_type": "stream",
          "text": [
            "100%|██████████| 10788/10788 [05:55<00:00, 30.34it/s]\n"
          ],
          "name": "stderr"
        },
        {
          "output_type": "execute_result",
          "data": {
            "text/plain": [
              "11"
            ]
          },
          "metadata": {
            "tags": []
          },
          "execution_count": 10
        }
      ]
    },
    {
      "cell_type": "code",
      "metadata": {
        "id": "v5ChQwzCX9Bx",
        "outputId": "d9d8690b-167b-443a-fd18-76ac6b49fc56",
        "colab": {
          "base_uri": "https://localhost:8080/"
        }
      },
      "source": [
        "# we do the same for the validation data\n",
        "cv_targets = []\n",
        "new_frames_cv = []\n",
        "for idx, row in tqdm(targets_validation.iterrows(), total=len(targets_validation)):\n",
        "    if idx % 4 == 0:\n",
        "        continue\n",
        "\n",
        "    partition = []\n",
        "    # Frames in each folder\n",
        "    frames = get_unify_frames(VAL_SAMPLES_PATH+str(row[\"video_id\"]))\n",
        "    for frame in frames:\n",
        "        frame = resize_frame(VAL_SAMPLES_PATH+str(row[\"video_id\"])+'/'+frame)\n",
        "        partition.append(rgb2gray(frame))\n",
        "        if len(partition) == 15:\n",
        "            new_frames_cv.append(partition)\n",
        "            cv_targets.append(row['label'])\n",
        "            partition = []\n",
        "                \n",
        "cv_data = np.array(new_frames_cv, dtype=np.float16)\n",
        "del new_frames_cv[:]\n",
        "del new_frames_cv\n",
        "gc.collect()"
      ],
      "execution_count": 11,
      "outputs": [
        {
          "output_type": "stream",
          "text": [
            "100%|██████████| 1465/1465 [00:48<00:00, 30.42it/s]\n"
          ],
          "name": "stderr"
        },
        {
          "output_type": "execute_result",
          "data": {
            "text/plain": [
              "0"
            ]
          },
          "metadata": {
            "tags": []
          },
          "execution_count": 11
        }
      ]
    },
    {
      "cell_type": "code",
      "metadata": {
        "id": "cdWcwjhIX-73",
        "outputId": "0e8353c5-5a08-4331-a529-9e9c28f7b757",
        "colab": {
          "base_uri": "https://localhost:8080/"
        }
      },
      "source": [
        "print(f\"Training = {len(train_data)}/{len(train_targets)} samples/labels\")\n",
        "print(f\"Test = {len(test_data)}/{len(test_targets)} samples/labels\")\n",
        "print(f\"Validation = {len(cv_data)}/{len(cv_targets)} samples/labels\")"
      ],
      "execution_count": 12,
      "outputs": [
        {
          "output_type": "stream",
          "text": [
            "Training = 14384/14384 samples/labels\n",
            "Test = 1798/1798 samples/labels\n",
            "Validation = 2196/2196 samples/labels\n"
          ],
          "name": "stdout"
        }
      ]
    },
    {
      "cell_type": "code",
      "metadata": {
        "id": "teG-Sg_vMtVI"
      },
      "source": [
        "nb_classes = 6\n",
        "patch_size = 15    # img_depth or number of frames used for each video"
      ],
      "execution_count": 13,
      "outputs": []
    },
    {
      "cell_type": "code",
      "metadata": {
        "id": "wrNMlRC-tvZo",
        "outputId": "cb57e8e8-5d56-40cf-c41d-070a238c99f4",
        "colab": {
          "base_uri": "https://localhost:8080/"
        }
      },
      "source": [
        "num_samples = len(train_data)\n",
        "print(num_samples)"
      ],
      "execution_count": 14,
      "outputs": [
        {
          "output_type": "stream",
          "text": [
            "14384\n"
          ],
          "name": "stdout"
        }
      ]
    },
    {
      "cell_type": "markdown",
      "metadata": {
        "id": "truQO_5zYX62"
      },
      "source": [
        "Feature scaling"
      ]
    },
    {
      "cell_type": "code",
      "metadata": {
        "id": "JDplRZ2OYZZb",
        "outputId": "50ff7a23-020d-4924-bd7e-ec6af7e30c91",
        "colab": {
          "base_uri": "https://localhost:8080/"
        }
      },
      "source": [
        "# Normalisation: training\n",
        "print('old mean', train_data.mean())\n",
        "\n",
        "scaler = StandardScaler(copy=False)\n",
        "scaled_images  = scaler.fit_transform(train_data.reshape(-1, 15*64*64))\n",
        "del train_data\n",
        "print('new mean', scaled_images.mean())\n",
        "\n",
        "scaled_images  = scaled_images.reshape(-1, 15, 64, 64, 1)\n",
        "print(scaled_images.shape)"
      ],
      "execution_count": 15,
      "outputs": [
        {
          "output_type": "stream",
          "text": [
            "old mean 115.44\n",
            "new mean 6e-08\n",
            "(14384, 15, 64, 64, 1)\n"
          ],
          "name": "stdout"
        }
      ]
    },
    {
      "cell_type": "code",
      "metadata": {
        "id": "zYZGll5DYiQA",
        "outputId": "addf3094-353f-4e98-af7f-f692eed3c92e",
        "colab": {
          "base_uri": "https://localhost:8080/"
        }
      },
      "source": [
        "# Normalisation: test\n",
        "print('old mean', test_data.mean())\n",
        "\n",
        "scaler = StandardScaler(copy=False)\n",
        "scaled_images_test = scaler.fit_transform(test_data.reshape(-1, 15*64*64))\n",
        "del test_data\n",
        "print('new mean', scaled_images_test.mean())\n",
        "\n",
        "scaled_images_test = scaled_images_test.reshape(-1, 15, 64, 64, 1)\n",
        "print(scaled_images_test.shape)"
      ],
      "execution_count": 16,
      "outputs": [
        {
          "output_type": "stream",
          "text": [
            "old mean 114.8\n",
            "new mean -4e-07\n",
            "(1798, 15, 64, 64, 1)\n"
          ],
          "name": "stdout"
        }
      ]
    },
    {
      "cell_type": "code",
      "metadata": {
        "id": "a97zQT9BYj-S",
        "outputId": "af5f6d2c-c800-40fc-f688-b52b4b4bab8d",
        "colab": {
          "base_uri": "https://localhost:8080/"
        }
      },
      "source": [
        "# Normalisation: validation\n",
        "print('old mean', cv_data.mean())\n",
        "\n",
        "scaler = StandardScaler(copy=False)\n",
        "scaled_images_cv  = scaler.fit_transform(cv_data.reshape(-1, 15*64*64))\n",
        "del cv_data\n",
        "print('new mean',scaled_images_cv.mean())\n",
        "\n",
        "scaled_images_cv  = scaled_images_cv.reshape(-1, 15, 64, 64, 1)\n",
        "print(scaled_images_cv.shape)"
      ],
      "execution_count": 17,
      "outputs": [
        {
          "output_type": "stream",
          "text": [
            "old mean 111.9\n",
            "new mean -0.0\n",
            "(2196, 15, 64, 64, 1)\n"
          ],
          "name": "stdout"
        }
      ]
    },
    {
      "cell_type": "code",
      "metadata": {
        "id": "i3B5ObuvZGtT"
      },
      "source": [
        "del scaler"
      ],
      "execution_count": 18,
      "outputs": []
    },
    {
      "cell_type": "markdown",
      "metadata": {
        "id": "EomvawMeZobc"
      },
      "source": [
        "**Make sets**"
      ]
    },
    {
      "cell_type": "code",
      "metadata": {
        "id": "A8400WEXZrh4"
      },
      "source": [
        "y_train = np.array(train_targets, dtype=np.int8)\n",
        "y_test = np.array(test_targets, dtype=np.int8)\n",
        "y_val = np.array(cv_targets, dtype=np.int8)\n",
        "del train_targets\n",
        "del test_targets\n",
        "del cv_targets"
      ],
      "execution_count": 19,
      "outputs": []
    },
    {
      "cell_type": "code",
      "metadata": {
        "id": "IVoLhKMfZxNB"
      },
      "source": [
        "x_train = scaled_images\n",
        "x_test = scaled_images_test\n",
        "x_val = scaled_images_cv\n",
        "del scaled_images\n",
        "del scaled_images_test\n",
        "del scaled_images_cv"
      ],
      "execution_count": 20,
      "outputs": []
    },
    {
      "cell_type": "code",
      "metadata": {
        "id": "Gqbo7LOFZ3ay",
        "outputId": "9d0c2b44-4db7-43d3-a6e8-ce4ee89fb2b2",
        "colab": {
          "base_uri": "https://localhost:8080/"
        }
      },
      "source": [
        "gc.collect()"
      ],
      "execution_count": 21,
      "outputs": [
        {
          "output_type": "execute_result",
          "data": {
            "text/plain": [
              "0"
            ]
          },
          "metadata": {
            "tags": []
          },
          "execution_count": 21
        }
      ]
    },
    {
      "cell_type": "code",
      "metadata": {
        "id": "atHPxUAhPPpR"
      },
      "source": [
        "from keras.preprocessing.image import ImageDataGenerator\n",
        "from keras.models import Sequential\n",
        "from keras.layers.core import Dense, Dropout, Activation, Flatten, Reshape\n",
        "from keras.layers.convolutional import Conv3D, MaxPooling3D,Conv2D,AveragePooling2D,AveragePooling3D\n",
        "from keras.layers import Dense, GlobalAveragePooling3D,GlobalAveragePooling2D\n",
        "from keras.callbacks import EarlyStopping, ModelCheckpoint, LearningRateScheduler,ReduceLROnPlateau\n",
        "from keras.optimizers import SGD, RMSprop, Adadelta,Adam,Adamax\n",
        "from keras.utils import np_utils, generic_utils\n",
        "from keras.layers.normalization import BatchNormalization\n",
        "from keras.layers.convolutional_recurrent import ConvLSTM2D\n",
        "\n",
        "import theano\n",
        "import os\n",
        "import matplotlib\n",
        "import matplotlib.pyplot as plt\n",
        "import numpy as np\n",
        "import cv2\n",
        "from sklearn.model_selection import train_test_split\n",
        "#from sklearn import cross_validation\n",
        "from sklearn import preprocessing"
      ],
      "execution_count": 24,
      "outputs": []
    },
    {
      "cell_type": "markdown",
      "metadata": {
        "id": "c5vMknt-Z96u"
      },
      "source": [
        "**Model**"
      ]
    },
    {
      "cell_type": "code",
      "metadata": {
        "id": "y0n8k7UEbZ1U"
      },
      "source": [
        "from keras.models import Sequential, Model\n",
        "from keras.layers import Dense, GRU, Flatten, TimeDistributed, Flatten, BatchNormalization, Activation, Dropout\n",
        "from keras.layers.convolutional import Conv3D, MaxPooling3D\n",
        "from keras.callbacks import ModelCheckpoint, ReduceLROnPlateau\n",
        "from keras.losses import categorical_crossentropy\n",
        "from keras.optimizers import Adam\n",
        "# Define model\n",
        "model = Sequential()\n",
        "\n",
        "model.add(Conv3D(8, \n",
        "                 kernel_size=(3,3,3), \n",
        "                 input_shape=(patch_size, img_cols, img_rows, 1),\n",
        "                 padding='same'))\n",
        "model.add(BatchNormalization())\n",
        "model.add(Activation('relu'))\n",
        "\n",
        "model.add(MaxPooling3D(pool_size=(2,2,2)))\n",
        "\n",
        "model.add(Conv3D(16, \n",
        "                 kernel_size=(3,3,3), \n",
        "                 padding='same'))\n",
        "model.add(BatchNormalization())\n",
        "model.add(Activation('relu'))\n",
        "\n",
        "model.add(MaxPooling3D(pool_size=(2,2,2)))\n",
        "\n",
        "model.add(Conv3D(32, \n",
        "                 kernel_size=(3,3,3), \n",
        "                 padding='same'))\n",
        "model.add(BatchNormalization())\n",
        "model.add(Activation('relu'))\n",
        "\n",
        "model.add(MaxPooling3D(pool_size=(1,1,1)))\n",
        "\n",
        "model.add(Conv3D(64, \n",
        "                 kernel_size=(3,3,3), \n",
        "                 padding='same'))\n",
        "model.add(BatchNormalization())\n",
        "model.add(Activation('relu'))\n",
        "model.add(Dropout(0.25))\n",
        "\n",
        "model.add(MaxPooling3D(pool_size=(2,2,2)))\n",
        "\n",
        "#Flatten Layers\n",
        "model.add(Flatten())\n",
        "\n",
        "model.add(Dense(1000, activation='relu'))\n",
        "model.add(Dropout(0.5))\n",
        "\n",
        "model.add(Dense(500, activation='relu'))\n",
        "model.add(Dropout(0.5))\n",
        "\n",
        "#softmax layer\n",
        "model.add(Dense(6, activation='softmax'))"
      ],
      "execution_count": 27,
      "outputs": []
    },
    {
      "cell_type": "code",
      "metadata": {
        "id": "Mj5fgebvaTGX",
        "outputId": "33b16409-d9d4-4722-e3eb-1ff4d7cae66c",
        "colab": {
          "base_uri": "https://localhost:8080/"
        }
      },
      "source": [
        "print(model.summary())"
      ],
      "execution_count": 28,
      "outputs": [
        {
          "output_type": "stream",
          "text": [
            "Model: \"sequential\"\n",
            "_________________________________________________________________\n",
            "Layer (type)                 Output Shape              Param #   \n",
            "=================================================================\n",
            "conv3d (Conv3D)              (None, 15, 64, 64, 8)     224       \n",
            "_________________________________________________________________\n",
            "batch_normalization (BatchNo (None, 15, 64, 64, 8)     32        \n",
            "_________________________________________________________________\n",
            "activation (Activation)      (None, 15, 64, 64, 8)     0         \n",
            "_________________________________________________________________\n",
            "max_pooling3d (MaxPooling3D) (None, 7, 32, 32, 8)      0         \n",
            "_________________________________________________________________\n",
            "conv3d_1 (Conv3D)            (None, 7, 32, 32, 16)     3472      \n",
            "_________________________________________________________________\n",
            "batch_normalization_1 (Batch (None, 7, 32, 32, 16)     64        \n",
            "_________________________________________________________________\n",
            "activation_1 (Activation)    (None, 7, 32, 32, 16)     0         \n",
            "_________________________________________________________________\n",
            "max_pooling3d_1 (MaxPooling3 (None, 3, 16, 16, 16)     0         \n",
            "_________________________________________________________________\n",
            "conv3d_2 (Conv3D)            (None, 3, 16, 16, 32)     13856     \n",
            "_________________________________________________________________\n",
            "batch_normalization_2 (Batch (None, 3, 16, 16, 32)     128       \n",
            "_________________________________________________________________\n",
            "activation_2 (Activation)    (None, 3, 16, 16, 32)     0         \n",
            "_________________________________________________________________\n",
            "max_pooling3d_2 (MaxPooling3 (None, 3, 16, 16, 32)     0         \n",
            "_________________________________________________________________\n",
            "conv3d_3 (Conv3D)            (None, 3, 16, 16, 64)     55360     \n",
            "_________________________________________________________________\n",
            "batch_normalization_3 (Batch (None, 3, 16, 16, 64)     256       \n",
            "_________________________________________________________________\n",
            "activation_3 (Activation)    (None, 3, 16, 16, 64)     0         \n",
            "_________________________________________________________________\n",
            "dropout (Dropout)            (None, 3, 16, 16, 64)     0         \n",
            "_________________________________________________________________\n",
            "max_pooling3d_3 (MaxPooling3 (None, 1, 8, 8, 64)       0         \n",
            "_________________________________________________________________\n",
            "flatten (Flatten)            (None, 4096)              0         \n",
            "_________________________________________________________________\n",
            "dense (Dense)                (None, 1000)              4097000   \n",
            "_________________________________________________________________\n",
            "dropout_1 (Dropout)          (None, 1000)              0         \n",
            "_________________________________________________________________\n",
            "dense_1 (Dense)              (None, 500)               500500    \n",
            "_________________________________________________________________\n",
            "dropout_2 (Dropout)          (None, 500)               0         \n",
            "_________________________________________________________________\n",
            "dense_2 (Dense)              (None, 6)                 3006      \n",
            "=================================================================\n",
            "Total params: 4,673,898\n",
            "Trainable params: 4,673,658\n",
            "Non-trainable params: 240\n",
            "_________________________________________________________________\n",
            "None\n"
          ],
          "name": "stdout"
        }
      ]
    },
    {
      "cell_type": "code",
      "metadata": {
        "id": "e-Hwdc_g-rUL",
        "outputId": "1d3a9363-08bb-484c-ddd3-5e7fa2cc7205",
        "colab": {
          "base_uri": "https://localhost:8080/",
          "height": 1000
        }
      },
      "source": [
        "from keras.utils.vis_utils import plot_model\n",
        "plot_model(model, show_shapes=True,\n",
        "               to_file=os.path.join('model.png'))"
      ],
      "execution_count": 29,
      "outputs": [
        {
          "output_type": "execute_result",
          "data": {
            "image/png": "[encoded data removed]",
            "text/plain": [
              "<IPython.core.display.Image object>"
            ]
          },
          "metadata": {
            "tags": []
          },
          "execution_count": 29
        }
      ]
    },
    {
      "cell_type": "code",
      "metadata": {
        "id": "eKg1Fvl5aymc"
      },
      "source": [
        "sgd = SGD(lr=0.005,  momentum=0.9,nesterov=False)\n",
        "#rms = RMSprop(decay=1e-6)\n",
        "#ada = Adadelta(lr=0.1,decay=1e-6)\n",
        "model.compile(loss='sparse_categorical_crossentropy', \n",
        "              optimizer=sgd,\n",
        "              #optimizer=ada,\n",
        "              metrics=['acc'])"
      ],
      "execution_count": 30,
      "outputs": []
    },
    {
      "cell_type": "code",
      "metadata": {
        "id": "0ZgytqjqQHVv"
      },
      "source": [
        "# Split the data\n",
        "X_train_new, X_val_new, y_train_new,y_val_new = train_test_split(x_train, y_train, test_size=0.2, random_state=20)\n"
      ],
      "execution_count": 31,
      "outputs": []
    },
    {
      "cell_type": "code",
      "metadata": {
        "id": "6ODv3ntfRdNv",
        "outputId": "74a82a67-97fc-4559-a0f7-2f1d3755cfed",
        "colab": {
          "base_uri": "https://localhost:8080/"
        }
      },
      "source": [
        "import os\n",
        "#os.chdir('///home/jovyan/program/DL/11_1下tensorflow_simpson')\n",
        "save_dir = os.path.join(os.getcwd(),'saved_model')\n",
        "print(os.getcwd())\n",
        "model_name = \"3DCNN_LRN_112_6_jester\"\n",
        "if not os.path.isdir(save_dir):\n",
        "    os.makedirs(save_dir)\n",
        "model_path = os.path.join(save_dir, model_name)\n",
        "checkpoint = ModelCheckpoint(model_path, monitor = 'val_acc', \n",
        "                            save_best_only=True, verbose=1)\n",
        "#earlystop\n",
        "earlystop = EarlyStopping(monitor='val_loss', patience=50, verbose =1)"
      ],
      "execution_count": 32,
      "outputs": [
        {
          "output_type": "stream",
          "text": [
            "/content\n"
          ],
          "name": "stdout"
        }
      ]
    },
    {
      "cell_type": "markdown",
      "metadata": {
        "id": "49nSiiv8bMc2"
      },
      "source": [
        "**Start Running**"
      ]
    },
    {
      "cell_type": "code",
      "metadata": {
        "id": "rOwoJR0DbUJ9",
        "outputId": "76b394c8-c9ab-4627-d08c-ca22c92e31dd",
        "colab": {
          "base_uri": "https://localhost:8080/"
        }
      },
      "source": [
        "batch_size = 80\n",
        "nb_epoch = 100\n",
        "#steps_per_epoch=int((len(x_train))/batch_size)\n",
        "lr_reducer = ReduceLROnPlateau(monitor='val_loss', factor=0.05, \n",
        "                               cooldown=0, patience=10, min_lr=0.005/(2^4),verbose=1)\n",
        "#lr_reducer = ReduceLROnPlateau(monitor='val_loss', factor=0.5, patience=2, cooldown=1, verbose=1)\n",
        "hist = model.fit(\n",
        "    X_train_new,\n",
        "    y_train_new,\n",
        "    validation_data=(X_val_new,y_val_new),\n",
        "    batch_size = batch_size,\n",
        "    epochs = nb_epoch,\n",
        "    shuffle=True,\n",
        "    callbacks=[checkpoint,lr_reducer]\n",
        "    )"
      ],
      "execution_count": 33,
      "outputs": [
        {
          "output_type": "stream",
          "text": [
            "Epoch 1/100\n",
            "144/144 [==============================] - ETA: 0s - loss: 1.4203 - acc: 0.4376\n",
            "Epoch 00001: val_acc improved from -inf to 0.54432, saving model to /content/saved_model/3DCNN_LRN_112_6_jester\n",
            "WARNING:tensorflow:From /usr/local/lib/python3.6/dist-packages/tensorflow/python/training/tracking/tracking.py:111: Model.state_updates (from tensorflow.python.keras.engine.training) is deprecated and will be removed in a future version.\n",
            "Instructions for updating:\n",
            "This property should not be used in TensorFlow 2.0, as updates are applied automatically.\n",
            "WARNING:tensorflow:From /usr/local/lib/python3.6/dist-packages/tensorflow/python/training/tracking/tracking.py:111: Layer.updates (from tensorflow.python.keras.engine.base_layer) is deprecated and will be removed in a future version.\n",
            "Instructions for updating:\n",
            "This property should not be used in TensorFlow 2.0, as updates are applied automatically.\n",
            "INFO:tensorflow:Assets written to: /content/saved_model/3DCNN_LRN_112_6_jester/assets\n",
            "144/144 [==============================] - 21s 148ms/step - loss: 1.4203 - acc: 0.4376 - val_loss: 1.1817 - val_acc: 0.5443\n",
            "Epoch 2/100\n",
            "144/144 [==============================] - ETA: 0s - loss: 0.9149 - acc: 0.6213\n",
            "Epoch 00002: val_acc improved from 0.54432 to 0.70455, saving model to /content/saved_model/3DCNN_LRN_112_6_jester\n",
            "INFO:tensorflow:Assets written to: /content/saved_model/3DCNN_LRN_112_6_jester/assets\n",
            "144/144 [==============================] - 20s 138ms/step - loss: 0.9149 - acc: 0.6213 - val_loss: 0.7935 - val_acc: 0.7046\n",
            "Epoch 3/100\n",
            "144/144 [==============================] - ETA: 0s - loss: 0.7875 - acc: 0.6890\n",
            "Epoch 00003: val_acc improved from 0.70455 to 0.72610, saving model to /content/saved_model/3DCNN_LRN_112_6_jester\n",
            "INFO:tensorflow:Assets written to: /content/saved_model/3DCNN_LRN_112_6_jester/assets\n",
            "144/144 [==============================] - 20s 140ms/step - loss: 0.7875 - acc: 0.6890 - val_loss: 0.7746 - val_acc: 0.7261\n",
            "Epoch 4/100\n",
            "144/144 [==============================] - ETA: 0s - loss: 0.7054 - acc: 0.7275\n",
            "Epoch 00004: val_acc did not improve from 0.72610\n",
            "144/144 [==============================] - 18s 124ms/step - loss: 0.7054 - acc: 0.7275 - val_loss: 0.7816 - val_acc: 0.7028\n",
            "Epoch 5/100\n",
            "144/144 [==============================] - ETA: 0s - loss: 0.6515 - acc: 0.7546\n",
            "Epoch 00005: val_acc improved from 0.72610 to 0.75634, saving model to /content/saved_model/3DCNN_LRN_112_6_jester\n",
            "INFO:tensorflow:Assets written to: /content/saved_model/3DCNN_LRN_112_6_jester/assets\n",
            "144/144 [==============================] - 21s 145ms/step - loss: 0.6515 - acc: 0.7546 - val_loss: 0.6452 - val_acc: 0.7563\n",
            "Epoch 6/100\n",
            "144/144 [==============================] - ETA: 0s - loss: 0.5978 - acc: 0.7762\n",
            "Epoch 00006: val_acc improved from 0.75634 to 0.78485, saving model to /content/saved_model/3DCNN_LRN_112_6_jester\n",
            "INFO:tensorflow:Assets written to: /content/saved_model/3DCNN_LRN_112_6_jester/assets\n",
            "144/144 [==============================] - 21s 146ms/step - loss: 0.5978 - acc: 0.7762 - val_loss: 0.5859 - val_acc: 0.7848\n",
            "Epoch 7/100\n",
            "144/144 [==============================] - ETA: 0s - loss: 0.5647 - acc: 0.7885\n",
            "Epoch 00007: val_acc improved from 0.78485 to 0.79353, saving model to /content/saved_model/3DCNN_LRN_112_6_jester\n",
            "INFO:tensorflow:Assets written to: /content/saved_model/3DCNN_LRN_112_6_jester/assets\n",
            "144/144 [==============================] - 21s 146ms/step - loss: 0.5647 - acc: 0.7885 - val_loss: 0.5729 - val_acc: 0.7935\n",
            "Epoch 8/100\n",
            "144/144 [==============================] - ETA: 0s - loss: 0.5159 - acc: 0.8052\n",
            "Epoch 00008: val_acc improved from 0.79353 to 0.79840, saving model to /content/saved_model/3DCNN_LRN_112_6_jester\n",
            "INFO:tensorflow:Assets written to: /content/saved_model/3DCNN_LRN_112_6_jester/assets\n",
            "144/144 [==============================] - 21s 144ms/step - loss: 0.5159 - acc: 0.8052 - val_loss: 0.5465 - val_acc: 0.7984\n",
            "Epoch 9/100\n",
            "144/144 [==============================] - ETA: 0s - loss: 0.4925 - acc: 0.8182\n",
            "Epoch 00009: val_acc improved from 0.79840 to 0.81543, saving model to /content/saved_model/3DCNN_LRN_112_6_jester\n",
            "INFO:tensorflow:Assets written to: /content/saved_model/3DCNN_LRN_112_6_jester/assets\n",
            "144/144 [==============================] - 21s 145ms/step - loss: 0.4925 - acc: 0.8182 - val_loss: 0.5194 - val_acc: 0.8154\n",
            "Epoch 10/100\n",
            "144/144 [==============================] - ETA: 0s - loss: 0.4601 - acc: 0.8290\n",
            "Epoch 00010: val_acc did not improve from 0.81543\n",
            "144/144 [==============================] - 18s 127ms/step - loss: 0.4601 - acc: 0.8290 - val_loss: 0.5237 - val_acc: 0.8137\n",
            "Epoch 11/100\n",
            "144/144 [==============================] - ETA: 0s - loss: 0.4407 - acc: 0.8354\n",
            "Epoch 00011: val_acc improved from 0.81543 to 0.81717, saving model to /content/saved_model/3DCNN_LRN_112_6_jester\n",
            "INFO:tensorflow:Assets written to: /content/saved_model/3DCNN_LRN_112_6_jester/assets\n",
            "144/144 [==============================] - 21s 146ms/step - loss: 0.4407 - acc: 0.8354 - val_loss: 0.5060 - val_acc: 0.8172\n",
            "Epoch 12/100\n",
            "144/144 [==============================] - ETA: 0s - loss: 0.4140 - acc: 0.8477\n",
            "Epoch 00012: val_acc improved from 0.81717 to 0.81995, saving model to /content/saved_model/3DCNN_LRN_112_6_jester\n",
            "INFO:tensorflow:Assets written to: /content/saved_model/3DCNN_LRN_112_6_jester/assets\n",
            "144/144 [==============================] - 21s 144ms/step - loss: 0.4140 - acc: 0.8477 - val_loss: 0.4937 - val_acc: 0.8200\n",
            "Epoch 13/100\n",
            "144/144 [==============================] - ETA: 0s - loss: 0.3875 - acc: 0.8543\n",
            "Epoch 00013: val_acc improved from 0.81995 to 0.83594, saving model to /content/saved_model/3DCNN_LRN_112_6_jester\n",
            "INFO:tensorflow:Assets written to: /content/saved_model/3DCNN_LRN_112_6_jester/assets\n",
            "144/144 [==============================] - 21s 147ms/step - loss: 0.3875 - acc: 0.8543 - val_loss: 0.4515 - val_acc: 0.8359\n",
            "Epoch 14/100\n",
            "144/144 [==============================] - ETA: 0s - loss: 0.3688 - acc: 0.8670\n",
            "Epoch 00014: val_acc did not improve from 0.83594\n",
            "144/144 [==============================] - 18s 127ms/step - loss: 0.3688 - acc: 0.8670 - val_loss: 0.4505 - val_acc: 0.8328\n",
            "Epoch 15/100\n",
            "144/144 [==============================] - ETA: 0s - loss: 0.3616 - acc: 0.8652\n",
            "Epoch 00015: val_acc did not improve from 0.83594\n",
            "144/144 [==============================] - 18s 127ms/step - loss: 0.3616 - acc: 0.8652 - val_loss: 0.4940 - val_acc: 0.8200\n",
            "Epoch 16/100\n",
            "144/144 [==============================] - ETA: 0s - loss: 0.3250 - acc: 0.8803\n",
            "Epoch 00016: val_acc improved from 0.83594 to 0.85158, saving model to /content/saved_model/3DCNN_LRN_112_6_jester\n",
            "INFO:tensorflow:Assets written to: /content/saved_model/3DCNN_LRN_112_6_jester/assets\n",
            "144/144 [==============================] - 21s 145ms/step - loss: 0.3250 - acc: 0.8803 - val_loss: 0.4338 - val_acc: 0.8516\n",
            "Epoch 17/100\n",
            "144/144 [==============================] - ETA: 0s - loss: 0.3086 - acc: 0.8836\n",
            "Epoch 00017: val_acc did not improve from 0.85158\n",
            "144/144 [==============================] - 18s 126ms/step - loss: 0.3086 - acc: 0.8836 - val_loss: 0.4305 - val_acc: 0.8491\n",
            "Epoch 18/100\n",
            "144/144 [==============================] - ETA: 0s - loss: 0.2887 - acc: 0.8924\n",
            "Epoch 00018: val_acc did not improve from 0.85158\n",
            "144/144 [==============================] - 18s 126ms/step - loss: 0.2887 - acc: 0.8924 - val_loss: 0.4269 - val_acc: 0.8464\n",
            "Epoch 19/100\n",
            "144/144 [==============================] - ETA: 0s - loss: 0.2747 - acc: 0.8992\n",
            "Epoch 00019: val_acc did not improve from 0.85158\n",
            "144/144 [==============================] - 18s 127ms/step - loss: 0.2747 - acc: 0.8992 - val_loss: 0.4423 - val_acc: 0.8488\n",
            "Epoch 20/100\n",
            "144/144 [==============================] - ETA: 0s - loss: 0.2561 - acc: 0.9064\n",
            "Epoch 00020: val_acc improved from 0.85158 to 0.85888, saving model to /content/saved_model/3DCNN_LRN_112_6_jester\n",
            "INFO:tensorflow:Assets written to: /content/saved_model/3DCNN_LRN_112_6_jester/assets\n",
            "144/144 [==============================] - 21s 145ms/step - loss: 0.2561 - acc: 0.9064 - val_loss: 0.4148 - val_acc: 0.8589\n",
            "Epoch 21/100\n",
            "144/144 [==============================] - ETA: 0s - loss: 0.2500 - acc: 0.9095\n",
            "Epoch 00021: val_acc improved from 0.85888 to 0.86270, saving model to /content/saved_model/3DCNN_LRN_112_6_jester\n",
            "INFO:tensorflow:Assets written to: /content/saved_model/3DCNN_LRN_112_6_jester/assets\n",
            "144/144 [==============================] - 21s 144ms/step - loss: 0.2500 - acc: 0.9095 - val_loss: 0.3944 - val_acc: 0.8627\n",
            "Epoch 22/100\n",
            "144/144 [==============================] - ETA: 0s - loss: 0.2289 - acc: 0.9162\n",
            "Epoch 00022: val_acc did not improve from 0.86270\n",
            "144/144 [==============================] - 18s 126ms/step - loss: 0.2289 - acc: 0.9162 - val_loss: 0.4205 - val_acc: 0.8485\n",
            "Epoch 23/100\n",
            "144/144 [==============================] - ETA: 0s - loss: 0.2162 - acc: 0.9210\n",
            "Epoch 00023: val_acc did not improve from 0.86270\n",
            "144/144 [==============================] - 18s 126ms/step - loss: 0.2162 - acc: 0.9210 - val_loss: 0.4430 - val_acc: 0.8408\n",
            "Epoch 24/100\n",
            "144/144 [==============================] - ETA: 0s - loss: 0.1955 - acc: 0.9305\n",
            "Epoch 00024: val_acc did not improve from 0.86270\n",
            "144/144 [==============================] - 18s 126ms/step - loss: 0.1955 - acc: 0.9305 - val_loss: 0.4099 - val_acc: 0.8617\n",
            "Epoch 25/100\n",
            "144/144 [==============================] - ETA: 0s - loss: 0.1884 - acc: 0.9298\n",
            "Epoch 00025: val_acc did not improve from 0.86270\n",
            "144/144 [==============================] - 18s 126ms/step - loss: 0.1884 - acc: 0.9298 - val_loss: 0.3807 - val_acc: 0.8592\n",
            "Epoch 26/100\n",
            "144/144 [==============================] - ETA: 0s - loss: 0.1719 - acc: 0.9375\n",
            "Epoch 00026: val_acc did not improve from 0.86270\n",
            "144/144 [==============================] - 18s 126ms/step - loss: 0.1719 - acc: 0.9375 - val_loss: 0.4156 - val_acc: 0.8589\n",
            "Epoch 27/100\n",
            "144/144 [==============================] - ETA: 0s - loss: 0.1655 - acc: 0.9405\n",
            "Epoch 00027: val_acc improved from 0.86270 to 0.86548, saving model to /content/saved_model/3DCNN_LRN_112_6_jester\n",
            "INFO:tensorflow:Assets written to: /content/saved_model/3DCNN_LRN_112_6_jester/assets\n",
            "144/144 [==============================] - 21s 146ms/step - loss: 0.1655 - acc: 0.9405 - val_loss: 0.4207 - val_acc: 0.8655\n",
            "Epoch 28/100\n",
            "144/144 [==============================] - ETA: 0s - loss: 0.1530 - acc: 0.9444\n",
            "Epoch 00028: val_acc did not improve from 0.86548\n",
            "144/144 [==============================] - 18s 126ms/step - loss: 0.1530 - acc: 0.9444 - val_loss: 0.4089 - val_acc: 0.8575\n",
            "Epoch 29/100\n",
            "144/144 [==============================] - ETA: 0s - loss: 0.1553 - acc: 0.9433\n",
            "Epoch 00029: val_acc did not improve from 0.86548\n",
            "144/144 [==============================] - 18s 126ms/step - loss: 0.1553 - acc: 0.9433 - val_loss: 0.4336 - val_acc: 0.8637\n",
            "Epoch 30/100\n",
            "144/144 [==============================] - ETA: 0s - loss: 0.1351 - acc: 0.9501\n",
            "Epoch 00030: val_acc improved from 0.86548 to 0.86966, saving model to /content/saved_model/3DCNN_LRN_112_6_jester\n",
            "INFO:tensorflow:Assets written to: /content/saved_model/3DCNN_LRN_112_6_jester/assets\n",
            "144/144 [==============================] - 21s 145ms/step - loss: 0.1351 - acc: 0.9501 - val_loss: 0.4068 - val_acc: 0.8697\n",
            "Epoch 31/100\n",
            "144/144 [==============================] - ETA: 0s - loss: 0.1237 - acc: 0.9560\n",
            "Epoch 00031: val_acc improved from 0.86966 to 0.87800, saving model to /content/saved_model/3DCNN_LRN_112_6_jester\n",
            "INFO:tensorflow:Assets written to: /content/saved_model/3DCNN_LRN_112_6_jester/assets\n",
            "144/144 [==============================] - 21s 145ms/step - loss: 0.1237 - acc: 0.9560 - val_loss: 0.3855 - val_acc: 0.8780\n",
            "Epoch 32/100\n",
            "144/144 [==============================] - ETA: 0s - loss: 0.1187 - acc: 0.9579\n",
            "Epoch 00032: val_acc did not improve from 0.87800\n",
            "144/144 [==============================] - 18s 126ms/step - loss: 0.1187 - acc: 0.9579 - val_loss: 0.3939 - val_acc: 0.8780\n",
            "Epoch 33/100\n",
            "144/144 [==============================] - ETA: 0s - loss: 0.1061 - acc: 0.9622\n",
            "Epoch 00033: val_acc did not improve from 0.87800\n",
            "144/144 [==============================] - 18s 126ms/step - loss: 0.1061 - acc: 0.9622 - val_loss: 0.4282 - val_acc: 0.8683\n",
            "Epoch 34/100\n",
            "144/144 [==============================] - ETA: 0s - loss: 0.1008 - acc: 0.9648\n",
            "Epoch 00034: val_acc improved from 0.87800 to 0.87869, saving model to /content/saved_model/3DCNN_LRN_112_6_jester\n",
            "INFO:tensorflow:Assets written to: /content/saved_model/3DCNN_LRN_112_6_jester/assets\n",
            "144/144 [==============================] - 21s 145ms/step - loss: 0.1008 - acc: 0.9648 - val_loss: 0.3972 - val_acc: 0.8787\n",
            "Epoch 35/100\n",
            "144/144 [==============================] - ETA: 0s - loss: 0.0987 - acc: 0.9649\n",
            "Epoch 00035: val_acc did not improve from 0.87869\n",
            "\n",
            "Epoch 00035: ReduceLROnPlateau reducing learning rate to 0.0008333333333333334.\n",
            "144/144 [==============================] - 18s 126ms/step - loss: 0.0987 - acc: 0.9649 - val_loss: 0.4356 - val_acc: 0.8707\n",
            "Epoch 36/100\n",
            "144/144 [==============================] - ETA: 0s - loss: 0.0691 - acc: 0.9771\n",
            "Epoch 00036: val_acc improved from 0.87869 to 0.88738, saving model to /content/saved_model/3DCNN_LRN_112_6_jester\n",
            "INFO:tensorflow:Assets written to: /content/saved_model/3DCNN_LRN_112_6_jester/assets\n",
            "144/144 [==============================] - 21s 146ms/step - loss: 0.0691 - acc: 0.9771 - val_loss: 0.3786 - val_acc: 0.8874\n",
            "Epoch 37/100\n",
            "144/144 [==============================] - ETA: 0s - loss: 0.0486 - acc: 0.9856\n",
            "Epoch 00037: val_acc did not improve from 0.88738\n",
            "144/144 [==============================] - 18s 126ms/step - loss: 0.0486 - acc: 0.9856 - val_loss: 0.3997 - val_acc: 0.8832\n",
            "Epoch 38/100\n",
            "144/144 [==============================] - ETA: 0s - loss: 0.0411 - acc: 0.9881\n",
            "Epoch 00038: val_acc did not improve from 0.88738\n",
            "144/144 [==============================] - 18s 126ms/step - loss: 0.0411 - acc: 0.9881 - val_loss: 0.3805 - val_acc: 0.8863\n",
            "Epoch 39/100\n",
            "144/144 [==============================] - ETA: 0s - loss: 0.0402 - acc: 0.9878\n",
            "Epoch 00039: val_acc improved from 0.88738 to 0.88808, saving model to /content/saved_model/3DCNN_LRN_112_6_jester\n",
            "INFO:tensorflow:Assets written to: /content/saved_model/3DCNN_LRN_112_6_jester/assets\n",
            "144/144 [==============================] - 21s 144ms/step - loss: 0.0402 - acc: 0.9878 - val_loss: 0.3849 - val_acc: 0.8881\n",
            "Epoch 40/100\n",
            "144/144 [==============================] - ETA: 0s - loss: 0.0400 - acc: 0.9877\n",
            "Epoch 00040: val_acc did not improve from 0.88808\n",
            "144/144 [==============================] - 18s 125ms/step - loss: 0.0400 - acc: 0.9877 - val_loss: 0.3989 - val_acc: 0.8870\n",
            "Epoch 41/100\n",
            "144/144 [==============================] - ETA: 0s - loss: 0.0352 - acc: 0.9895\n",
            "Epoch 00041: val_acc improved from 0.88808 to 0.89190, saving model to /content/saved_model/3DCNN_LRN_112_6_jester\n",
            "INFO:tensorflow:Assets written to: /content/saved_model/3DCNN_LRN_112_6_jester/assets\n",
            "144/144 [==============================] - 21s 143ms/step - loss: 0.0352 - acc: 0.9895 - val_loss: 0.3882 - val_acc: 0.8919\n",
            "Epoch 42/100\n",
            "144/144 [==============================] - ETA: 0s - loss: 0.0314 - acc: 0.9914\n",
            "Epoch 00042: val_acc did not improve from 0.89190\n",
            "144/144 [==============================] - 18s 126ms/step - loss: 0.0314 - acc: 0.9914 - val_loss: 0.3951 - val_acc: 0.8867\n",
            "Epoch 43/100\n",
            "144/144 [==============================] - ETA: 0s - loss: 0.0315 - acc: 0.9907\n",
            "Epoch 00043: val_acc improved from 0.89190 to 0.89364, saving model to /content/saved_model/3DCNN_LRN_112_6_jester\n",
            "INFO:tensorflow:Assets written to: /content/saved_model/3DCNN_LRN_112_6_jester/assets\n",
            "144/144 [==============================] - 21s 144ms/step - loss: 0.0315 - acc: 0.9907 - val_loss: 0.3970 - val_acc: 0.8936\n",
            "Epoch 44/100\n",
            "144/144 [==============================] - ETA: 0s - loss: 0.0314 - acc: 0.9904\n",
            "Epoch 00044: val_acc did not improve from 0.89364\n",
            "144/144 [==============================] - 18s 125ms/step - loss: 0.0314 - acc: 0.9904 - val_loss: 0.4045 - val_acc: 0.8895\n",
            "Epoch 45/100\n",
            "144/144 [==============================] - ETA: 0s - loss: 0.0280 - acc: 0.9920\n",
            "Epoch 00045: val_acc did not improve from 0.89364\n",
            "144/144 [==============================] - 18s 125ms/step - loss: 0.0280 - acc: 0.9920 - val_loss: 0.4101 - val_acc: 0.8902\n",
            "Epoch 46/100\n",
            "144/144 [==============================] - ETA: 0s - loss: 0.0293 - acc: 0.9914\n",
            "Epoch 00046: val_acc did not improve from 0.89364\n",
            "\n",
            "Epoch 00046: ReduceLROnPlateau reducing learning rate to 0.0008333333333333334.\n",
            "144/144 [==============================] - 18s 125ms/step - loss: 0.0293 - acc: 0.9914 - val_loss: 0.3978 - val_acc: 0.8929\n",
            "Epoch 47/100\n",
            "144/144 [==============================] - ETA: 0s - loss: 0.0261 - acc: 0.9921\n",
            "Epoch 00047: val_acc did not improve from 0.89364\n",
            "144/144 [==============================] - 18s 125ms/step - loss: 0.0261 - acc: 0.9921 - val_loss: 0.3996 - val_acc: 0.8933\n",
            "Epoch 48/100\n",
            "144/144 [==============================] - ETA: 0s - loss: 0.0244 - acc: 0.9929\n",
            "Epoch 00048: val_acc did not improve from 0.89364\n",
            "144/144 [==============================] - 18s 125ms/step - loss: 0.0244 - acc: 0.9929 - val_loss: 0.4054 - val_acc: 0.8912\n",
            "Epoch 49/100\n",
            "144/144 [==============================] - ETA: 0s - loss: 0.0276 - acc: 0.9917\n",
            "Epoch 00049: val_acc improved from 0.89364 to 0.89399, saving model to /content/saved_model/3DCNN_LRN_112_6_jester\n",
            "INFO:tensorflow:Assets written to: /content/saved_model/3DCNN_LRN_112_6_jester/assets\n",
            "144/144 [==============================] - 21s 144ms/step - loss: 0.0276 - acc: 0.9917 - val_loss: 0.4047 - val_acc: 0.8940\n",
            "Epoch 50/100\n",
            "144/144 [==============================] - ETA: 0s - loss: 0.0257 - acc: 0.9919\n",
            "Epoch 00050: val_acc did not improve from 0.89399\n",
            "144/144 [==============================] - 18s 125ms/step - loss: 0.0257 - acc: 0.9919 - val_loss: 0.4112 - val_acc: 0.8916\n",
            "Epoch 51/100\n",
            "144/144 [==============================] - ETA: 0s - loss: 0.0249 - acc: 0.9919\n",
            "Epoch 00051: val_acc did not improve from 0.89399\n",
            "144/144 [==============================] - 18s 125ms/step - loss: 0.0249 - acc: 0.9919 - val_loss: 0.4090 - val_acc: 0.8936\n",
            "Epoch 52/100\n",
            "144/144 [==============================] - ETA: 0s - loss: 0.0235 - acc: 0.9935\n",
            "Epoch 00052: val_acc did not improve from 0.89399\n",
            "144/144 [==============================] - 18s 125ms/step - loss: 0.0235 - acc: 0.9935 - val_loss: 0.4040 - val_acc: 0.8922\n",
            "Epoch 53/100\n",
            "144/144 [==============================] - ETA: 0s - loss: 0.0245 - acc: 0.9930\n",
            "Epoch 00053: val_acc improved from 0.89399 to 0.89642, saving model to /content/saved_model/3DCNN_LRN_112_6_jester\n",
            "INFO:tensorflow:Assets written to: /content/saved_model/3DCNN_LRN_112_6_jester/assets\n",
            "144/144 [==============================] - 21s 144ms/step - loss: 0.0245 - acc: 0.9930 - val_loss: 0.4194 - val_acc: 0.8964\n",
            "Epoch 54/100\n",
            "144/144 [==============================] - ETA: 0s - loss: 0.0263 - acc: 0.9922\n",
            "Epoch 00054: val_acc did not improve from 0.89642\n",
            "144/144 [==============================] - 18s 125ms/step - loss: 0.0263 - acc: 0.9922 - val_loss: 0.4075 - val_acc: 0.8888\n",
            "Epoch 55/100\n",
            "144/144 [==============================] - ETA: 0s - loss: 0.0234 - acc: 0.9926\n",
            "Epoch 00055: val_acc did not improve from 0.89642\n",
            "144/144 [==============================] - 18s 126ms/step - loss: 0.0234 - acc: 0.9926 - val_loss: 0.4173 - val_acc: 0.8947\n",
            "Epoch 56/100\n",
            "144/144 [==============================] - ETA: 0s - loss: 0.0232 - acc: 0.9926\n",
            "Epoch 00056: val_acc did not improve from 0.89642\n",
            "\n",
            "Epoch 00056: ReduceLROnPlateau reducing learning rate to 0.0008333333333333334.\n",
            "144/144 [==============================] - 18s 126ms/step - loss: 0.0232 - acc: 0.9926 - val_loss: 0.4091 - val_acc: 0.8929\n",
            "Epoch 57/100\n",
            "144/144 [==============================] - ETA: 0s - loss: 0.0212 - acc: 0.9943\n",
            "Epoch 00057: val_acc did not improve from 0.89642\n",
            "144/144 [==============================] - 18s 125ms/step - loss: 0.0212 - acc: 0.9943 - val_loss: 0.4168 - val_acc: 0.8943\n",
            "Epoch 58/100\n",
            "144/144 [==============================] - ETA: 0s - loss: 0.0225 - acc: 0.9930\n",
            "Epoch 00058: val_acc did not improve from 0.89642\n",
            "144/144 [==============================] - 18s 125ms/step - loss: 0.0225 - acc: 0.9930 - val_loss: 0.4191 - val_acc: 0.8895\n",
            "Epoch 59/100\n",
            "144/144 [==============================] - ETA: 0s - loss: 0.0213 - acc: 0.9937\n",
            "Epoch 00059: val_acc did not improve from 0.89642\n",
            "144/144 [==============================] - 18s 126ms/step - loss: 0.0213 - acc: 0.9937 - val_loss: 0.4195 - val_acc: 0.8943\n",
            "Epoch 60/100\n",
            "144/144 [==============================] - ETA: 0s - loss: 0.0200 - acc: 0.9941\n",
            "Epoch 00060: val_acc did not improve from 0.89642\n",
            "144/144 [==============================] - 18s 126ms/step - loss: 0.0200 - acc: 0.9941 - val_loss: 0.4283 - val_acc: 0.8929\n",
            "Epoch 61/100\n",
            "144/144 [==============================] - ETA: 0s - loss: 0.0189 - acc: 0.9955\n",
            "Epoch 00061: val_acc did not improve from 0.89642\n",
            "144/144 [==============================] - 18s 125ms/step - loss: 0.0189 - acc: 0.9955 - val_loss: 0.4290 - val_acc: 0.8926\n",
            "Epoch 62/100\n",
            "144/144 [==============================] - ETA: 0s - loss: 0.0192 - acc: 0.9942\n",
            "Epoch 00062: val_acc did not improve from 0.89642\n",
            "144/144 [==============================] - 18s 125ms/step - loss: 0.0192 - acc: 0.9942 - val_loss: 0.4315 - val_acc: 0.8933\n",
            "Epoch 63/100\n",
            "144/144 [==============================] - ETA: 0s - loss: 0.0183 - acc: 0.9939\n",
            "Epoch 00063: val_acc did not improve from 0.89642\n",
            "144/144 [==============================] - 18s 125ms/step - loss: 0.0183 - acc: 0.9939 - val_loss: 0.4306 - val_acc: 0.8950\n",
            "Epoch 64/100\n",
            "144/144 [==============================] - ETA: 0s - loss: 0.0189 - acc: 0.9946\n",
            "Epoch 00064: val_acc did not improve from 0.89642\n",
            "144/144 [==============================] - 18s 126ms/step - loss: 0.0189 - acc: 0.9946 - val_loss: 0.4315 - val_acc: 0.8922\n",
            "Epoch 65/100\n",
            "144/144 [==============================] - ETA: 0s - loss: 0.0211 - acc: 0.9930\n",
            "Epoch 00065: val_acc did not improve from 0.89642\n",
            "144/144 [==============================] - 18s 125ms/step - loss: 0.0211 - acc: 0.9930 - val_loss: 0.4413 - val_acc: 0.8936\n",
            "Epoch 66/100\n",
            "144/144 [==============================] - ETA: 0s - loss: 0.0180 - acc: 0.9950\n",
            "Epoch 00066: val_acc did not improve from 0.89642\n",
            "\n",
            "Epoch 00066: ReduceLROnPlateau reducing learning rate to 0.0008333333333333334.\n",
            "144/144 [==============================] - 18s 125ms/step - loss: 0.0180 - acc: 0.9950 - val_loss: 0.4296 - val_acc: 0.8943\n",
            "Epoch 67/100\n",
            "144/144 [==============================] - ETA: 0s - loss: 0.0195 - acc: 0.9947\n",
            "Epoch 00067: val_acc did not improve from 0.89642\n",
            "144/144 [==============================] - 18s 125ms/step - loss: 0.0195 - acc: 0.9947 - val_loss: 0.4289 - val_acc: 0.8964\n",
            "Epoch 68/100\n",
            "144/144 [==============================] - ETA: 0s - loss: 0.0197 - acc: 0.9940\n",
            "Epoch 00068: val_acc did not improve from 0.89642\n",
            "144/144 [==============================] - 18s 126ms/step - loss: 0.0197 - acc: 0.9940 - val_loss: 0.4387 - val_acc: 0.8909\n",
            "Epoch 69/100\n",
            "144/144 [==============================] - ETA: 0s - loss: 0.0162 - acc: 0.9953\n",
            "Epoch 00069: val_acc did not improve from 0.89642\n",
            "144/144 [==============================] - 18s 125ms/step - loss: 0.0162 - acc: 0.9953 - val_loss: 0.4426 - val_acc: 0.8902\n",
            "Epoch 70/100\n",
            "144/144 [==============================] - ETA: 0s - loss: 0.0198 - acc: 0.9930\n",
            "Epoch 00070: val_acc did not improve from 0.89642\n",
            "144/144 [==============================] - 18s 125ms/step - loss: 0.0198 - acc: 0.9930 - val_loss: 0.4305 - val_acc: 0.8943\n",
            "Epoch 71/100\n",
            "144/144 [==============================] - ETA: 0s - loss: 0.0171 - acc: 0.9957\n",
            "Epoch 00071: val_acc did not improve from 0.89642\n",
            "144/144 [==============================] - 18s 125ms/step - loss: 0.0171 - acc: 0.9957 - val_loss: 0.4343 - val_acc: 0.8929\n",
            "Epoch 72/100\n",
            "144/144 [==============================] - ETA: 0s - loss: 0.0181 - acc: 0.9950\n",
            "Epoch 00072: val_acc did not improve from 0.89642\n",
            "144/144 [==============================] - 18s 126ms/step - loss: 0.0181 - acc: 0.9950 - val_loss: 0.4591 - val_acc: 0.8950\n",
            "Epoch 73/100\n",
            "144/144 [==============================] - ETA: 0s - loss: 0.0171 - acc: 0.9958\n",
            "Epoch 00073: val_acc did not improve from 0.89642\n",
            "144/144 [==============================] - 18s 125ms/step - loss: 0.0171 - acc: 0.9958 - val_loss: 0.4655 - val_acc: 0.8870\n",
            "Epoch 74/100\n",
            "144/144 [==============================] - ETA: 0s - loss: 0.0162 - acc: 0.9952\n",
            "Epoch 00074: val_acc improved from 0.89642 to 0.89677, saving model to /content/saved_model/3DCNN_LRN_112_6_jester\n",
            "INFO:tensorflow:Assets written to: /content/saved_model/3DCNN_LRN_112_6_jester/assets\n",
            "144/144 [==============================] - 20s 142ms/step - loss: 0.0162 - acc: 0.9952 - val_loss: 0.4386 - val_acc: 0.8968\n",
            "Epoch 75/100\n",
            "144/144 [==============================] - ETA: 0s - loss: 0.0175 - acc: 0.9946\n",
            "Epoch 00075: val_acc did not improve from 0.89677\n",
            "144/144 [==============================] - 18s 125ms/step - loss: 0.0175 - acc: 0.9946 - val_loss: 0.4351 - val_acc: 0.8961\n",
            "Epoch 76/100\n",
            "144/144 [==============================] - ETA: 0s - loss: 0.0141 - acc: 0.9959\n",
            "Epoch 00076: val_acc did not improve from 0.89677\n",
            "\n",
            "Epoch 00076: ReduceLROnPlateau reducing learning rate to 0.0008333333333333334.\n",
            "144/144 [==============================] - 18s 126ms/step - loss: 0.0141 - acc: 0.9959 - val_loss: 0.4419 - val_acc: 0.8947\n",
            "Epoch 77/100\n",
            "144/144 [==============================] - ETA: 0s - loss: 0.0159 - acc: 0.9951\n",
            "Epoch 00077: val_acc did not improve from 0.89677\n",
            "144/144 [==============================] - 18s 125ms/step - loss: 0.0159 - acc: 0.9951 - val_loss: 0.4414 - val_acc: 0.8933\n",
            "Epoch 78/100\n",
            "144/144 [==============================] - ETA: 0s - loss: 0.0181 - acc: 0.9943\n",
            "Epoch 00078: val_acc did not improve from 0.89677\n",
            "144/144 [==============================] - 18s 124ms/step - loss: 0.0181 - acc: 0.9943 - val_loss: 0.4544 - val_acc: 0.8902\n",
            "Epoch 79/100\n",
            "144/144 [==============================] - ETA: 0s - loss: 0.0180 - acc: 0.9944\n",
            "Epoch 00079: val_acc did not improve from 0.89677\n",
            "144/144 [==============================] - 18s 125ms/step - loss: 0.0180 - acc: 0.9944 - val_loss: 0.4361 - val_acc: 0.8950\n",
            "Epoch 80/100\n",
            "144/144 [==============================] - ETA: 0s - loss: 0.0134 - acc: 0.9967\n",
            "Epoch 00080: val_acc did not improve from 0.89677\n",
            "144/144 [==============================] - 18s 125ms/step - loss: 0.0134 - acc: 0.9967 - val_loss: 0.4423 - val_acc: 0.8929\n",
            "Epoch 81/100\n",
            "144/144 [==============================] - ETA: 0s - loss: 0.0155 - acc: 0.9954\n",
            "Epoch 00081: val_acc did not improve from 0.89677\n",
            "144/144 [==============================] - 18s 125ms/step - loss: 0.0155 - acc: 0.9954 - val_loss: 0.4420 - val_acc: 0.8936\n",
            "Epoch 82/100\n",
            "144/144 [==============================] - ETA: 0s - loss: 0.0145 - acc: 0.9961\n",
            "Epoch 00082: val_acc did not improve from 0.89677\n",
            "144/144 [==============================] - 18s 125ms/step - loss: 0.0145 - acc: 0.9961 - val_loss: 0.4483 - val_acc: 0.8940\n",
            "Epoch 83/100\n",
            "144/144 [==============================] - ETA: 0s - loss: 0.0144 - acc: 0.9957\n",
            "Epoch 00083: val_acc did not improve from 0.89677\n",
            "144/144 [==============================] - 18s 125ms/step - loss: 0.0144 - acc: 0.9957 - val_loss: 0.4506 - val_acc: 0.8933\n",
            "Epoch 84/100\n",
            "144/144 [==============================] - ETA: 0s - loss: 0.0150 - acc: 0.9956\n",
            "Epoch 00084: val_acc did not improve from 0.89677\n",
            "144/144 [==============================] - 18s 125ms/step - loss: 0.0150 - acc: 0.9956 - val_loss: 0.4636 - val_acc: 0.8936\n",
            "Epoch 85/100\n",
            "144/144 [==============================] - ETA: 0s - loss: 0.0126 - acc: 0.9966\n",
            "Epoch 00085: val_acc did not improve from 0.89677\n",
            "144/144 [==============================] - 18s 125ms/step - loss: 0.0126 - acc: 0.9966 - val_loss: 0.4592 - val_acc: 0.8933\n",
            "Epoch 86/100\n",
            "144/144 [==============================] - ETA: 0s - loss: 0.0146 - acc: 0.9957\n",
            "Epoch 00086: val_acc did not improve from 0.89677\n",
            "\n",
            "Epoch 00086: ReduceLROnPlateau reducing learning rate to 0.0008333333333333334.\n",
            "144/144 [==============================] - 18s 125ms/step - loss: 0.0146 - acc: 0.9957 - val_loss: 0.4762 - val_acc: 0.8916\n",
            "Epoch 87/100\n",
            "144/144 [==============================] - ETA: 0s - loss: 0.0140 - acc: 0.9960\n",
            "Epoch 00087: val_acc did not improve from 0.89677\n",
            "144/144 [==============================] - 18s 125ms/step - loss: 0.0140 - acc: 0.9960 - val_loss: 0.4568 - val_acc: 0.8919\n",
            "Epoch 88/100\n",
            "144/144 [==============================] - ETA: 0s - loss: 0.0127 - acc: 0.9969\n",
            "Epoch 00088: val_acc did not improve from 0.89677\n",
            "144/144 [==============================] - 18s 125ms/step - loss: 0.0127 - acc: 0.9969 - val_loss: 0.4611 - val_acc: 0.8916\n",
            "Epoch 89/100\n",
            "144/144 [==============================] - ETA: 0s - loss: 0.0119 - acc: 0.9972\n",
            "Epoch 00089: val_acc did not improve from 0.89677\n",
            "144/144 [==============================] - 18s 125ms/step - loss: 0.0119 - acc: 0.9972 - val_loss: 0.4592 - val_acc: 0.8954\n",
            "Epoch 90/100\n",
            "144/144 [==============================] - ETA: 0s - loss: 0.0129 - acc: 0.9964\n",
            "Epoch 00090: val_acc did not improve from 0.89677\n",
            "144/144 [==============================] - 18s 125ms/step - loss: 0.0129 - acc: 0.9964 - val_loss: 0.4523 - val_acc: 0.8909\n",
            "Epoch 91/100\n",
            "144/144 [==============================] - ETA: 0s - loss: 0.0126 - acc: 0.9961\n",
            "Epoch 00091: val_acc did not improve from 0.89677\n",
            "144/144 [==============================] - 18s 125ms/step - loss: 0.0126 - acc: 0.9961 - val_loss: 0.4640 - val_acc: 0.8943\n",
            "Epoch 92/100\n",
            "144/144 [==============================] - ETA: 0s - loss: 0.0127 - acc: 0.9963\n",
            "Epoch 00092: val_acc improved from 0.89677 to 0.89781, saving model to /content/saved_model/3DCNN_LRN_112_6_jester\n",
            "INFO:tensorflow:Assets written to: /content/saved_model/3DCNN_LRN_112_6_jester/assets\n",
            "144/144 [==============================] - 21s 144ms/step - loss: 0.0127 - acc: 0.9963 - val_loss: 0.4560 - val_acc: 0.8978\n",
            "Epoch 93/100\n",
            "144/144 [==============================] - ETA: 0s - loss: 0.0124 - acc: 0.9966\n",
            "Epoch 00093: val_acc improved from 0.89781 to 0.89885, saving model to /content/saved_model/3DCNN_LRN_112_6_jester\n",
            "INFO:tensorflow:Assets written to: /content/saved_model/3DCNN_LRN_112_6_jester/assets\n",
            "144/144 [==============================] - 21s 144ms/step - loss: 0.0124 - acc: 0.9966 - val_loss: 0.4513 - val_acc: 0.8989\n",
            "Epoch 94/100\n",
            "144/144 [==============================] - ETA: 0s - loss: 0.0121 - acc: 0.9966\n",
            "Epoch 00094: val_acc did not improve from 0.89885\n",
            "144/144 [==============================] - 18s 126ms/step - loss: 0.0121 - acc: 0.9966 - val_loss: 0.4575 - val_acc: 0.8936\n",
            "Epoch 95/100\n",
            "144/144 [==============================] - ETA: 0s - loss: 0.0106 - acc: 0.9975\n",
            "Epoch 00095: val_acc did not improve from 0.89885\n",
            "144/144 [==============================] - 18s 125ms/step - loss: 0.0106 - acc: 0.9975 - val_loss: 0.4568 - val_acc: 0.8957\n",
            "Epoch 96/100\n",
            "144/144 [==============================] - ETA: 0s - loss: 0.0117 - acc: 0.9968\n",
            "Epoch 00096: val_acc did not improve from 0.89885\n",
            "\n",
            "Epoch 00096: ReduceLROnPlateau reducing learning rate to 0.0008333333333333334.\n",
            "144/144 [==============================] - 18s 125ms/step - loss: 0.0117 - acc: 0.9968 - val_loss: 0.4716 - val_acc: 0.8909\n",
            "Epoch 97/100\n",
            "144/144 [==============================] - ETA: 0s - loss: 0.0141 - acc: 0.9957\n",
            "Epoch 00097: val_acc did not improve from 0.89885\n",
            "144/144 [==============================] - 18s 125ms/step - loss: 0.0141 - acc: 0.9957 - val_loss: 0.4683 - val_acc: 0.8964\n",
            "Epoch 98/100\n",
            "144/144 [==============================] - ETA: 0s - loss: 0.0120 - acc: 0.9961\n",
            "Epoch 00098: val_acc did not improve from 0.89885\n",
            "144/144 [==============================] - 18s 125ms/step - loss: 0.0120 - acc: 0.9961 - val_loss: 0.4596 - val_acc: 0.8957\n",
            "Epoch 99/100\n",
            "144/144 [==============================] - ETA: 0s - loss: 0.0124 - acc: 0.9968\n",
            "Epoch 00099: val_acc did not improve from 0.89885\n",
            "144/144 [==============================] - 18s 125ms/step - loss: 0.0124 - acc: 0.9968 - val_loss: 0.4729 - val_acc: 0.8936\n",
            "Epoch 100/100\n",
            "144/144 [==============================] - ETA: 0s - loss: 0.0126 - acc: 0.9964\n",
            "Epoch 00100: val_acc did not improve from 0.89885\n",
            "144/144 [==============================] - 18s 125ms/step - loss: 0.0126 - acc: 0.9964 - val_loss: 0.4671 - val_acc: 0.8961\n"
          ],
          "name": "stdout"
        }
      ]
    },
    {
      "cell_type": "code",
      "metadata": {
        "id": "EJRmzJlS4ziP",
        "outputId": "04f2f8d3-00ca-482c-9084-a9cf65f0af61",
        "colab": {
          "base_uri": "https://localhost:8080/",
          "height": 617
        }
      },
      "source": [
        "[loss, acc] = model.evaluate(x_test,y_test,verbose=1)\n",
        "print(\"Accuracy:\" + str(acc*100)+\"%\")\n",
        "epochs = [i for i in range(100)]\n",
        "fig , ax = plt.subplots(1,2)\n",
        "train_acc = hist.history['acc']\n",
        "train_loss = hist.history['loss']\n",
        "val_acc = hist.history['val_acc']\n",
        "val_loss = hist.history['val_loss']\n",
        "fig.set_size_inches(16,9)\n",
        "\n",
        "ax[0].plot(epochs , train_acc,'go-',label='Training Accuracy')\n",
        "ax[0].plot(epochs , val_acc,'ro-',label='Testing Accuracy')\n",
        "ax[0].set_title('Training & Validation Accuracy')\n",
        "ax[0].legend()\n",
        "ax[0].set_xlabel(\"Epochs\")\n",
        "ax[0].set_ylabel(\"Accuracy\")\n",
        "\n",
        "ax[1].plot(epochs , train_loss,'g-o',label='Training Loss')\n",
        "ax[1].plot(epochs , val_loss,'r-o',label='Testing Loss')\n",
        "ax[1].set_title('Testing Accuracy & Loss')\n",
        "ax[1].legend()\n",
        "ax[1].set_xlabel(\"Epochs\")\n",
        "ax[1].set_ylabel(\"Loss\")"
      ],
      "execution_count": 34,
      "outputs": [
        {
          "output_type": "stream",
          "text": [
            "57/57 [==============================] - 1s 15ms/step - loss: 0.7948 - acc: 0.8515\n",
            "Accuracy:85.15016436576843%\n"
          ],
          "name": "stdout"
        },
        {
          "output_type": "execute_result",
          "data": {
            "text/plain": [
              "Text(0, 0.5, 'Loss')"
            ]
          },
          "metadata": {
            "tags": []
          },
          "execution_count": 34
        },
        {
          "output_type": "display_data",
          "data": {
            "image/png": "[encoded data removed]",
            "text/plain": [
              "<Figure size 1152x648 with 2 Axes>"
            ]
          },
          "metadata": {
            "tags": [],
            "needs_background": "light"
          }
        }
      ]
    },
    {
      "cell_type": "markdown",
      "metadata": {
        "id": "BQDCy-2w0nkY"
      },
      "source": [
        ""
      ]
    },
    {
      "cell_type": "code",
      "metadata": {
        "id": "pCJkJPCXitSi"
      },
      "source": [
        "model.save_weights('/w.tf', save_format='tf')"
      ],
      "execution_count": null,
      "outputs": []
    },
    {
      "cell_type": "markdown",
      "metadata": {
        "id": "zdHxpXXVnG7G"
      },
      "source": [
        "**Make Predictions**"
      ]
    },
    {
      "cell_type": "code",
      "metadata": {
        "id": "7DGZXAzonL9J"
      },
      "source": [
        "x_test.shape"
      ],
      "execution_count": null,
      "outputs": []
    },
    {
      "cell_type": "code",
      "metadata": {
        "id": "KYgTKKCknZHc"
      },
      "source": [
        "y_test.shape"
      ],
      "execution_count": null,
      "outputs": []
    },
    {
      "cell_type": "code",
      "metadata": {
        "id": "iww1i12XnaQU"
      },
      "source": [
        "np.unique(y_test, return_counts=True)"
      ],
      "execution_count": null,
      "outputs": []
    },
    {
      "cell_type": "markdown",
      "metadata": {
        "id": "gncuNhVlnd29"
      },
      "source": [
        "Make Prediction"
      ]
    },
    {
      "cell_type": "code",
      "metadata": {
        "id": "aMssBvRkngZ1"
      },
      "source": [
        "y_pred = model.predict(x_test)"
      ],
      "execution_count": null,
      "outputs": []
    },
    {
      "cell_type": "code",
      "metadata": {
        "id": "GtRY1NNXnkXC"
      },
      "source": [
        "y_pred.shape"
      ],
      "execution_count": null,
      "outputs": []
    },
    {
      "cell_type": "code",
      "metadata": {
        "id": "oY4-oRFwnp4A"
      },
      "source": [
        "y_pred = np.argmax(y_pred, axis=-1)\n",
        "y_pred.shape"
      ],
      "execution_count": null,
      "outputs": []
    },
    {
      "cell_type": "code",
      "metadata": {
        "id": "hFdTw0VtnsmZ"
      },
      "source": [
        "y_pred"
      ],
      "execution_count": null,
      "outputs": []
    },
    {
      "cell_type": "markdown",
      "metadata": {
        "id": "j-Ru4DsPny8K"
      },
      "source": [
        "**Analysis**"
      ]
    },
    {
      "cell_type": "code",
      "metadata": {
        "id": "C6bf0sinnwVS"
      },
      "source": [
        "from sklearn.metrics import confusion_matrix, accuracy_score, precision_score, recall_score, f1_score"
      ],
      "execution_count": null,
      "outputs": []
    },
    {
      "cell_type": "code",
      "metadata": {
        "id": "g3ep55lLn__Y"
      },
      "source": [
        "labels = list(LABELS.keys())\n",
        "labels"
      ],
      "execution_count": null,
      "outputs": []
    },
    {
      "cell_type": "markdown",
      "metadata": {
        "id": "QnUaOdploC9T"
      },
      "source": [
        "**1. Confusion Matrix**"
      ]
    },
    {
      "cell_type": "code",
      "metadata": {
        "id": "FQQZcc9roGe_"
      },
      "source": [
        "cm = confusion_matrix(y_test, y_pred, normalize='true')\n",
        "df_cm = pd.DataFrame(cm, range(6), range(6))\n",
        "plt.figure(figsize=(15,15))\n",
        "sbn.set(font_scale=1.4) # for label size\n",
        "sbn.heatmap(df_cm, annot=True, annot_kws={\"size\": 16}, xticklabels=labels, yticklabels=labels)\n",
        "\n",
        "plt.show()"
      ],
      "execution_count": null,
      "outputs": []
    },
    {
      "cell_type": "markdown",
      "metadata": {
        "id": "h05qbbSLoP8q"
      },
      "source": [
        "**2. Accuracy**"
      ]
    },
    {
      "cell_type": "code",
      "metadata": {
        "id": "jDYAoht9oR2N"
      },
      "source": [
        "accuracy_score(y_test, y_pred)"
      ],
      "execution_count": null,
      "outputs": []
    },
    {
      "cell_type": "markdown",
      "metadata": {
        "id": "ptSNcutSoaA_"
      },
      "source": [
        "**3. Precision**"
      ]
    },
    {
      "cell_type": "code",
      "metadata": {
        "id": "BF7RDrSRoYNJ"
      },
      "source": [
        "precision_score(y_test, y_pred, average='macro')"
      ],
      "execution_count": null,
      "outputs": []
    },
    {
      "cell_type": "markdown",
      "metadata": {
        "id": "yMN-jZmBoqxP"
      },
      "source": [
        "**4. Recall**"
      ]
    },
    {
      "cell_type": "code",
      "metadata": {
        "id": "ZyXBO4juotSL"
      },
      "source": [
        "recall_score(y_test, y_pred, average='macro')"
      ],
      "execution_count": null,
      "outputs": []
    },
    {
      "cell_type": "markdown",
      "metadata": {
        "id": "XE5NVuQVo0hE"
      },
      "source": [
        "**5. F1**"
      ]
    },
    {
      "cell_type": "code",
      "metadata": {
        "id": "eRBmZhRyowce"
      },
      "source": [
        "f1_score(y_test, y_pred, average='macro')"
      ],
      "execution_count": null,
      "outputs": []
    }
  ]
}